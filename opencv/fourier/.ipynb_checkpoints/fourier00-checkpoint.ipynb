{
 "cells": [
  {
   "cell_type": "markdown",
   "metadata": {},
   "source": [
    "#    Fourier\n",
    "\n",
    "<b>Sreenivas Bhattiprolu</b><br>\n",
    "https://www.youtube.com/watch?v=Wka_XhcZAcQ\n",
    "\n",
    "https://github.com/bnsreenu/python_for_microscopists/blob/master/106_image_filters_using_fourier_transform_DFT.py\n",
    " \n",
    " "
   ]
  },
  {
   "cell_type": "code",
   "execution_count": null,
   "metadata": {},
   "outputs": [],
   "source": [
    "import cv2\n",
    "import numpy as np\n",
    "import glob\n",
    " \n",
    "from matplotlib import pyplot as plt"
   ]
  },
  {
   "cell_type": "code",
   "execution_count": null,
   "metadata": {},
   "outputs": [],
   "source": [
    "BASE_FOLDER = 'C:/Users/gilfm/Pictures/Saved Pictures/'\n",
    "\n",
    "img_name = \"lena.png\"\n",
    "path = BASE_FOLDER + img_name\n",
    "\n",
    "\n",
    "img1 = cv2.imread(path) # load an image\n",
    "img  = cv2.imread(path, 0)"
   ]
  },
  {
   "cell_type": "code",
   "execution_count": null,
   "metadata": {},
   "outputs": [],
   "source": [
    "imgorg = cv2.imread(path)\n",
    "img = cv2.imread(path, 0) \n"
   ]
  },
  {
   "cell_type": "code",
   "execution_count": null,
   "metadata": {},
   "outputs": [],
   "source": [
    " "
   ]
  },
  {
   "cell_type": "code",
   "execution_count": null,
   "metadata": {},
   "outputs": [],
   "source": [
    " "
   ]
  },
  {
   "cell_type": "code",
   "execution_count": null,
   "metadata": {},
   "outputs": [],
   "source": [
    "\n",
    "#Output is a 2D complex array. 1st channel real and 2nd imaginary\n",
    "#For fft in opencv input image needs to be converted to float32\n",
    "dft = cv2.dft(np.float32(img), flags=cv2.DFT_COMPLEX_OUTPUT)\n",
    "\n",
    "#Rearranges a Fourier transform X by shifting the zero-frequency\n",
    "#component to the center of the array.\n",
    "#Otherwise it starts at the tope left corenr of the image (array)\n",
    "dft_shift = np.fft.fftshift(dft)"
   ]
  },
  {
   "cell_type": "code",
   "execution_count": null,
   "metadata": {},
   "outputs": [],
   "source": [
    " \n",
    "##Magnitude of the function is 20.log(abs(f))\n",
    "#For values that are 0 we may end up with indeterminate values for log.\n",
    "#So we can add 1 to the array to avoid seeing a warning.\n",
    "magnitude_spectrum = 20 * np.log(cv2.magnitude(dft_shift[:, :, 0], dft_shift[:, :, 1]))"
   ]
  },
  {
   "cell_type": "code",
   "execution_count": null,
   "metadata": {},
   "outputs": [],
   "source": [
    " \n",
    "    # Circular HPF mask, center circle is 0, remaining all ones\n",
    "    #Can be used for edge detection because low frequencies at center are blocked\n",
    "    #and only high frequencies are allowed. Edges are high frequency components.\n",
    "    #Amplifies noise.\n",
    "\n",
    "rows, cols = img.shape\n",
    "crow, ccol = int(rows / 2), int(cols / 2)"
   ]
  },
  {
   "cell_type": "code",
   "execution_count": null,
   "metadata": {},
   "outputs": [],
   "source": [
    "mask = np.ones((rows, cols, 2), np.uint8)\n",
    "r = 80\n",
    "center = [crow, ccol]\n",
    "x, y = np.ogrid[:rows, :cols]\n",
    "mask_area = (x - center[0]) ** 2 + (y - center[1]) ** 2 <= r*r\n",
    "# mask_area is a matrix size rowsxcols] each cell True/False\n",
    "mask[mask_area] = 0"
   ]
  },
  {
   "cell_type": "code",
   "execution_count": null,
   "metadata": {},
   "outputs": [],
   "source": [
    "mask_area[25,25]\n"
   ]
  },
  {
   "cell_type": "code",
   "execution_count": null,
   "metadata": {},
   "outputs": [],
   "source": [
    " # apply mask and inverse DFT\n",
    "    fshift = dft_shift * mask\n",
    "\n",
    "    fshift_mask_mag = 2000 * np.log(cv2.magnitude(fshift[:, :, 0], fshift[:, :, 1]))\n",
    "\n",
    "    f_ishift = np.fft.ifftshift(fshift)\n",
    "    img_back = cv2.idft(f_ishift)\n",
    "    img_back = cv2.magnitude(img_back[:, :, 0], img_back[:, :, 1])"
   ]
  },
  {
   "cell_type": "code",
   "execution_count": null,
   "metadata": {},
   "outputs": [],
   "source": [
    "\n",
    "    fig = plt.figure(figsize=(12, 10))\n",
    "    ax1 = fig.add_subplot(2,2,1)\n",
    "    ax1.imshow(img1)\n",
    "    ax1.title.set_text('Input Image')\n",
    "    ax2 = fig.add_subplot(2,2,2)\n",
    "    ax2.imshow(magnitude_spectrum, cmap='gray')\n",
    "    ax2.title.set_text('FFT of image')\n",
    "    ax3 = fig.add_subplot(2,2,3)\n",
    "    ax3.imshow(fshift_mask_mag, cmap='gray')\n",
    "    ax3.title.set_text('FFT + Mask')\n",
    "    ax4 = fig.add_subplot(2,2,4)\n",
    "    ax4.imshow(img_back, cmap='gray')\n",
    "    ax4.title.set_text('After inverse FFT')\n",
    "    plt.show()"
   ]
  },
  {
   "cell_type": "code",
   "execution_count": null,
   "metadata": {},
   "outputs": [],
   "source": []
  },
  {
   "cell_type": "code",
   "execution_count": null,
   "metadata": {},
   "outputs": [],
   "source": []
  }
 ],
 "metadata": {
  "anaconda-cloud": {},
  "kernelspec": {
   "display_name": "Python 3",
   "language": "python",
   "name": "python3"
  },
  "language_info": {
   "codemirror_mode": {
    "name": "ipython",
    "version": 3
   },
   "file_extension": ".py",
   "mimetype": "text/x-python",
   "name": "python",
   "nbconvert_exporter": "python",
   "pygments_lexer": "ipython3",
   "version": "3.6.9"
  }
 },
 "nbformat": 4,
 "nbformat_minor": 4
}
