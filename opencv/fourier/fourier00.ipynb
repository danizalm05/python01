{
 "cells": [
  {
   "cell_type": "markdown",
   "metadata": {},
   "source": [
    "#    Fourier\n",
    " \n",
    " \n",
    " "
   ]
  },
  {
   "cell_type": "code",
   "execution_count": 1,
   "metadata": {},
   "outputs": [],
   "source": [
    "import mediapipe as mp"
   ]
  },
  {
   "cell_type": "code",
   "execution_count": 2,
   "metadata": {},
   "outputs": [
    {
     "data": {
      "text/plain": [
       "'\\nSreenivas Bhattiprolu\\nhttps://www.youtube.com/watch?v=Wka_XhcZAcQ\\nhttps://github.com/bnsreenu/python_for_microscopists/blob/master/106_image_filters_using_fourier_transform_DFT.py\\n'"
      ]
     },
     "execution_count": 2,
     "metadata": {},
     "output_type": "execute_result"
    }
   ],
   "source": [
    "#!/usr/bin/env python\n",
    "'''\n",
    "Sreenivas Bhattiprolu\n",
    "https://www.youtube.com/watch?v=Wka_XhcZAcQ\n",
    "https://github.com/bnsreenu/python_for_microscopists/blob/master/106_image_filters_using_fourier_transform_DFT.py\n",
    "'''"
   ]
  },
  {
   "cell_type": "code",
   "execution_count": 3,
   "metadata": {},
   "outputs": [
    {
     "name": "stderr",
     "output_type": "stream",
     "text": [
      "In C:\\Users\\gilfm\\Miniconda3\\envs\\tensorflow\\lib\\site-packages\\matplotlib\\mpl-data\\stylelib\\_classic_test.mplstyle: \n",
      "The text.latex.preview rcparam was deprecated in Matplotlib 3.3 and will be removed two minor releases later.\n",
      "In C:\\Users\\gilfm\\Miniconda3\\envs\\tensorflow\\lib\\site-packages\\matplotlib\\mpl-data\\stylelib\\_classic_test.mplstyle: \n",
      "The mathtext.fallback_to_cm rcparam was deprecated in Matplotlib 3.3 and will be removed two minor releases later.\n",
      "In C:\\Users\\gilfm\\Miniconda3\\envs\\tensorflow\\lib\\site-packages\\matplotlib\\mpl-data\\stylelib\\_classic_test.mplstyle: Support for setting the 'mathtext.fallback_to_cm' rcParam is deprecated since 3.3 and will be removed two minor releases later; use 'mathtext.fallback : 'cm' instead.\n",
      "In C:\\Users\\gilfm\\Miniconda3\\envs\\tensorflow\\lib\\site-packages\\matplotlib\\mpl-data\\stylelib\\_classic_test.mplstyle: \n",
      "The validate_bool_maybe_none function was deprecated in Matplotlib 3.3 and will be removed two minor releases later.\n",
      "In C:\\Users\\gilfm\\Miniconda3\\envs\\tensorflow\\lib\\site-packages\\matplotlib\\mpl-data\\stylelib\\_classic_test.mplstyle: \n",
      "The savefig.jpeg_quality rcparam was deprecated in Matplotlib 3.3 and will be removed two minor releases later.\n",
      "In C:\\Users\\gilfm\\Miniconda3\\envs\\tensorflow\\lib\\site-packages\\matplotlib\\mpl-data\\stylelib\\_classic_test.mplstyle: \n",
      "The keymap.all_axes rcparam was deprecated in Matplotlib 3.3 and will be removed two minor releases later.\n",
      "In C:\\Users\\gilfm\\Miniconda3\\envs\\tensorflow\\lib\\site-packages\\matplotlib\\mpl-data\\stylelib\\_classic_test.mplstyle: \n",
      "The animation.avconv_path rcparam was deprecated in Matplotlib 3.3 and will be removed two minor releases later.\n",
      "In C:\\Users\\gilfm\\Miniconda3\\envs\\tensorflow\\lib\\site-packages\\matplotlib\\mpl-data\\stylelib\\_classic_test.mplstyle: \n",
      "The animation.avconv_args rcparam was deprecated in Matplotlib 3.3 and will be removed two minor releases later.\n"
     ]
    }
   ],
   "source": [
    "import sys\n",
    "import cv2\n",
    "from matplotlib import pyplot as plt\n",
    "import numpy as np"
   ]
  },
  {
   "cell_type": "code",
   "execution_count": null,
   "metadata": {},
   "outputs": [],
   "source": [
    "usr1 =\"rockman\"\n",
    "usr2 =\"gilfm\"\n",
    "BASE_FOLDER = 'C:/Users/'+usr1 +'/Pictures/Saved Pictures/'\n",
    "img_name = \"lena.png\"\n",
    "path = BASE_FOLDER + img_name\n",
    "\n",
    "imgorg = cv2.imread(path)\n",
    "img = cv2.imread(path, 0)\n",
    "\n",
    "plt.imshow(\"d\",img)\n",
    "plt.show()"
   ]
  },
  {
   "cell_type": "code",
   "execution_count": 52,
   "metadata": {},
   "outputs": [],
   "source": [
    " \n",
    "\n",
    "#Output is a 2D complex array. 1st channel real and 2nd imaginary\n",
    "#For fft in opencv input image needs to be converted to float32\n",
    "dft = cv2.dft(np.float32(img), flags=cv2.DFT_COMPLEX_OUTPUT)\n",
    "\n",
    "#Rearranges a Fourier transform X by shifting the zero-frequency\n",
    "#component to the center of the array.\n",
    "#Otherwise it starts at the tope left corenr of the image (array)\n",
    "dft_shift = np.fft.fftshift(dft)\n",
    "\n",
    "#FFT of image\n",
    "##Magnitude of the function is 20.log(abs(f))\n",
    "#For values that are 0 we may end up with indeterminate values for log.\n",
    "#So we can add 1 to the array to avoid seeing a warning.\n",
    "magnitude_spectrum = 20 * np.log(cv2.magnitude(dft_shift[:, :, 0], dft_shift[:, :, 1]))\n"
   ]
  },
  {
   "cell_type": "code",
   "execution_count": 7,
   "metadata": {},
   "outputs": [
    {
     "ename": "AttributeError",
     "evalue": "'NoneType' object has no attribute 'shape'",
     "output_type": "error",
     "traceback": [
      "\u001b[1;31m---------------------------------------------------------------------------\u001b[0m",
      "\u001b[1;31mAttributeError\u001b[0m                            Traceback (most recent call last)",
      "\u001b[1;32m<ipython-input-7-976419b7663a>\u001b[0m in \u001b[0;36m<module>\u001b[1;34m\u001b[0m\n\u001b[0;32m      4\u001b[0m \u001b[1;31m#Amplifies noise.\u001b[0m\u001b[1;33m\u001b[0m\u001b[1;33m\u001b[0m\u001b[1;33m\u001b[0m\u001b[0m\n\u001b[0;32m      5\u001b[0m \u001b[1;33m\u001b[0m\u001b[0m\n\u001b[1;32m----> 6\u001b[1;33m \u001b[0mrows\u001b[0m\u001b[1;33m,\u001b[0m \u001b[0mcols\u001b[0m \u001b[1;33m=\u001b[0m \u001b[0mimg\u001b[0m\u001b[1;33m.\u001b[0m\u001b[0mshape\u001b[0m\u001b[1;33m\u001b[0m\u001b[1;33m\u001b[0m\u001b[0m\n\u001b[0m\u001b[0;32m      7\u001b[0m \u001b[0mcrow\u001b[0m\u001b[1;33m,\u001b[0m \u001b[0mccol\u001b[0m \u001b[1;33m=\u001b[0m \u001b[0mint\u001b[0m\u001b[1;33m(\u001b[0m\u001b[0mrows\u001b[0m \u001b[1;33m/\u001b[0m \u001b[1;36m2\u001b[0m\u001b[1;33m)\u001b[0m\u001b[1;33m,\u001b[0m \u001b[0mint\u001b[0m\u001b[1;33m(\u001b[0m\u001b[0mcols\u001b[0m \u001b[1;33m/\u001b[0m \u001b[1;36m2\u001b[0m\u001b[1;33m)\u001b[0m\u001b[1;31m#Center point\u001b[0m\u001b[1;33m\u001b[0m\u001b[1;33m\u001b[0m\u001b[0m\n\u001b[0;32m      8\u001b[0m \u001b[1;33m\u001b[0m\u001b[0m\n",
      "\u001b[1;31mAttributeError\u001b[0m: 'NoneType' object has no attribute 'shape'"
     ]
    }
   ],
   "source": [
    "\n",
    "\n",
    "# Circular HPF mask, center circle is 0, remaining all ones\n",
    "#Can be used for edge detection because low frequencies at center are blocked\n",
    "#and only high frequencies are allowed. Edges are high frequency components.\n",
    "#Amplifies noise.\n",
    "\n",
    "rows, cols = img.shape\n",
    "crow, ccol = int(rows / 2), int(cols / 2)#Center point\n",
    "\n",
    "mask = np.ones((rows, cols, 2), np.uint8)#Crate mask fo 2 channels\n",
    "\n",
    "r = 80 # Radius of circular mask\n",
    "center = [crow, ccol]\n",
    "x, y = np.ogrid[:rows, :cols]\n",
    "mask_area = (x - center[0]) ** 2 + (y - center[1]) ** 2 <= r*r\n",
    "mask[mask_area] =  0.9\n",
    "\n",
    "\n",
    "# Circular LPF mask, center circle is 1, remaining all zeros\n",
    "# Only allows low frequency components - smooth regions\n",
    "#Can smooth out noise but blurs edges.\n",
    "\n",
    "\n",
    "# apply mask and inverse DFT\n",
    "fshift = dft_shift * mask \n",
    "\n",
    "fshift_mask_mag = 2000 * np.log(cv2.magnitude(fshift[:, :, 0], fshift[:, :, 1]))\n",
    "\n",
    "f_ishift = np.fft.ifftshift(fshift)#Unshift the privous  shift\n",
    "img_back = cv2.idft(f_ishift)# Inverse   fourier\n",
    "img_back = cv2.magnitude(img_back[:, :, 0], img_back[:, :, 1])\n",
    "\n",
    "\n",
    "\n",
    "fig = plt.figure(figsize=(12, 18))\n",
    "ax1 = fig.add_subplot(2,3,1)\n",
    "ax1.imshow(imgorg )\n",
    "ax1.title.set_text('Input Image')\n",
    "ax2 = fig.add_subplot(2,3,2)\n",
    "ax2.imshow(magnitude_spectrum, cmap='gray')\n",
    "ax2.title.set_text('FFT of image')\n",
    "ax3 = fig.add_subplot(2,3,3)\n",
    "ax3.imshow(fshift_mask_mag, cmap='gray')\n",
    "ax3.title.set_text('FFT + Mask')\n",
    "\n",
    "ax4 = fig.add_subplot(2,3,4)\n",
    "ax4.imshow(img_back, cmap='gray')\n",
    "ax4.title.set_text('After inverse FFT')\n",
    "\n",
    "ax5 = fig.add_subplot(2,3,5)\n",
    "ax5.imshow(img_back, cmap='gray')\n",
    "ax5.title.set_text('After inverse FFT')\n",
    "plt.show()\n",
    "\n",
    "plt.imshow(img_back)\n",
    "plt.show()"
   ]
  },
  {
   "cell_type": "code",
   "execution_count": 64,
   "metadata": {},
   "outputs": [
    {
     "data": {
      "text/plain": [
       "(512, 512, 2)"
      ]
     },
     "execution_count": 64,
     "metadata": {},
     "output_type": "execute_result"
    }
   ],
   "source": [
    "fshift.shape\n",
    "\n"
   ]
  },
  {
   "cell_type": "code",
   "execution_count": null,
   "metadata": {},
   "outputs": [],
   "source": [
    " "
   ]
  },
  {
   "cell_type": "code",
   "execution_count": null,
   "metadata": {},
   "outputs": [],
   "source": [
    " "
   ]
  },
  {
   "cell_type": "code",
   "execution_count": null,
   "metadata": {},
   "outputs": [],
   "source": [
    " "
   ]
  },
  {
   "cell_type": "code",
   "execution_count": 6,
   "metadata": {},
   "outputs": [],
   "source": [
    "img_float32 = np.float32(img)\n"
   ]
  },
  {
   "cell_type": "code",
   "execution_count": 7,
   "metadata": {},
   "outputs": [],
   "source": [
    "#Output is a 2D complex array. 1st channel real and 2nd imaginary\n",
    "#For fft in opencv input image needs to be converted to float32\n",
    "dft = cv2.dft(np.float32(img), flags=cv2.DFT_COMPLEX_OUTPUT)\n",
    "\n",
    "#Rearranges a Fourier transform X by shifting the zero-frequency\n",
    "#component to the center of the array.\n",
    "#Otherwise it starts at the tope left corenr of the image (array)\n",
    "dft_shift = np.fft.fftshift(dft)\n",
    "#print(dft_shift.shape)\n",
    "#Magnitude of the function is 20.log(abs(f))\n",
    "#For values that are 0 we may end up with indeterminate values for log.\n",
    "#So we can add 1 to the array to avoid seeing a warning.\n",
    "magnitude_spectrum = 20 * np.log(cv2.magnitude(dft_shift[:, :, 0], dft_shift[:, :, 1]))\n",
    "             "
   ]
  },
  {
   "cell_type": "code",
   "execution_count": 8,
   "metadata": {},
   "outputs": [],
   "source": [
    "rows, cols = img.shape\n",
    "crow, ccol = int(rows / 2), int(cols / 2)\n",
    "\n",
    "mask = np.ones((rows, cols, 2), np.uint8)\n",
    "r = 80\n",
    "center = [crow, ccol]\n",
    "x, y = np.ogrid[:rows, :cols]\n",
    "mask_area = (x - center[0]) ** 2 + (y - center[1]) ** 2 <= r*r\n",
    "mask[mask_area] = 0"
   ]
  },
  {
   "cell_type": "code",
   "execution_count": 9,
   "metadata": {},
   "outputs": [
    {
     "name": "stderr",
     "output_type": "stream",
     "text": [
      "C:\\Users\\rockman\\Anaconda3\\lib\\site-packages\\ipykernel_launcher.py:9: RuntimeWarning: divide by zero encountered in log\n",
      "  if __name__ == '__main__':\n"
     ]
    }
   ],
   "source": [
    "# Circular LPF mask, center circle is 1, remaining all zeros\n",
    "# Only allows low frequency components - smooth regions\n",
    "#Can smooth out noise but blurs edges.\n",
    "#\n",
    "\n",
    "# apply mask and inverse DFT\n",
    "fshift = dft_shift * mask\n",
    "\n",
    "fshift_mask_mag = 2000 * np.log(cv2.magnitude(fshift[:, :, 0], fshift[:, :, 1]))\n",
    "\n",
    "f_ishift = np.fft.ifftshift(fshift)\n",
    "img_back = cv2.idft(f_ishift)\n",
    "img_back = cv2.magnitude(img_back[:, :, 0], img_back[:, :, 1])\n",
    "\n",
    " \n"
   ]
  },
  {
   "cell_type": "code",
   "execution_count": 12,
   "metadata": {},
   "outputs": [
    {
     "ename": "TypeError",
     "evalue": "Can't convert object of type 'numpy.ndarray' to 'str' for 'winname'",
     "output_type": "error",
     "traceback": [
      "\u001b[1;31m---------------------------------------------------------------------------\u001b[0m",
      "\u001b[1;31mTypeError\u001b[0m                                 Traceback (most recent call last)",
      "\u001b[1;32m<ipython-input-12-fb08b0addd5a>\u001b[0m in \u001b[0;36m<module>\u001b[1;34m()\u001b[0m\n\u001b[1;32m----> 1\u001b[1;33m \u001b[0mcv2\u001b[0m\u001b[1;33m.\u001b[0m\u001b[0mimshow\u001b[0m\u001b[1;33m(\u001b[0m\u001b[0mfshift_mask_mag\u001b[0m \u001b[1;33m,\u001b[0m \u001b[0mimg\u001b[0m\u001b[1;33m)\u001b[0m\u001b[1;33m\u001b[0m\u001b[0m\n\u001b[0m\u001b[0;32m      2\u001b[0m \u001b[0mcv2\u001b[0m\u001b[1;33m.\u001b[0m\u001b[0mwaitKey\u001b[0m\u001b[1;33m(\u001b[0m\u001b[1;36m0\u001b[0m\u001b[1;33m)\u001b[0m\u001b[1;33m\u001b[0m\u001b[0m\n\u001b[0;32m      3\u001b[0m \u001b[0mcv2\u001b[0m\u001b[1;33m.\u001b[0m\u001b[0mdestroyAllWindows\u001b[0m\u001b[1;33m(\u001b[0m\u001b[1;33m)\u001b[0m\u001b[1;33m\u001b[0m\u001b[0m\n\u001b[0;32m      4\u001b[0m \u001b[0mfshift_mask_mag\u001b[0m\u001b[1;33m\u001b[0m\u001b[0m\n",
      "\u001b[1;31mTypeError\u001b[0m: Can't convert object of type 'numpy.ndarray' to 'str' for 'winname'"
     ]
    }
   ],
   "source": [
    "cv2.imshow(fshift_mask_mag , img)   \n",
    "cv2.waitKey(0)\n",
    "cv2.destroyAllWindows()\n",
    "fshift_mask_mag "
   ]
  },
  {
   "cell_type": "code",
   "execution_count": 10,
   "metadata": {},
   "outputs": [
    {
     "data": {
      "image/png": "[encoded data removed]",
      "text/plain": [
       "<Figure size 432x288 with 2 Axes>"
      ]
     },
     "metadata": {},
     "output_type": "display_data"
    }
   ],
   "source": [
    "# apply mask and inverse DFT\n",
    "\n",
    " \n",
    "f_ishift = np.fft.ifftshift(fshift)\n",
    "img_back = cv2.idft(f_ishift)\n",
    "img_back = cv2.magnitude(img_back[:,:,0],img_back[:,:,1])\n",
    "\n",
    "plt.subplot(131),plt.imshow(img, cmap = 'gray')\n",
    "plt.title('Input Image'), plt.xticks([]), plt.yticks([])\n",
    "plt.subplot(132),plt.imshow(img_back, cmap = 'gray')\n",
    "plt.title('Magnitude Spectrum'), plt.xticks([]), plt.yticks([])\n",
    " \n",
    "plt.show()   "
   ]
  },
  {
   "cell_type": "code",
   "execution_count": 30,
   "metadata": {},
   "outputs": [],
   "source": [
    "\n",
    "#Output is a 2D complex array. 1st channel real and 2nd imaginary\n",
    "#For fft in opencv input image needs to be converted to float32\n",
    "dft = cv2.dft(np.float32(img), flags=cv2.DFT_COMPLEX_OUTPUT)\n",
    "\n",
    "#Rearranges a Fourier transform X by shifting the zero-frequency\n",
    "#component to the center of the array.\n",
    "#Otherwise it starts at the tope left corenr of the image (array)\n",
    "dft_shift = np.fft.fftshift(dft)"
   ]
  },
  {
   "cell_type": "code",
   "execution_count": null,
   "metadata": {},
   "outputs": [],
   "source": [
    " \n",
    "##Magnitude of the function is 20.log(abs(f))\n",
    "#For values that are 0 we may end up with indeterminate values for log.\n",
    "#So we can add 1 to the array to avoid seeing a warning.\n",
    "magnitude_spectrum = 20 * np.log(cv2.magnitude(dft_shift[:, :, 0], dft_shift[:, :, 1]))"
   ]
  },
  {
   "cell_type": "code",
   "execution_count": null,
   "metadata": {},
   "outputs": [],
   "source": [
    " \n",
    "    # Circular HPF mask, center circle is 0, remaining all ones\n",
    "    #Can be used for edge detection because low frequencies at center are blocked\n",
    "    #and only high frequencies are allowed. Edges are high frequency components.\n",
    "    #Amplifies noise.\n",
    "\n",
    "rows, cols = img.shape\n",
    "crow, ccol = int(rows / 2), int(cols / 2)"
   ]
  },
  {
   "cell_type": "code",
   "execution_count": null,
   "metadata": {},
   "outputs": [],
   "source": [
    "mask = np.ones((rows, cols, 2), np.uint8)\n",
    "r = 80\n",
    "center = [crow, ccol]\n",
    "x, y = np.ogrid[:rows, :cols]\n",
    "mask_area = (x - center[0]) ** 2 + (y - center[1]) ** 2 <= r*r\n",
    "# mask_area is a matrix size rowsxcols] each cell True/False\n",
    "mask[mask_area] = 0"
   ]
  },
  {
   "cell_type": "code",
   "execution_count": null,
   "metadata": {},
   "outputs": [],
   "source": [
    "mask_area[25,25]\n"
   ]
  },
  {
   "cell_type": "code",
   "execution_count": null,
   "metadata": {},
   "outputs": [],
   "source": [
    " # apply mask and inverse DFT\n",
    "    fshift = dft_shift * mask\n",
    "\n",
    "    fshift_mask_mag = 2000 * np.log(cv2.magnitude(fshift[:, :, 0], fshift[:, :, 1]))\n",
    "\n",
    "    f_ishift = np.fft.ifftshift(fshift)\n",
    "    img_back = cv2.idft(f_ishift)\n",
    "    img_back = cv2.magnitude(img_back[:, :, 0], img_back[:, :, 1])"
   ]
  },
  {
   "cell_type": "code",
   "execution_count": null,
   "metadata": {},
   "outputs": [],
   "source": [
    "\n",
    "    fig = plt.figure(figsize=(12, 10))\n",
    "    ax1 = fig.add_subplot(2,2,1)\n",
    "    ax1.imshow(img1)\n",
    "    ax1.title.set_text('Input Image')\n",
    "    ax2 = fig.add_subplot(2,2,2)\n",
    "    ax2.imshow(magnitude_spectrum, cmap='gray')\n",
    "    ax2.title.set_text('FFT of image')\n",
    "    ax3 = fig.add_subplot(2,2,3)\n",
    "    ax3.imshow(fshift_mask_mag, cmap='gray')\n",
    "    ax3.title.set_text('FFT + Mask')\n",
    "    ax4 = fig.add_subplot(2,2,4)\n",
    "    ax4.imshow(img_back, cmap='gray')\n",
    "    ax4.title.set_text('After inverse FFT')\n",
    "    plt.show()"
   ]
  },
  {
   "cell_type": "code",
   "execution_count": null,
   "metadata": {},
   "outputs": [],
   "source": []
  },
  {
   "cell_type": "code",
   "execution_count": null,
   "metadata": {},
   "outputs": [],
   "source": []
  }
 ],
 "metadata": {
  "anaconda-cloud": {},
  "kernelspec": {
   "display_name": "Python 3",
   "language": "python",
   "name": "python3"
  },
  "language_info": {
   "codemirror_mode": {
    "name": "ipython",
    "version": 3
   },
   "file_extension": ".py",
   "mimetype": "text/x-python",
   "name": "python",
   "nbconvert_exporter": "python",
   "pygments_lexer": "ipython3",
   "version": "3.6.9"
  }
 },
 "nbformat": 4,
 "nbformat_minor": 4
}
