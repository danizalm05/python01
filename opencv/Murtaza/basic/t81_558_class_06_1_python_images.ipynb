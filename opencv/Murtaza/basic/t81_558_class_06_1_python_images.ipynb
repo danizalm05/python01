{
 "cells": [
  {
   "cell_type": "markdown",
   "metadata": {},
   "source": [
    "<a href=\"https://colab.research.google.com/github/jeffheaton/t81_558_deep_learning/blob/master/t81_558_class_06_1_python_images.ipynb\" target=\"_parent\"><img src=\"https://colab.research.google.com/assets/colab-badge.svg\" alt=\"Open In Colab\"/></a>"
   ]
  },
  {
   "cell_type": "markdown",
   "metadata": {
    "colab_type": "text",
    "id": "YDTXd8-Lmp8Q"
   },
   "source": [
    "# T81-558: Applications of Deep Neural Networks\n",
    "**Module 6: Convolutional Neural Networks (CNN) for Computer Vision**\n",
    "* Instructor: [Jeff Heaton](https://sites.wustl.edu/jeffheaton/), McKelvey School of Engineering, [Washington University in St. Louis](https://engineering.wustl.edu/Programs/Pages/default.aspx)\n",
    "* For more information visit the [class website](https://sites.wustl.edu/jeffheaton/t81-558/)."
   ]
  },
  {
   "cell_type": "markdown",
   "metadata": {
    "colab_type": "text",
    "id": "ncNrAEpzmp8S"
   },
   "source": [
    "# Module 6 Material\n",
    "\n",
    "* **Part 6.1: Image Processing in Python** [[Video]](https://www.youtube.com/watch?v=4Bh3gqHkIgc&list=PLjy4p-07OYzulelvJ5KVaT2pDlxivl_BN) [[Notebook]](t81_558_class_06_1_python_images.ipynb)\n",
    "* Part 6.2: Keras Neural Networks for Digits and Fashion MNIST [[Video]](https://www.youtube.com/watch?v=-SA8BmGvWYE&list=PLjy4p-07OYzulelvJ5KVaT2pDlxivl_BN) [[Notebook]](t81_558_class_06_2_cnn.ipynb)\n",
    "* Part 6.3: Implementing a ResNet in Keras [[Video]](https://www.youtube.com/watch?v=qMFKsMeE6fM&list=PLjy4p-07OYzulelvJ5KVaT2pDlxivl_BN) [[Notebook]](t81_558_class_06_3_resnet.ipynb)\n",
    "* Part 6.4: Using Your Own Images with Keras [[Video]](https://www.youtube.com/watch?v=VcFja1fUNSk&list=PLjy4p-07OYzulelvJ5KVaT2pDlxivl_BN) [[Notebook]](t81_558_class_06_4_keras_images.ipynb)\n",
    "* Part 6.5: Recognizing Multiple Images with YOLO Darknet [[Video]](https://www.youtube.com/watch?v=oQcAKvBFli8&list=PLjy4p-07OYzulelvJ5KVaT2pDlxivl_BN) [[Notebook]](t81_558_class_06_5_yolo.ipynb)"
   ]
  },
  {
   "cell_type": "markdown",
   "metadata": {
    "colab_type": "text",
    "id": "i-qb-mcqmp8U"
   },
   "source": [
    "# Part 6.1: Image Processing in Python\n",
    "\n",
    "We will make use of images to demonstrate auto encoders.  To use images in Python, we will make use of the Pillow package.  This package can be installed with the following command.  \n",
    "\n",
    "```\n",
    "pip install pillow\n",
    "```\n",
    "\n",
    "The following program uses Pillow to load and display an image."
   ]
  },
  {
   "cell_type": "code",
   "execution_count": null,
   "metadata": {
    "colab": {
     "base_uri": "https://localhost:8080/",
     "height": 1594
    },
    "colab_type": "code",
    "executionInfo": {
     "elapsed": 13820,
     "status": "ok",
     "timestamp": 1558731561526,
     "user": {
      "displayName": "",
      "photoUrl": "",
      "userId": ""
     },
     "user_tz": 300
    },
    "id": "6gCRC1P9mp8V",
    "outputId": "f9971883-b457-4749-b75b-56763206cda2"
   },
   "outputs": [],
   "source": [
    "from PIL import Image, ImageFile\n",
    "from matplotlib.pyplot import imshow\n",
    "import requests\n",
    "from io import BytesIO\n",
    "import numpy as np\n",
    "\n",
    "%matplotlib inline\n",
    "\n",
    "url = \"https://upload.wikimedia.org/wikipedia/commons/9/92/Brookings.jpg\"\n",
    "\n",
    "response = requests.get(url)\n",
    "img = Image.open(BytesIO(response.content))\n",
    "img.load()\n",
    "\n",
    "print(np.asarray(img))\n",
    "\n",
    "img"
   ]
  },
  {
   "cell_type": "markdown",
   "metadata": {
    "colab_type": "text",
    "id": "nKtGkM3Omp8Y"
   },
   "source": [
    "### Creating Images (from pixels) in Python\n",
    "\n",
    "Pillow can also be used to create an image from a 3D numpy cube.  The rows and columns specify the pixels.  The depth, of 3, specifies red, green and blue.  Here a simple image is created."
   ]
  },
  {
   "cell_type": "code",
   "execution_count": null,
   "metadata": {
    "colab": {
     "base_uri": "https://localhost:8080/",
     "height": 81
    },
    "colab_type": "code",
    "executionInfo": {
     "elapsed": 13820,
     "status": "ok",
     "timestamp": 1558731561527,
     "user": {
      "displayName": "",
      "photoUrl": "",
      "userId": ""
     },
     "user_tz": 300
    },
    "id": "ev3jVU9_mp8Z",
    "outputId": "bc68f3fa-d2f6-4843-b52d-be4f51b115dd"
   },
   "outputs": [],
   "source": [
    "from PIL import Image\n",
    "import numpy as np\n",
    "\n",
    "w, h = 64, 64\n",
    "data = np.zeros((h, w, 3), dtype=np.uint8)\n",
    "\n",
    "# Yellow\n",
    "for row in range(32):\n",
    "    for col in range(32):\n",
    "        data[row,col] = [255,255,0]\n",
    "        \n",
    "# Red\n",
    "for row in range(32):\n",
    "    for col in range(32):\n",
    "        data[row+32,col] = [255,0,0]\n",
    "        \n",
    "# Green\n",
    "for row in range(32):\n",
    "    for col in range(32):\n",
    "        data[row+32,col+32] = [0,255,0]        \n",
    "        \n",
    "# Blue\n",
    "for row in range(32):\n",
    "    for col in range(32):\n",
    "        data[row,col+32] = [0,0,255]                \n",
    "        \n",
    "\n",
    "img = Image.fromarray(data, 'RGB')\n",
    "img"
   ]
  },
  {
   "cell_type": "markdown",
   "metadata": {
    "colab_type": "text",
    "id": "dzsIlZ8Pmp8b"
   },
   "source": [
    "### Transform Images in Python (at the pixel level)\n",
    "\n",
    "We can combine the last two programs and modify images.  Here we take the mean color of each pixel and form a grayscale image."
   ]
  },
  {
   "cell_type": "code",
   "execution_count": null,
   "metadata": {
    "colab": {
     "base_uri": "https://localhost:8080/",
     "height": 778
    },
    "colab_type": "code",
    "executionInfo": {
     "elapsed": 20835,
     "status": "ok",
     "timestamp": 1558731568543,
     "user": {
      "displayName": "",
      "photoUrl": "",
      "userId": ""
     },
     "user_tz": 300
    },
    "id": "bSz9xwZYmp8c",
    "outputId": "06befcee-8fa9-4b52-ecd9-b6775f906d60"
   },
   "outputs": [],
   "source": [
    "from PIL import Image, ImageFile\n",
    "from matplotlib.pyplot import imshow\n",
    "import requests\n",
    "from io import BytesIO\n",
    "\n",
    "%matplotlib inline\n",
    "\n",
    "url = \"https://upload.wikimedia.org/wikipedia/commons/9/92/Brookings.jpg\"\n",
    "#url = \"http://www.heatonresearch.com/images/about-jeff.jpg\"\n",
    "\n",
    "response = requests.get(url)\n",
    "img = Image.open(BytesIO(response.content))\n",
    "img.load()\n",
    "\n",
    "img_array = np.asarray(img)\n",
    "rows = img_array.shape[0]\n",
    "cols = img_array.shape[1]\n",
    "\n",
    "print(\"Rows: {}, Cols: {}\".format(rows,cols))\n",
    "\n",
    "# Create new image\n",
    "img2_array = np.zeros((rows, cols, 3), dtype=np.uint8)\n",
    "for row in range(rows):\n",
    "    for col in range(cols):\n",
    "        t = np.mean(img_array[row,col])\n",
    "        img2_array[row,col] = [t,t,t]\n",
    "\n",
    "img2 = Image.fromarray(img2_array, 'RGB')\n",
    "img2  "
   ]
  },
  {
   "cell_type": "markdown",
   "metadata": {
    "colab_type": "text",
    "id": "tHiHA22Zmp8e"
   },
   "source": [
    "# Standardize Images\n",
    "\n",
    "When processing several images together it is sometimes important to standardize them.  The following code reads a sequence of images and causes them to all be of the same size and perfectly square.  If the input images are not square, cropping will occur."
   ]
  },
  {
   "cell_type": "code",
   "execution_count": null,
   "metadata": {
    "colab": {
     "base_uri": "https://localhost:8080/",
     "height": 1049
    },
    "colab_type": "code",
    "executionInfo": {
     "elapsed": 30812,
     "status": "ok",
     "timestamp": 1558731578520,
     "user": {
      "displayName": "",
      "photoUrl": "",
      "userId": ""
     },
     "user_tz": 300
    },
    "id": "7OvopXw1mp8f",
    "outputId": "2f81ab78-4626-4cb6-b40b-a72045f0e4c4"
   },
   "outputs": [],
   "source": [
    "%matplotlib inline\n",
    "from PIL import Image, ImageFile\n",
    "from matplotlib.pyplot import imshow\n",
    "import requests\n",
    "import numpy as np\n",
    "from io import BytesIO\n",
    "from IPython.display import display, HTML\n",
    "\n",
    "#url = \"http://www.heatonresearch.com/images/about-jeff.jpg\"\n",
    "\n",
    "images = [\n",
    "    \"https://upload.wikimedia.org/wikipedia/commons/9/92/Brookings.jpg\",\n",
    "    \"https://upload.wikimedia.org/wikipedia/commons/f/ff/\"\\\n",
    "        \"WashU_Graham_Chapel.JPG\",\n",
    "    \"https://upload.wikimedia.org/wikipedia/commons/9/9e/SeigleHall.jpg\",\n",
    "    \"https://upload.wikimedia.org/wikipedia/commons/a/aa/WUSTLKnight.jpg\",\n",
    "    \"https://upload.wikimedia.org/wikipedia/commons/3/32/WashUABhall.jpg\",\n",
    "    \"https://upload.wikimedia.org/wikipedia/commons/c/c0/Brown_Hall.jpg\",\n",
    "    \"https://upload.wikimedia.org/wikipedia/commons/f/f4/South40.jpg\"    \n",
    "]\n",
    "\n",
    "\n",
    "def make_square(img):\n",
    "    cols,rows = img.size\n",
    "    extra = abs(rows-cols)/2\n",
    "    \n",
    "    if rows>cols:\n",
    "        r = (0,extra,cols,cols+extra)\n",
    "    else:\n",
    "        r = (extra,0,rows+extra,rows)\n",
    "\n",
    "    return img.crop(r)\n",
    "    \n",
    "x = [] \n",
    "    \n",
    "for url in images:\n",
    "    ImageFile.LOAD_TRUNCATED_IMAGES = False\n",
    "    response = requests.get(url)\n",
    "    img = Image.open(BytesIO(response.content))\n",
    "    img.load()\n",
    "    img = make_square(img)\n",
    "    img = img.resize((128,128), Image.ANTIALIAS)\n",
    "    print(url)\n",
    "    display(img)\n",
    "    img_array = np.asarray(img)\n",
    "    img_array = img_array.flatten()\n",
    "    img_array = img_array.astype(np.float32)\n",
    "    img_array = (img_array-128)/128\n",
    "    x.append(img_array)\n",
    "    \n",
    "\n",
    "x = np.array(x)\n",
    "\n",
    "print(x.shape)\n"
   ]
  },
  {
   "cell_type": "markdown",
   "metadata": {
    "colab_type": "text",
    "id": "X9yPZjf6mp8h"
   },
   "source": [
    "### Adding Noise to an Image\n",
    "\n",
    "Auto encoders can handle noise.  First it is important to see how to add noise to an image.  There are many ways to add such noise.  The following code adds random black squares to the image to produce noise."
   ]
  },
  {
   "cell_type": "code",
   "execution_count": null,
   "metadata": {
    "colab": {
     "base_uri": "https://localhost:8080/",
     "height": 795
    },
    "colab_type": "code",
    "executionInfo": {
     "elapsed": 30814,
     "status": "ok",
     "timestamp": 1558731578523,
     "user": {
      "displayName": "",
      "photoUrl": "",
      "userId": ""
     },
     "user_tz": 300
    },
    "id": "xhnc_8D9mp8h",
    "outputId": "80c606f5-b28f-4e19-ac6c-823eb37ddb6c"
   },
   "outputs": [],
   "source": [
    "from PIL import Image, ImageFile\n",
    "from matplotlib.pyplot import imshow\n",
    "import requests\n",
    "from io import BytesIO\n",
    "\n",
    "%matplotlib inline\n",
    "\n",
    "\n",
    "def add_noise(a):\n",
    "    a2 = a.copy()\n",
    "    rows = a2.shape[0]\n",
    "    cols = a2.shape[1]\n",
    "    s = int(min(rows,cols)/20) # size of spot is 1/20 of smallest dimension\n",
    "    \n",
    "    for i in range(100):\n",
    "        x = np.random.randint(cols-s)\n",
    "        y = np.random.randint(rows-s)\n",
    "        a2[y:(y+s),x:(x+s)] = 0\n",
    "        \n",
    "    return a2\n",
    "\n",
    "url = \"https://upload.wikimedia.org/wikipedia/commons/9/92/Brookings.jpg\"\n",
    "#url = \"http://www.heatonresearch.com/images/about-jeff.jpg\"\n",
    "\n",
    "response = requests.get(url)\n",
    "img = Image.open(BytesIO(response.content))\n",
    "img.load()\n",
    "\n",
    "img_array = np.asarray(img)\n",
    "rows = img_array.shape[0]\n",
    "cols = img_array.shape[1]\n",
    "\n",
    "print(\"Rows: {}, Cols: {}\".format(rows,cols))\n",
    "\n",
    "# Create new image\n",
    "img2_array = img_array.astype(np.uint8)\n",
    "print(img2_array.shape)\n",
    "img2_array = add_noise(img2_array)\n",
    "img2 = Image.fromarray(img2_array, 'RGB')\n",
    "img2        \n",
    "        "
   ]
  },
  {
   "cell_type": "markdown",
   "metadata": {
    "colab_type": "text",
    "id": "0eBtaFbimp-M"
   },
   "source": [
    "# Module 6 Assignment\n",
    "\n",
    "You can find the first assignment here: [assignment 6](https://github.com/jeffheaton/t81_558_deep_learning/blob/master/assignments/assignment_yourname_class1.ipynb)"
   ]
  }
 ],
 "metadata": {
  "anaconda-cloud": {},
  "kernelspec": {
   "display_name": "Python 3",
   "language": "python",
   "name": "python3"
  },
  "language_info": {
   "codemirror_mode": {
    "name": "ipython",
    "version": 3
   },
   "file_extension": ".py",
   "mimetype": "text/x-python",
   "name": "python",
   "nbconvert_exporter": "python",
   "pygments_lexer": "ipython3",
   "version": "3.6.4"
  }
 },
 "nbformat": 4,
 "nbformat_minor": 4
}
