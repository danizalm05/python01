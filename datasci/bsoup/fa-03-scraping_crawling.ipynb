{
    "cells": [
        {
            "cell_type": "markdown",
            "metadata": {
                "nbgrader": {
                    "grade": false,
                    "locked": true,
                    "solution": false
                },
                "editable": false,
                "deletable": false
            },
            "source": [
                "![Final Lesson Exercise](images\/Banner_FEX.png)"
            ]
        },
        {
            "cell_type": "markdown",
            "metadata": {
                "nbgrader": {
                    "grade": false,
                    "locked": true,
                    "solution": false
                },
                "editable": false,
                "deletable": false
            },
            "source": [
                "# Lesson #3: Data Science Introduction \n",
                "## Good movies"
            ]
        },
        {
            "cell_type": "markdown",
            "metadata": {
                "nbgrader": {
                    "grade": false,
                    "locked": true,
                    "solution": false
                },
                "editable": false,
                "deletable": false
            },
            "source": [
                "## About this assignment\n",
                "In this assignment, you will explore information regarding good movies. \n",
                "\n",
                "This time you will do so, using new capabilities, namely, scraping and crawling.\n",
                "\n",
                "In this assignment, you will explore good movies from the [IMDb web site](https:\/\/www.imdb.com\/chart\/top\/).<br\/>\n",
                "You will do this per movie genre (genres such as *comedy* or *drama*).\n",
                "\n",
                "You will *crawl* along web pages and *scrape* information about top rated movies."
            ]
        },
        {
            "cell_type": "markdown",
            "metadata": {
                "nbgrader": {
                    "grade": false,
                    "locked": true,
                    "solution": false
                },
                "editable": false,
                "deletable": false
            },
            "source": [
                "## Preceding Step - import modules (packages)\n",
                "This step is necessary in order to use external packages. \n",
                "\n",
                "**Use the following libraries for the assignment, when needed**:"
            ]
        },
        {
            "cell_type": "code",
            "execution_count": null,
            "metadata": {
                "collapsed": true,
                "nbgrader": {
                    "grade": false,
                    "locked": true,
                    "solution": false
                },
                "editable": false,
                "deletable": false
            },
            "outputs": [],
            "source": [
                "# ------------>>>>>>>> RUN THIS CODE CELL <<<<<<<<------------\n",
                "# === CELL TYPE: IMPORTS AND SETUP \n",
                "\n",
                "import time      # for testing use only\n",
                "import os         # for testing use only\n",
                "\n",
                "import bs4\n",
                "from bs4 import BeautifulSoup  \n",
                "import pandas as pd\n",
                "import scipy as sc\n",
                "import numpy as np"
            ]
        },
        {
            "cell_type": "markdown",
            "metadata": {
                "nbgrader": {
                    "grade": false,
                    "locked": true,
                    "solution": false
                },
                "editable": false,
                "deletable": false
            },
            "source": [
                "## 1. Scraping "
            ]
        },
        {
            "cell_type": "markdown",
            "metadata": {
                "nbgrader": {
                    "grade": false,
                    "locked": true,
                    "solution": false
                },
                "editable": false,
                "deletable": false
            },
            "source": [
                "### The HTML files in this assignment - important note:\n",
                "\n",
                "In this assignment we will used chached web-pages, instead of working with real web-pages. <br\/>\n",
                "This is done for the following reasons:<br\/>\n",
                "* To avoid any problems with IMDB blocking us from downloading the data many times\n",
                "* to avoid any inconsistency in the data\n",
                "\n",
                "We have cached (downloaded and saved) all the html files (in the [data](data) sub-folder). \n",
                "* The cached entry page is called `IMDb_Top_movies.html` and located in [`data\/IMDb_Top_movies.html`](data\/IMDb_Top_movies.html)\n",
                "\n",
                "#### Viewing the HTML data files:\n",
                "1. First duplicate the assignment tab (in your browser).\n",
                "   * You will work on your assignemt in the original tab, and view the HTML files in the duplicated tab.\n",
                "   * The duplicated tab, should show the 'Jupyter' file explorer.\n",
                "   * The following steps refer to actions in the duplicated tab.\n",
                "+ Click the 'data' folder (in the 'Jupyter' file explorer)\n",
                "+ Select the checkbox, near the relevant file, which you want to view.\n",
                "  * You should start with the entry page `IMDb_Top_movies.html`\n",
                "+ Click `view` button in the top of the page.\n",
                "  * <u>Be careful: do not delete this file<\/u> (the delete button is near the view button).\n",
                "  * After clicking view, the HTML file will be displayed (in another tab).\n",
                "\n",
                "**Note**: After an html file is displayed, you could view the HTML code and 'inspect' it's elements."
            ]
        },
        {
            "cell_type": "markdown",
            "metadata": {
                "nbgrader": {
                    "grade": false,
                    "locked": true,
                    "solution": false
                },
                "editable": false,
                "deletable": false
            },
            "source": [
                "### 1.a. Load the Data\n",
                "As mentioned above, we cached the web pages.<br\/>\n",
                "* You should refer to the cached HTML files, located in the [`data`](data) folder.\n",
                "\n",
                "**For every html file use load a `Beautiful Soup` object**.<br\/>\n",
                "You will later use this object to *scrape* information from this web-page."
            ]
        },
        {
            "cell_type": "markdown",
            "metadata": {
                "nbgrader": {
                    "grade": false,
                    "locked": true,
                    "solution": false
                },
                "editable": false,
                "deletable": false
            },
            "source": [
                "### Renaming the input file name - please read\n",
                "\n",
                "**Important note - don't forget** - all the html files are cached and are located in a sub-folder called 'data'.<br\/>\n",
                "Thus, **you need to add a '.\/data\/' prefix to the given 'html_file_name' input parameter**,<br\/> \n",
                "before loading the soap object.<br\/>\n",
                "\n",
                "For example, **if the name** of the input `html_file_name` parameter **is `'dummy_html.html'`, ** you should **use `'.\/data\/dummy_html.html'` instead**\n"
            ]
        },
        {
            "cell_type": "markdown",
            "metadata": {
                "nbgrader": {
                    "grade": false,
                    "locked": true,
                    "solution": false
                },
                "editable": false,
                "deletable": false
            },
            "source": [
                "### Instructions\n",
                "<u>method name<\/u>: <b>load_soup_object<\/b>\n",
                "<pre>The following is expected:\n",
                "--- Complete the 'load_soup_object' function to create and return a soup object \n",
                "    for a given html file.    \n",
                "    Use BeautifulSoup(html_doc, 'html.parser')\n",
                "<\/pre>    \n",
                "\n",
                "#### don't forget to rename the html file name as mentioned above\n",
                "\n",
                "<hr>\n",
                "\n",
                "Hints:\n",
                "* [open()](https:\/\/docs.python.org\/3\/library\/functions.html#open)\n",
                "* [Beaufitul soup](https:\/\/www.crummy.com\/software\/BeautifulSoup\/bs4\/doc\/#quick-start)"
            ]
        },
        {
            "cell_type": "code",
            "execution_count": null,
            "metadata": {
                "collapsed": true
            },
            "outputs": [],
            "source": [
                "# 1.a.\n",
                "# ------------>>>>>>>> RUN THIS CODE CELL <<<<<<<<------------\n",
                "# --------  (run after implementation)\n",
                "# === CODE TYPE: ANSWER \n",
                "\n",
                "def load_soup_object(html_file_name):\n",
                "    ###\n",
                "    ### YOUR CODE HERE\n",
                "    ###\n"
            ]
        },
        {
            "cell_type": "code",
            "execution_count": null,
            "metadata": {
                "collapsed": true
            },
            "outputs": [],
            "source": [
                "# 1.a.\n",
                "# ------------>>>>>>>> RUN THIS CODE CELL <<<<<<<<------------\n",
                "# --------  (run after implementation)\n",
                "# === CODE TYPE: SELF TESTING\n",
                "# Use the following code to test your implementation:\n",
                "\n",
                "dummy_html = 'dummy_html.html'\n",
                "soup_dummy = load_soup_object(dummy_html)\n",
                "###\n",
                "### YOUR CODE HERE\n",
                "###\n"
            ]
        },
        {
            "cell_type": "code",
            "execution_count": null,
            "metadata": {
                "collapsed": true
            },
            "outputs": [],
            "source": [
                "# 1.a.\n",
                "# ------------>>>>>>>> RUN THIS CODE CELL <<<<<<<<------------\n",
                "# --------  (run after implementation, if used)\n",
                "# === CODE TYPE: SELF TESTING\n",
                "# Add your additional tests here if needed:\n",
                "\n",
                "###\n",
                "### YOUR CODE HERE\n",
                "###\n"
            ]
        },
        {
            "cell_type": "code",
            "execution_count": null,
            "metadata": {
                "collapsed": true,
                "nbgrader": {
                    "grade": true,
                    "grade_id": "test_1a_1-load_soup_object",
                    "locked": true,
                    "points": "0.3",
                    "solution": false
                },
                "editable": false,
                "deletable": false
            },
            "outputs": [],
            "source": [
                "# 1.a.\n",
                "# ------------>>>>>>>> RUN THIS CODE CELL <<<<<<<<------------\n",
                "# --------  (run only)\n",
                "# === CODE TYPE: GRADED TEST \n",
                "\n",
                "print (\"Part 1.a - Test 1 (0.3 points) - Sanity\")\n",
                "print (\"\\t--->Testing the implementation of 'load_soup_object' ...\")\n",
                "\n",
                "dummy_html = 'dummy_html.html'\n",
                "soup_dummy = None\n",
                "try:\n",
                "    soup_dummy = load_soup_object(dummy_html)\n",
                "except Exception as e:\n",
                "    print ('You probably have a syntax error, we got the following exception:')\n",
                "    print (str(e))\n",
                "    raise\n",
                "    \n",
                "except Exception as e:\n",
                "    print ('You probably have a syntax error, we got the following exception:')\n",
                "    print (str(e))\n",
                "\n",
                "print (\"Good Job!\\nYou've passed the 1st test for the 'load_soup_object' function implementation :-)\")"
            ]
        },
        {
            "cell_type": "code",
            "execution_count": null,
            "metadata": {
                "collapsed": true,
                "nbgrader": {
                    "grade": true,
                    "grade_id": "test_1a_2-load_soup_object",
                    "locked": true,
                    "points": "0.7",
                    "solution": false
                },
                "editable": false,
                "deletable": false
            },
            "outputs": [],
            "source": [
                "# 1.a.\n",
                "# ------------>>>>>>>> RUN THIS CODE CELL <<<<<<<<------------\n",
                "# --------  (run only)\n",
                "# === CODE TYPE: GRADED TEST \n",
                "\n",
                "print (\"Part 1.a - Test 2 (0.7 points)\")\n",
                "print (\"\\t---> - Testing the implementation of 'load_soup_object' ...\")\n",
                "\n",
                "dummy_html = 'dummy_html.html'\n",
                "soup_dummy = None\n",
                "try:\n",
                "    soup_dummy = load_soup_object(dummy_html)\n",
                "except Exception as e:\n",
                "    print ('You probably have a syntax error, we got the following exception:')\n",
                "    print (str(e))\n",
                "    raise\n",
                "    \n",
                "assert type(soup_dummy)==bs4.BeautifulSoup, \"Wrong returned object, expecting a 'soup' object\"\n",
                "assert soup_dummy.h1.get_text()=='This is a dummy HTML', \"Soup object doesn't include expected content\"\n",
                "\n",
                "print ('-----------------')\n",
                "print ('Dummy html:')\n",
                "print(soup_dummy.prettify())\n",
                "print ('-----------------\\n')\n",
                "\n",
                "print ('Seams that the soup object was created successfully!')\n",
                "print (\"Good Job!\\nYou've passed the 2nd test for the 'load_soup_object' function implementation :-)\")"
            ]
        },
        {
            "cell_type": "markdown",
            "metadata": {
                "nbgrader": {
                    "grade": false,
                    "locked": true,
                    "solution": false
                },
                "editable": false,
                "deletable": false
            },
            "source": [
                "### 1.b. Extract IMDb movie genres\n",
                "In this sub-section you will *scape* a list of movie genres from the main html page.\n",
                "\n",
                "You need to *scrape* all of the movie genres (such as 'adventure', 'musical' and so on) and the link to the top rated movies by these genres.<br \/>\n",
                "For example, the link to the adventure page on this site is `\"adventure.html\"`."
            ]
        },
        {
            "cell_type": "markdown",
            "metadata": {
                "nbgrader": {
                    "grade": false,
                    "locked": true,
                    "solution": false
                },
                "editable": false,
                "deletable": false
            },
            "source": [
                "### Instructions\n",
                "<u>method name<\/u>: <b>scrape_movie_genre_links<\/b>\n",
                "<pre>The following is expected:\n",
                "--- Complete the 'scrape_movie_genre_links' function to scrape the movie \n",
                "    genre information described above,\n",
                "    from a soup object corresponding to a given 'html_file_name' file. \n",
                "    \n",
                "    You need to return a dataframe with the following columns:\n",
                "    'genre_name', 'link_to_genre_page'\n",
                "    \n",
                "    Each row in the dataframe, should contain the information for \n",
                "    these 2 columns (as described below).\n",
                "    \n",
                "    Start with loading the soup object. Then find out, using inspect element, what defines a catagory and a link.\n",
                "\n",
                "<\/pre>\n",
                "\n",
                "Below you can see a sample dataframe with 2 rows (obviously there are more links on the page):\n",
                "\n",
                "| | genre_name | link_to_genre_page | \n",
                "| :- | :- | :- |\n",
                "| 0 | Action | action.html | \n",
                "| 1 | Adventure | adventure.html | "
            ]
        },
        {
            "cell_type": "code",
            "execution_count": null,
            "metadata": {
                "collapsed": true
            },
            "outputs": [],
            "source": [
                "# 1.b.\n",
                "# ------------>>>>>>>> RUN THIS CODE CELL <<<<<<<<------------\n",
                "# --------  (run after implementation)\n",
                "# === CODE TYPE: ANSWER \n",
                "\n",
                "def scrape_movie_genre_links(html_file_name):\n",
                "    ###\n",
                "    ### YOUR CODE HERE\n",
                "    ###\n"
            ]
        },
        {
            "cell_type": "code",
            "execution_count": null,
            "metadata": {
                "collapsed": true
            },
            "outputs": [],
            "source": [
                "# 1.b.\n",
                "# ------------>>>>>>>> RUN THIS CODE CELL <<<<<<<<------------\n",
                "# --------  (run after implementation, if used)\n",
                "# === CODE TYPE: SELF TESTING\n",
                "# Add your additional tests here if needed:\n",
                "\n",
                "html_file_name = 'IMDb_Top_movies.html'\n",
                "genre_df = scrape_movie_genre_links(html_file_name)\n",
                "###\n",
                "### YOUR CODE HERE\n",
                "###\n"
            ]
        },
        {
            "cell_type": "code",
            "execution_count": null,
            "metadata": {
                "collapsed": true
            },
            "outputs": [],
            "source": [
                "# 1.b.\n",
                "# ------------>>>>>>>> RUN THIS CODE CELL <<<<<<<<------------\n",
                "# --------  (run after implementation, if used)\n",
                "# === CODE TYPE: SELF TESTING\n",
                "# Add your additional tests here if needed:\n",
                "\n",
                "###\n",
                "### YOUR CODE HERE\n",
                "###\n"
            ]
        },
        {
            "cell_type": "code",
            "execution_count": null,
            "metadata": {
                "collapsed": true,
                "nbgrader": {
                    "grade": true,
                    "grade_id": "test_1b_1-basic-scrape_movie_genre_links",
                    "locked": true,
                    "points": "0.5",
                    "solution": false
                },
                "editable": false,
                "deletable": false
            },
            "outputs": [],
            "source": [
                "# 1.b.\n",
                "# ------------>>>>>>>> RUN THIS CODE CELL <<<<<<<<------------\n",
                "# --------  (run only)\n",
                "# === CODE TYPE: GRADED TEST \n",
                "\n",
                "print (\"Part 1.b - Test 1 (0.5 points) - Sanity\")\n",
                "print (\"\\t--->Testing the implementation of 'scrape_movie_genre_links' ...\")\n",
                "\n",
                "html_file_name = 'IMDb_Top_movies.html'\n",
                "categories_df = None\n",
                "\n",
                "try:\n",
                "    genre_df = scrape_movie_genre_links(html_file_name)\n",
                "except Exception as e:\n",
                "    print ('You probably have a syntax error, we got the following exception:')\n",
                "    print (str(e))\n",
                "    raise\n",
                "\n",
                "print (\"Good Job!\\nYou've passed the 1st test for the 'scrape_movie_genre_links' function implementation :-)\")"
            ]
        },
        {
            "cell_type": "code",
            "execution_count": null,
            "metadata": {
                "collapsed": true,
                "nbgrader": {
                    "grade": true,
                    "grade_id": "test_1b_2-basic-scrape_movie_genre_links",
                    "locked": true,
                    "points": "0.5",
                    "solution": false
                },
                "editable": false,
                "deletable": false
            },
            "outputs": [],
            "source": [
                "# 1.b.\n",
                "# ------------>>>>>>>> RUN THIS CODE CELL <<<<<<<<------------\n",
                "# --------  (run only)\n",
                "# === CODE TYPE: GRADED TEST \n",
                "\n",
                "print (\"Part 1.b - Test 2 (0.5 points)\")\n",
                "print (\"\\t---> - Testing the implementation of 'scrape_movie_genre_links' ...\")\n",
                "\n",
                "html_file_name = 'IMDb_Top_movies.html'\n",
                "categories_df = None\n",
                "\n",
                "try:\n",
                "    genre_df = scrape_movie_genre_links(html_file_name)\n",
                "    genre_names = [genre_name.strip() for genre_name in genre_df['genre_name'].values]\n",
                "except Exception as e:\n",
                "    print ('You probably have a syntax error, we got the following exception:')\n",
                "    print (str(e))\n",
                "    raise\n",
                "    \n",
                "assert 'Animation' in genre_names, 'missing categoies'\n",
                "\n",
                "print (\"Good Job!\\nYou've passed the 2nd test for the 'scrape_movie_genre_links' function implementation :-)\")\n",
                "\n",
                "genre_df.head()"
            ]
        },
        {
            "cell_type": "code",
            "execution_count": null,
            "metadata": {
                "collapsed": true,
                "nbgrader": {
                    "grade": true,
                    "grade_id": "test_1b_3-scrape_movie_genre_links",
                    "locked": true,
                    "points": "0.5",
                    "solution": false
                },
                "editable": false,
                "deletable": false
            },
            "outputs": [],
            "source": [
                "# 1.b.\n",
                "# ------------>>>>>>>> RUN THIS CODE CELL <<<<<<<<------------\n",
                "# --------  (run only)\n",
                "# === CODE TYPE: GRADED TEST \n",
                "\n",
                "print (\"Part 1.b - Test 3 (0.5 points)\")\n",
                "print (\"\\t---> - Testing the implementation of 'scrape_movie_genre_links' ...\")\n",
                "\n",
                "html_file_name = 'IMDb_Top_movies.html'\n",
                "categories_df = None\n",
                "try:\n",
                "    genre_df = scrape_movie_genre_links(html_file_name)\n",
                "    genre_names = [genre_name.strip() for genre_name in genre_df['genre_name'].values]  \n",
                "except Exception as e:\n",
                "    print ('You probably have a syntax error, we got the following exception:')\n",
                "    print (str(e))\n",
                "    raise  \n",
                "    \n",
                "assert 21==genre_df.shape[0], \"Wrong number of results for query\"\n",
                "\n",
                "print (\"Good Job!\\nYou've passed the 3rd test for the 'scrape_movie_genre_links' function implementation :-)\")"
            ]
        },
        {
            "cell_type": "code",
            "execution_count": null,
            "metadata": {
                "collapsed": true,
                "nbgrader": {
                    "grade": true,
                    "grade_id": "test_1b_4-scrape_movie_genre_links",
                    "locked": true,
                    "points": "0.5",
                    "solution": false
                },
                "editable": false,
                "deletable": false
            },
            "outputs": [],
            "source": [
                "# 1.b.\n",
                "# ------------>>>>>>>> RUN THIS CODE CELL <<<<<<<<------------\n",
                "# --------  (run only)\n",
                "# === CODE TYPE: GRADED TEST \n",
                "\n",
                "print (\"Part 1.b - Test 4 (0.5 points)\")\n",
                "print (\"\\t--->Testing the implementation of 'scrape_movie_genre_links' ...\")\n",
                "print (\"\\n\\t====> Full grading test - the following test can not be seen before submission\")\n",
                "\n",
                "###\n",
                "### AUTOGRADER TEST - DO NOT REMOVE\n",
                "###\n"
            ]
        },
        {
            "cell_type": "markdown",
            "metadata": {
                "nbgrader": {
                    "grade": false,
                    "locked": true,
                    "solution": false
                },
                "editable": false,
                "deletable": false
            },
            "source": [
                "## 2. Scraping and crawling"
            ]
        },
        {
            "cell_type": "markdown",
            "metadata": {
                "nbgrader": {
                    "grade": false,
                    "locked": true,
                    "solution": false
                },
                "editable": false,
                "deletable": false
            },
            "source": [
                "### Extract top rated movies per genre\n",
                "In this section you will need to extract information regarding the top rated movies, for a specific genre (such as *Drama*).<br\/>\n",
                "\n",
                "The link to the page of the first top movies for a genre, appears in the dataframe returned from the<br\/> 'scrape_movie_genre_links' method (the previous method).<br\/>\n",
                "\n",
                "#### Important note - crawling (and then scaping info from next pages) is needed:\n",
                "The first page (for instance *drama.html*), includes only the first chunk of the top movies, <br\/>\n",
                "and you are required to *crawl* to the next page in order to get more results.<br\/>\n",
                "\n",
                "The number of pages will be given as a parameter and will include the first page of the top movies to that genre.<br\/>\n",
                "* For example, if n_pages=2, and genre is *Drama*, you need another page besides *drama.html*\n",
                "\n",
                "<hr> \n",
                "\n",
                "#### Information you are expected to scrape:\n",
                "You will need to *scrape* the relevant information about the union of all of the movies in these pages.<br\/>\n",
                "You need to extract the following information for each of the top IMDb ranked movies:\n",
                "1. Name of the movie \n",
                "+ The release year\n",
                "+ Genres - each movie, could belong to a few genres. These genres are mentioned in these web-pages.\n",
                "+ Rating for the movie"
            ]
        },
        {
            "cell_type": "markdown",
            "metadata": {
                "nbgrader": {
                    "grade": false,
                    "locked": true,
                    "solution": false
                },
                "editable": false,
                "deletable": false
            },
            "source": [
                "### Instructions\n",
                "<u>method name<\/u>: <b>load_top_rated_movies_per_genre<\/b>\n",
                "<pre>The following is expected:\n",
                "--- Complete the 'load_top_rated_movies_per_genre' function to scrape all the required \n",
                "    information for each of the top movies, as described above, for a specific genre, \n",
                "    given in the 'genre_url_address' parameter (for example: action.html)\n",
                "\n",
                "    Use inspect element to find the link to the next page.\n",
                "    Then, for each URL, crawl it and the next pages of the genre.\n",
                "    You could expect between 1-5 pages (the 'n_pages' parameter) to scrape (including \n",
                "    'genre_url_address', the first page of the genre).\n",
                "    \n",
                "    Use the 'load_soup_object' method (which you have already implemented), to get a soup object for each of the \n",
                "    top rated movies web pages.\n",
                "    \n",
                "    You can create a single soup object using BeautifulSoups' append function\n",
                "    (for additional information visit documentation at:\n",
                "    https:\/\/www.crummy.com\/software\/BeautifulSoup\/bs4\/doc\/#append).\n",
                "    (or join the lists in any other way)\n",
                "\n",
                "    You need to return a dataframe with the following columns:\n",
                "    'movie_name', 'release_year', 'genre_names', 'rating'\n",
                "<\/pre>"
            ]
        },
        {
            "cell_type": "code",
            "execution_count": null,
            "metadata": {
                "collapsed": true,
                "nbgrader": {
                    "grade": false,
                    "locked": false,
                    "solution": false
                }
            },
            "outputs": [],
            "source": [
                "# 2.\n",
                "# ------------>>>>>>>> RUN THIS CODE CELL <<<<<<<<------------\n",
                "# --------  (run after implementation)\n",
                "# === CODE TYPE: ANSWER \n",
                "\n",
                "def load_top_rated_movies_per_genre(genre_url_address,n_pages):\n",
                "    ###\n",
                "    ### YOUR CODE HERE\n",
                "    ###\n"
            ]
        },
        {
            "cell_type": "code",
            "execution_count": null,
            "metadata": {
                "collapsed": true
            },
            "outputs": [],
            "source": [
                "# 2.\n",
                "# ------------>>>>>>>> RUN THIS CODE CELL <<<<<<<<------------\n",
                "# --------  (run after implementation, if used)\n",
                "# === CODE TYPE: SELF TESTING\n",
                "# Add your additional tests here if needed:\n",
                "\n",
                "comedy_movies_df = load_top_rated_movies_per_genre('comedy.html', 3)\n",
                "print(comedy_movies_df)\n",
                "###\n",
                "### YOUR CODE HERE\n",
                "###\n"
            ]
        },
        {
            "cell_type": "code",
            "execution_count": null,
            "metadata": {
                "collapsed": true
            },
            "outputs": [],
            "source": [
                "# 2.\n",
                "# ------------>>>>>>>> RUN THIS CODE CELL <<<<<<<<------------\n",
                "# --------  (run after implementation, if used)\n",
                "# === CODE TYPE: SELF TESTING\n",
                "# Add your additional tests here if needed:\n",
                "\n",
                "###\n",
                "### YOUR CODE HERE\n",
                "###\n"
            ]
        },
        {
            "cell_type": "code",
            "execution_count": null,
            "metadata": {
                "collapsed": true,
                "nbgrader": {
                    "grade": true,
                    "grade_id": "test_2_1-basic-load_top_rated_movies_per_genre",
                    "locked": true,
                    "points": "0.5",
                    "solution": false
                },
                "editable": false,
                "deletable": false
            },
            "outputs": [],
            "source": [
                "# 2.\n",
                "# ------------>>>>>>>> RUN THIS CODE CELL <<<<<<<<------------\n",
                "# --------  (run only)\n",
                "# === CODE TYPE: GRADED TEST \n",
                "\n",
                "print (\"Part 2 - Test 1 (0.5 points) - Sanity\")\n",
                "print (\"\\t--->Testing the implementation of 'load_top_rated_movies_per_genre' ...\")\n",
                "\n",
                "try:\n",
                "    action_movies_df = load_top_rated_movies_per_genre('action.html', 2)\n",
                "    comedy_movies_df = load_top_rated_movies_per_genre('comedy.html', 3)\n",
                "    drama_movies_df  = load_top_rated_movies_per_genre('drama.html', 4)\n",
                "except Exception as e:\n",
                "    print ('You probably have a syntax error, we got the following exception:')\n",
                "    print (str(e))\n",
                "    raise\n",
                "\n",
                "print (\"Good Job!\\nYou've passed the 1st test for the 'load_top_rated_movies_per_genre' function implementation :-)\")"
            ]
        },
        {
            "cell_type": "code",
            "execution_count": null,
            "metadata": {
                "collapsed": true,
                "nbgrader": {
                    "grade": true,
                    "grade_id": "test_2_2-basic-load_top_rated_movies_per_genre",
                    "locked": true,
                    "points": "1",
                    "solution": false
                },
                "editable": false,
                "deletable": false
            },
            "outputs": [],
            "source": [
                "# 2.\n",
                "# ------------>>>>>>>> RUN THIS CODE CELL <<<<<<<<------------\n",
                "# --------  (run only)\n",
                "# === CODE TYPE: GRADED TEST \n",
                "\n",
                "print (\"Part 2 - Test 2 (1 point)\")\n",
                "print (\"\\t--->Testing the implementation of 'load_top_rated_movies_per_genre' ...\")\n",
                "\n",
                "try:\n",
                "    action_movies_df = load_top_rated_movies_per_genre('action.html', 2)\n",
                "    comedy_movies_df = load_top_rated_movies_per_genre('comedy.html', 3)\n",
                "    drama_movies_df = load_top_rated_movies_per_genre('drama.html', 4)\n",
                "except Exception as e:\n",
                "    print ('You probably have a syntax error, we got the following exception:')\n",
                "    print (str(e))\n",
                "    raise\n",
                "    \n",
                "assert action_movies_df['movie_name'].iloc[0]=='The Dark Knight','wrong top action movie name'\n",
                "assert comedy_movies_df['genre_names'].iloc[69]=='Animation, Adventure, Comedy','wrong 70th rated comedy movie genre names'\n",
                "assert drama_movies_df['movie_name'].iloc[109]=='The Wolf of Wall Street','wrong 110th rated drama movie name'\n",
                "\n",
                "print ('Top rated action movie names and ratings:')\n",
                "print (action_movies_df[['movie_name', 'rating']].head())\n",
                "print ('\\n----------------')\n",
                "print ('Top rated comedy movie names and ratings:')\n",
                "print (comedy_movies_df[['movie_name', 'rating']].head())\n",
                "print ('\\n----------------')\n",
                "print ('Top rated drama movie names and ratings:')\n",
                "print (drama_movies_df[['movie_name', 'rating']].head())\n",
                "\n",
                "print (\"Good Job!\\nYou've passed the 2nd test for the 'load_top_rated_movies_per_genre' function implementation :-)\")"
            ]
        },
        {
            "cell_type": "code",
            "execution_count": null,
            "metadata": {
                "collapsed": true,
                "nbgrader": {
                    "grade": true,
                    "grade_id": "test-basic-load_top_rated_movies_per_genre",
                    "locked": true,
                    "points": "0.5",
                    "solution": false
                },
                "editable": false,
                "deletable": false
            },
            "outputs": [],
            "source": [
                "# 2.\n",
                "# ------------>>>>>>>> RUN THIS CODE CELL <<<<<<<<------------\n",
                "# --------  (run only)\n",
                "# === CODE TYPE: GRADED TEST \n",
                "\n",
                "print (\"Part 2 - Test 3 (0.5 points)\")\n",
                "print (\"\\t--->Testing the implementation of 'load_top_rated_movies_per_genre' ...\")\n",
                "\n",
                "try:\n",
                "    action_movies_df = load_top_rated_movies_per_genre('action.html', 5)\n",
                "    comedy_movies_df = load_top_rated_movies_per_genre('comedy.html', 5)\n",
                "    drama_movies_df  = load_top_rated_movies_per_genre('drama.html', 4)\n",
                "except Exception as e:\n",
                "    print ('You probably have a syntax error, we got the following exception:')\n",
                "    print (str(e))\n",
                "    raise\n",
                "    \n",
                "assert action_movies_df.shape[0]==250, 'Wrong number of results for action top movies'\n",
                "assert comedy_movies_df.shape[0]==250, 'Wrong number of results for comedy top movies'\n",
                "\n",
                "print (\"Good Job!\\nYou've passed the 3rd test for the 'load_top_rated_movies_per_genre' function implementation :-)\")"
            ]
        },
        {
            "cell_type": "code",
            "execution_count": null,
            "metadata": {
                "collapsed": true,
                "nbgrader": {
                    "grade": true,
                    "grade_id": "test2_4-load_top_rated_movies_per_genre",
                    "locked": true,
                    "points": "1",
                    "solution": false
                },
                "editable": false,
                "deletable": false
            },
            "outputs": [],
            "source": [
                "# 2.\n",
                "# ------------>>>>>>>> RUN THIS CODE CELL <<<<<<<<------------\n",
                "# --------  (run only)\n",
                "# === CODE TYPE: GRADED TEST \n",
                "\n",
                "print (\"Part 2 - Test 4 (1 point)\")\n",
                "print (\"\\t--->Testing the implementation of 'load_top_rated_movies_per_genre' ...\")\n",
                "print (\"\\n\\t====> Full grading test - the following test can not be seen before submission\")\n",
                "\n",
                "###\n",
                "### AUTOGRADER TEST - DO NOT REMOVE\n",
                "###\n"
            ]
        }
    ],
    "metadata": {
        "kernelspec": {
            "display_name": "Python 3 [3.7]",
            "language": "python",
            "name": "python3"
        },
        "language_info": {
            "codemirror_mode": {
                "name": "ipython",
                "version": 3
            },
            "file_extension": ".py",
            "mimetype": "text\/x-python",
            "name": "python",
            "nbconvert_exporter": "python",
            "pygments_lexer": "ipython3",
            "version": "3.7.5"
        }
    },
    "nbformat": 4,
    "nbformat_minor": 4
}