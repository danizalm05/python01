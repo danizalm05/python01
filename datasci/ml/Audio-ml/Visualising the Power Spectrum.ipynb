{
 "cells": [
  {
   "cell_type": "markdown",
   "metadata": {},
   "source": [
    "#   Extract the Fourier Transform with Python \n",
    "  \n",
    "https://www.youtube.com/watch?v=R-5uxKTRjzM&list=PL-wATfeyAMNqIee7cH3q1bh4QJFAaeNv0&index=14\n",
    "\n",
    "https://github.com/musikalkemist/AudioSignalProcessingForML/tree/master/14-%20Extracting%20the%20Discrete%20Fourier%20Transform\n",
    "\n",
    "24:00"
   ]
  },
  {
   "cell_type": "code",
   "execution_count": null,
   "metadata": {},
   "outputs": [],
   "source": [
    "import os\n",
    "import matplotlib.pyplot as plt\n",
    "import librosa, librosa.display\n",
    "import IPython.display as ipd\n",
    "import numpy as np"
   ]
  },
  {
   "cell_type": "code",
   "execution_count": null,
   "metadata": {},
   "outputs": [],
   "source": [
    "# load audio file in the player\n",
    "BASE_FOLDER = \"C:/Users/rockman/Music/wav\"\n"
   ]
  },
  {
   "cell_type": "code",
   "execution_count": null,
   "metadata": {},
   "outputs": [],
   "source": [
    "#BASE_FOLDER = \"/home/valerio/PycharmProjects/AudioSignalProcessingForML/14- Extracting the Discrete Fourier Transform/audio/\"\n",
    "violin_sound_file = \"violin_c.wav\"\n",
    "piano_sound_file = \"piano_c.wav\"\n",
    "sax_sound_file = \"sax.wav\"\n",
    "noise_sound_file = \"noise.wav\""
   ]
  },
  {
   "cell_type": "code",
   "execution_count": null,
   "metadata": {},
   "outputs": [],
   "source": [
    "ipd.Audio(os.path.join(BASE_FOLDER, violin_sound_file)) "
   ]
  },
  {
   "cell_type": "code",
   "execution_count": null,
   "metadata": {},
   "outputs": [],
   "source": [
    "ipd.Audio(os.path.join(BASE_FOLDER, piano_sound_file)) "
   ]
  },
  {
   "cell_type": "code",
   "execution_count": null,
   "metadata": {},
   "outputs": [],
   "source": [
    "ipd.Audio(os.path.join(BASE_FOLDER, sax_sound_file)) "
   ]
  },
  {
   "cell_type": "code",
   "execution_count": null,
   "metadata": {},
   "outputs": [],
   "source": [
    "ipd.Audio(os.path.join(BASE_FOLDER, noise_sound_file)) "
   ]
  },
  {
   "cell_type": "code",
   "execution_count": null,
   "metadata": {},
   "outputs": [],
   "source": [
    "# load sounds\n",
    "violin_c4, sr = librosa.load(os.path.join(BASE_FOLDER, violin_sound_file))\n",
    "piano_c5, _ = librosa.load(os.path.join(BASE_FOLDER, piano_sound_file))\n",
    "sax_c4, _ = librosa.load(os.path.join(BASE_FOLDER, sax_sound_file))\n",
    "noise, _ = librosa.load(os.path.join(BASE_FOLDER, noise_sound_file))"
   ]
  },
  {
   "cell_type": "code",
   "execution_count": null,
   "metadata": {},
   "outputs": [],
   "source": []
  },
  {
   "cell_type": "code",
   "execution_count": null,
   "metadata": {},
   "outputs": [],
   "source": [
    "l = len(violin_c4)\n",
    "l"
   ]
  },
  {
   "cell_type": "code",
   "execution_count": null,
   "metadata": {},
   "outputs": [],
   "source": [
    "violin_ft = np.fft.fft(violin_c4)\n",
    "print(len(violin_ft),violin_ft.shape)\n",
    "violin_ft[0] # This is the first  cofficent (complex number)"
   ]
  },
  {
   "cell_type": "code",
   "execution_count": null,
   "metadata": {},
   "outputs": [],
   "source": [
    "magnitude_spectrom_violin = np.abs(violin_ft )\n",
    "magnitude_spectrom_violin[0]"
   ]
  },
  {
   "cell_type": "markdown",
   "metadata": {},
   "source": []
  },
  {
   "cell_type": "code",
   "execution_count": null,
   "metadata": {},
   "outputs": [],
   "source": [
    "def plot_magnitude_spectrum(signal, sr, title, f_ratio=1):\n",
    "    X = np.fft.fft(signal)\n",
    "    X_mag = np.absolute(X)\n",
    "    \n",
    "    plt.figure(figsize=(18, 5))\n",
    "    \n",
    "    f = np.linspace(0, sr, len(X_mag)) #numpy.linspace(start, stop, num)\n",
    "    f_bins = int(len(X_mag)*f_ratio)  \n",
    "    \n",
    "    plt.plot(f[:f_bins], X_mag[:f_bins])\n",
    "    plt.xlabel('Frequency (Hz)')\n",
    "    plt.title(title)"
   ]
  },
  {
   "cell_type": "code",
   "execution_count": null,
   "metadata": {},
   "outputs": [],
   "source": [
    "X = np.fft.fft(violin_c4)\n",
    "X_mag = np.absolute(X)\n",
    "X_mag\n",
    "sr\n",
    "len(X_mag)"
   ]
  },
  {
   "cell_type": "code",
   "execution_count": null,
   "metadata": {},
   "outputs": [],
   "source": [
    "plot_magnitude_spectrum(violin_c4, sr, \"violin\", 0.1)"
   ]
  },
  {
   "cell_type": "code",
   "execution_count": null,
   "metadata": {},
   "outputs": [],
   "source": [
    "plot_magnitude_spectrum(sax_c4, sr, \"sax\", 0.1)"
   ]
  },
  {
   "cell_type": "code",
   "execution_count": null,
   "metadata": {},
   "outputs": [],
   "source": [
    "plot_magnitude_spectrum(piano_c5, sr, \"piano\", 0.1)"
   ]
  },
  {
   "cell_type": "code",
   "execution_count": null,
   "metadata": {},
   "outputs": [],
   "source": [
    "plot_magnitude_spectrum(noise, sr, \"noise\", 0.1)"
   ]
  },
  {
   "cell_type": "code",
   "execution_count": null,
   "metadata": {},
   "outputs": [],
   "source": []
  },
  {
   "cell_type": "code",
   "execution_count": null,
   "metadata": {},
   "outputs": [],
   "source": []
  },
  {
   "cell_type": "code",
   "execution_count": null,
   "metadata": {},
   "outputs": [],
   "source": []
  }
 ],
 "metadata": {
  "kernelspec": {
   "display_name": "Python 3",
   "language": "python",
   "name": "python3"
  },
  "language_info": {
   "codemirror_mode": {
    "name": "ipython",
    "version": 3
   },
   "file_extension": ".py",
   "mimetype": "text/x-python",
   "name": "python",
   "nbconvert_exporter": "python",
   "pygments_lexer": "ipython3",
   "version": "3.6.4"
  }
 },
 "nbformat": 4,
 "nbformat_minor": 4
}
