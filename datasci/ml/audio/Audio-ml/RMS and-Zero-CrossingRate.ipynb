{
 "cells": [
  {
   "cell_type": "markdown",
   "metadata": {},
   "source": [
    "# RMS and-Zero-CrossingRate\n",
    "How to extract Root-Mean Square Energy (RMSE) and\n",
    "Zero-Crossing Rate (ZCR) from audio data using the Python library\n",
    "librosa.\n",
    "I also show how RMS and ZCR vary depending on music genre and type\n",
    "of audio source (i.e., voice vs noise).\n",
    "\n",
    "https://www.youtube.com/watch?v=EycaSbIRx-0&list=PL-wATfeyAMNqIee7cH3q1bh4QJFAaeNv0&index=10\n"
   ]
  },
  {
   "cell_type": "markdown",
   "metadata": {},
   "source": [
    "\n",
    "<b>Sound power</b>\n",
    "\n",
    "● Rate at which energy is transferred\n",
    "● Energy per unit of time emitted by a sound source in all directions\n",
    "● Measured in watt (W)\n",
    "\n",
    "<b>Sound intensity</b>\n",
    "\n",
    "● Sound power per unit area\n",
    "● Measured in W/m2\n",
    "\n",
    "<b>Intensity level</b>\n",
    "\n",
    "● Logarithmic scale\n",
    "● Measured in decibels (dB)\n",
    "● Ration between two intensity values\n",
    "● Use an intensity of reference (TOH)\n",
    "\n",
    "<b>Loudness</b>\n",
    "\n",
    "● Subjective perception of sound intensity\n",
    "● Depends on duration / frequency of a sound\n",
    "● Depends on age\n",
    "● Measured in phons\n",
    "\n",
    "<b>Complex sound</b>\n",
    "\n",
    "● Superposition of sinusoids\n",
    "● A partial is a sinusoid used to describe a sound\n",
    "● The lowest partial is called fundamental frequency\n",
    "\n",
    "<b>Analog to digital conversion</b>\n",
    "● Sampling\n",
    "● Quantization\n",
    "\n",
    "<b>Sampling rate</b>  Sr = 1/T\n",
    "\n",
    "<b>Nyquist frequency</b> fn = Sr/2\n",
    "\n",
    "<b>Dynamic range</b>  Difference between largest/smallest signal a system can record\n",
    "\n",
    "<b>Signal-to-quantization-noise ratio   -  SQNR</b>\n",
    "● Relationship between max signal strength and\n",
    "quantization error\n",
    "● Correlates with dynamic range\n",
    "\n",
    "\n",
    "<b>Signal domain</b>\n",
    " 1. Time domain:  Amplitude envelope, Root-mean square energy,\n",
    "   Zero crossing rate\n",
    " 2. Frequency domain: Band energy ratio, Spectral centroid, Spectral flux \n",
    " 3. Time-frequency representation:  Spectrogram, Mel-spectrogram, Constant-Q transform"
   ]
  },
  {
   "cell_type": "markdown",
   "metadata": {},
   "source": [
    "<H1>Audio Signal</H1> \n",
    "\n",
    "<b>Amplitude envelope  AE</b> \n",
    "● Max amplitude value of all samples in a frame\n",
    "● Gives rough idea of loudness\n",
    "● Sensitive to outliers\n",
    "● Onset detection, music genre classification\n",
    "AEt =   max s(k)  -  Amplitude envelope at frame t\n",
    " \n",
    "<b>Root-mean-square energy</b>   \n",
    "● RMS of all samples in a frame t\n",
    "\n",
    "  RMSt =[   (1/K) *  (SIGMA (s(k))^2)   ] ^0.5      SIGMA from k=t*K to  k= (t+1)*K - 1\n",
    "  \n",
    "    Amplitute of k th  sample:  s(k)\n",
    "    Energy of k th  sample:    (s(k))^2\n",
    "    Sum of energy of all samples in frame t:   SIGMA (s(k))^2)\n",
    "    \n",
    "● Indicator of loudness\n",
    "● Less sensitive to outliers than AE\n",
    "\n",
    "● Application :Audio segmentation, music genre classification \n",
    "\n",
    "<b> Zero crossing rate (ZCRt)</b>   14:00\n",
    "● Number of times a signal crosses the horizontal axis\n",
    "        \n",
    "    ZCRt = ( 0.5* SIGMA  | sgn(s(k))- sgn(s(k+1)) | )   SIGMA from k=t*K to  k=(t+1)*K - 1\n",
    "<b>Zero crossing rate applications </b>\n",
    "● Recognition of percussive vs pitched sounds\n",
    "● Monophonic pitch estimation\n",
    "● Voice/unvoiced decision for speech signals    "
   ]
  },
  {
   "cell_type": "code",
   "execution_count": null,
   "metadata": {},
   "outputs": [],
   "source": [
    "import os\n",
    "import matplotlib.pyplot as plt\n",
    "import numpy as np\n",
    "import librosa\n",
    "import librosa.display\n",
    "import IPython.display as ipd"
   ]
  },
  {
   "cell_type": "markdown",
   "metadata": {},
   "source": [
    "## Loading Audio Files"
   ]
  },
  {
   "cell_type": "code",
   "execution_count": null,
   "metadata": {},
   "outputs": [],
   "source": [
    "BASE_FOLDER = \"C:/Users/rockman/Music/wav\"\n",
    " \n",
    " \n",
    "debussy_file = os.path.join(BASE_FOLDER, \"debussy.wav\")\n",
    "redhot_file  = os.path.join(BASE_FOLDER,\"redhot.wav\")\n",
    "duke_file    = os.path.join(BASE_FOLDER,\"duke.wav\")\n",
    "\n",
    " \n",
    "\n"
   ]
  },
  {
   "cell_type": "code",
   "execution_count": null,
   "metadata": {},
   "outputs": [],
   "source": [
    "ipd.Audio(debussy_file)"
   ]
  },
  {
   "cell_type": "code",
   "execution_count": null,
   "metadata": {},
   "outputs": [],
   "source": [
    "ipd.Audio(redhot_file)"
   ]
  },
  {
   "cell_type": "code",
   "execution_count": null,
   "metadata": {},
   "outputs": [],
   "source": [
    "ipd.Audio(duke_file)"
   ]
  },
  {
   "cell_type": "code",
   "execution_count": null,
   "metadata": {},
   "outputs": [],
   "source": [
    "# load audio files with librosa\n",
    "debussy, sr = librosa.load(debussy_file)\n",
    "redhot, _ = librosa.load(redhot_file)\n",
    "duke, _ = librosa.load(duke_file)"
   ]
  },
  {
   "cell_type": "markdown",
   "metadata": {},
   "source": [
    "## Root-mean-squared energy with Librosa"
   ]
  },
  {
   "cell_type": "code",
   "execution_count": null,
   "metadata": {},
   "outputs": [],
   "source": [
    "FRAME_SIZE = 1024\n",
    "HOP_LENGTH = 512"
   ]
  },
  {
   "cell_type": "code",
   "execution_count": null,
   "metadata": {},
   "outputs": [],
   "source": [
    "rms_debussy = librosa.feature.rms(debussy, frame_length=FRAME_SIZE, hop_length=HOP_LENGTH)[0]\n",
    "rms_debussy1 = librosa.feature.rms(debussy, frame_length=FRAME_SIZE, hop_length=HOP_LENGTH) \n",
    "rms_redhot = librosa.feature.rms(redhot, frame_length=FRAME_SIZE, hop_length=HOP_LENGTH)[0]\n",
    "rms_duke = librosa.feature.rms(duke, frame_length=FRAME_SIZE, hop_length=HOP_LENGTH)[0]"
   ]
  },
  {
   "cell_type": "code",
   "execution_count": null,
   "metadata": {},
   "outputs": [],
   "source": [
    "print(\"len(rms_debussy) = \",len(rms_debussy))\n",
    "print(\"rms_debussy.shape \",rms_debussy.shape)\n",
    "print(\"RMS value for each frame in  debussy wav file \\n \",rms_debussy)\n",
    "\n",
    "print(\"\\n\\n-------------------  \\n \" )\n",
    "print(len(rms_debussy1))\n",
    "print(rms_debussy1.shape)\n",
    "print(\"RMS value for each frame in  debussy wav file \\n \",rms_debussy1)"
   ]
  },
  {
   "cell_type": "markdown",
   "metadata": {},
   "source": [
    "## Visualise RMSE + waveform"
   ]
  },
  {
   "cell_type": "code",
   "execution_count": null,
   "metadata": {},
   "outputs": [],
   "source": [
    "\"\"\"\n",
    "librosa.frames_to_time(frames, hop_length=HOP_LENGTH)\n",
    "Returns\n",
    "     timesnp.ndarray [shape=(n,)]\n",
    "     time (in seconds) of each given frame number:\n",
    "     times[i] = frames[i] * hop_length / sr\n",
    " \"\"\"\n",
    "\n",
    "\n",
    "frames = range(len(rms_debussy))\n",
    "t = librosa.frames_to_time(frames, hop_length=HOP_LENGTH)\n",
    "t"
   ]
  },
  {
   "cell_type": "code",
   "execution_count": null,
   "metadata": {},
   "outputs": [],
   "source": [
    "# rms energy is graphed in red   7:04\n",
    "\n",
    "plt.figure(figsize=(15, 17))\n",
    "\n",
    "ax = plt.subplot(3, 1, 1)\n",
    "librosa.display.waveplot(debussy, alpha=0.5)\n",
    "plt.plot(t, rms_debussy, color=\"r\")\n",
    "plt.ylim((-1, 1))\n",
    "plt.title(\"Debusy\")\n",
    "\n",
    "plt.subplot(3, 1, 2)\n",
    "librosa.display.waveplot(redhot, alpha=0.5)\n",
    "plt.plot(t, rms_redhot, color=\"r\")\n",
    "plt.ylim((-1, 1))\n",
    "plt.title(\"RHCP\")\n",
    "\n",
    "plt.subplot(3, 1, 3)\n",
    "librosa.display.waveplot(duke, alpha=0.5)\n",
    "plt.plot(t, rms_duke, color=\"r\")\n",
    "plt.ylim((-1, 1))\n",
    "plt.title(\"Duke Ellington\")\n",
    "\n",
    "plt.show()"
   ]
  },
  {
   "cell_type": "markdown",
   "metadata": {},
   "source": [
    "## RMSE from scratch"
   ]
  },
  {
   "cell_type": "code",
   "execution_count": null,
   "metadata": {},
   "outputs": [],
   "source": [
    "def rmse(signal, frame_size, hop_length):\n",
    "    rmse = []\n",
    "    \n",
    "    # calculate rmse for each frame\n",
    "    for i in range(0, len(signal), hop_length): \n",
    "        rmse_current_frame = np.sqrt(sum(signal[i:i+frame_size]**2) / frame_size)\n",
    "        rmse.append(rmse_current_frame)\n",
    "    return np.array(rmse)    "
   ]
  },
  {
   "cell_type": "code",
   "execution_count": null,
   "metadata": {},
   "outputs": [],
   "source": [
    "rms_debussy1 = rmse(debussy, FRAME_SIZE, HOP_LENGTH)\n",
    "rms_redhot1 = rmse(redhot, FRAME_SIZE, HOP_LENGTH)\n",
    "rms_duke1 = rmse(duke, FRAME_SIZE, HOP_LENGTH)"
   ]
  },
  {
   "cell_type": "code",
   "execution_count": null,
   "metadata": {},
   "outputs": [],
   "source": [
    "#Draw  our  homemade rms function and the lebrose function on \n",
    "#the same  graph\n",
    "plt.figure(figsize=(15, 17))\n",
    "\n",
    "ax = plt.subplot(3, 1, 1)\n",
    "librosa.display.waveplot(debussy, alpha=0.5)\n",
    "plt.plot(t, rms_debussy, color=\"r\")\n",
    "plt.plot(t, rms_debussy1, color=\"y\")\n",
    "plt.ylim((-1, 1))\n",
    "plt.title(\"Debusy\")\n",
    "\n",
    "plt.subplot(3, 1, 2)\n",
    "librosa.display.waveplot(redhot, alpha=0.5)\n",
    "plt.plot(t, rms_redhot, color=\"r\")\n",
    "plt.plot(t, rms_redhot1, color=\"y\")\n",
    "plt.ylim((-1, 1))\n",
    "plt.title(\"RHCP\")\n",
    "\n",
    "plt.subplot(3, 1, 3)\n",
    "librosa.display.waveplot(duke, alpha=0.5)\n",
    "plt.plot(t, rms_duke, color=\"r\")\n",
    "plt.plot(t, rms_duke1, color=\"y\")\n",
    "plt.ylim((-1, 1))\n",
    "plt.title(\"Duke Ellington\")\n",
    "\n",
    "plt.show()"
   ]
  },
  {
   "cell_type": "markdown",
   "metadata": {},
   "source": [
    "## Zero-crossing rate with Librosa"
   ]
  },
  {
   "cell_type": "code",
   "execution_count": null,
   "metadata": {},
   "outputs": [],
   "source": [
    "#https://librosa.org/doc/latest/feature.html#spectral-features\n",
    "#https://librosa.org/doc/latest/generated/librosa.feature.zero_crossing_rate.html#librosa.feature.zero_crossing_rate\n",
    "zcr_debussy = librosa.feature.zero_crossing_rate(debussy, frame_length=FRAME_SIZE, hop_length=HOP_LENGTH)[0]\n",
    "zcr_redhot = librosa.feature.zero_crossing_rate(redhot, frame_length=FRAME_SIZE, hop_length=HOP_LENGTH)[0]\n",
    "zcr_duke = librosa.feature.zero_crossing_rate(duke, frame_length=FRAME_SIZE, hop_length=HOP_LENGTH)[0]\n",
    "\n",
    " \n",
    "#librosa.feature.zero_crossing_rate -  Returns  zcrnp.ndarray [shape=(1, t)]\n",
    " # zcr[0, i] is the fraction of zero crossings in the ith frame\n",
    "zcr_debussy"
   ]
  },
  {
   "cell_type": "code",
   "execution_count": null,
   "metadata": {},
   "outputs": [],
   "source": [
    "zcr_debussy.size"
   ]
  },
  {
   "cell_type": "markdown",
   "metadata": {},
   "source": [
    "## Visualise zero-crossing rate with Librosa"
   ]
  },
  {
   "cell_type": "code",
   "execution_count": null,
   "metadata": {},
   "outputs": [],
   "source": [
    "plt.figure(figsize=(15, 10))\n",
    "\n",
    "plt.plot(t, zcr_debussy, color=\"y\")\n",
    "plt.plot(t, zcr_redhot, color=\"r\")\n",
    "plt.plot(t, zcr_duke, color=\"b\")\n",
    "plt.ylim(0, 1)# zero_crossing_rate is normalized to the range [0,1]\n",
    "plt.show()"
   ]
  },
  {
   "cell_type": "code",
   "execution_count": null,
   "metadata": {},
   "outputs": [],
   "source": [
    " #non normalize zcr.  The y aix numbers are the  real zcr\n",
    "plt.figure(figsize=(15, 10))\n",
    "\n",
    "plt.plot(t, zcr_debussy * FRAME_SIZE , color=\"y\")\n",
    "plt.plot(t, zcr_redhot * FRAME_SIZE, color=\"r\")\n",
    "plt.plot(t, zcr_duke * FRAME_SIZE, color=\"b\")\n",
    "plt.ylim(0, 500)\n",
    "plt.show()"
   ]
  },
  {
   "cell_type": "markdown",
   "metadata": {},
   "source": [
    "## ZCR: Voice vs Noise\n",
    "24"
   ]
  },
  {
   "cell_type": "code",
   "execution_count": null,
   "metadata": {},
   "outputs": [],
   "source": [
    "\n",
    "voice_file   = os.path.join(BASE_FOLDER,\"voice.wav\")\n",
    "noise_file    =os.path.join(BASE_FOLDER,\"noise.wav\")\n",
    "voice_file"
   ]
  },
  {
   "cell_type": "code",
   "execution_count": null,
   "metadata": {},
   "outputs": [],
   "source": [
    "ipd.Audio(voice_file)"
   ]
  },
  {
   "cell_type": "code",
   "execution_count": null,
   "metadata": {},
   "outputs": [],
   "source": [
    "ipd.Audio(noise_file)"
   ]
  },
  {
   "cell_type": "code",
   "execution_count": null,
   "metadata": {},
   "outputs": [],
   "source": [
    "# load audio files\n",
    "DURATION = 15\n",
    "voice, _ = librosa.load(voice_file, duration=DURATION)\n",
    "noise, _ = librosa.load(noise_file, duration=DURATION)"
   ]
  },
  {
   "cell_type": "code",
   "execution_count": null,
   "metadata": {},
   "outputs": [],
   "source": [
    "# get ZCR\n",
    "zcr_voice = librosa.feature.zero_crossing_rate(voice, frame_length=FRAME_SIZE, hop_length=HOP_LENGTH)[0]\n",
    "zcr_noise = librosa.feature.zero_crossing_rate(noise, frame_length=FRAME_SIZE, hop_length=HOP_LENGTH)[0]"
   ]
  },
  {
   "cell_type": "code",
   "execution_count": null,
   "metadata": {},
   "outputs": [],
   "source": [
    "frames = range(len(zcr_voice))\n",
    "t = librosa.frames_to_time(frames, hop_length=HOP_LENGTH)"
   ]
  },
  {
   "cell_type": "code",
   "execution_count": null,
   "metadata": {},
   "outputs": [],
   "source": [
    "plt.figure(figsize=(15, 10))\n",
    "\n",
    "plt.plot(t, zcr_voice, color=\"y\")\n",
    "plt.plot(t, zcr_noise, color=\"r\")\n",
    "plt.ylim(0, 1)\n",
    "plt.show()"
   ]
  },
  {
   "cell_type": "code",
   "execution_count": null,
   "metadata": {},
   "outputs": [],
   "source": []
  },
  {
   "cell_type": "code",
   "execution_count": null,
   "metadata": {},
   "outputs": [],
   "source": []
  }
 ],
 "metadata": {
  "kernelspec": {
   "display_name": "Python 3",
   "language": "python",
   "name": "python3"
  },
  "language_info": {
   "codemirror_mode": {
    "name": "ipython",
    "version": 3
   },
   "file_extension": ".py",
   "mimetype": "text/x-python",
   "name": "python",
   "nbconvert_exporter": "python",
   "pygments_lexer": "ipython3",
   "version": "3.6.4"
  }
 },
 "nbformat": 4,
 "nbformat_minor": 4
}
