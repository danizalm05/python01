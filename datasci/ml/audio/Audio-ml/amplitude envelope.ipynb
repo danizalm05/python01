{
 "cells": [
  {
   "cell_type": "markdown",
   "metadata": {},
   "source": [
    "# Basic processing operations on audio with Librosa\n",
    "Load audio files, visualise waveform. \n",
    "Implement the amplitude envelope feature   and see how it differs for music in different genres.  \n",
    "https://www.youtube.com/watch?v=rlypsap6Wow&list=PL-wATfeyAMNqIee7cH3q1bh4QJFAaeNv0&index=8\n",
    "\n",
    "https://librosa.org/doc/latest/index.html\n",
    "\n",
    "23:00"
   ]
  },
  {
   "cell_type": "code",
   "execution_count": null,
   "metadata": {},
   "outputs": [],
   "source": [
    "import os\n",
    "import matplotlib.pyplot as plt\n",
    "import numpy as np\n",
    "import librosa\n",
    "import librosa.display\n",
    "import IPython.display as ipd"
   ]
  },
  {
   "cell_type": "markdown",
   "metadata": {},
   "source": [
    "## Loading audio files"
   ]
  },
  {
   "cell_type": "code",
   "execution_count": null,
   "metadata": {},
   "outputs": [],
   "source": [
    "BASE_FOLDER = \"C:/Users/rockman/Music/wav\""
   ]
  },
  {
   "cell_type": "code",
   "execution_count": null,
   "metadata": {},
   "outputs": [],
   "source": [
    "debussy_file = os.path.join(BASE_FOLDER,\"debussy.wav\")\n",
    "redhot_file  = os.path.join(BASE_FOLDER,\"redhot.wav\")\n",
    "duke_file    = os.path.join(BASE_FOLDER,\"duke.wav\")\n",
    "piano_c5_file     = os.path.join(BASE_FOLDER,\"piano-c5.wav\")\n",
    "debussy_file"
   ]
  },
  {
   "cell_type": "code",
   "execution_count": null,
   "metadata": {},
   "outputs": [],
   "source": [
    "redhot_file"
   ]
  },
  {
   "cell_type": "code",
   "execution_count": null,
   "metadata": {},
   "outputs": [],
   "source": [
    "ipd.Audio(debussy_file)"
   ]
  },
  {
   "cell_type": "code",
   "execution_count": null,
   "metadata": {},
   "outputs": [],
   "source": [
    "ipd.Audio(redhot_file)"
   ]
  },
  {
   "cell_type": "code",
   "execution_count": null,
   "metadata": {},
   "outputs": [],
   "source": [
    "ipd.Audio(duke_file)"
   ]
  },
  {
   "cell_type": "code",
   "execution_count": null,
   "metadata": {},
   "outputs": [],
   "source": [
    "ipd.Audio(piano_c5_file )"
   ]
  },
  {
   "cell_type": "code",
   "execution_count": null,
   "metadata": {},
   "outputs": [],
   "source": [
    "'''load audio files with librosa\n",
    "  https://librosa.org/doc/latest/generated/librosa.load.html?highlight=load#librosa.load\n",
    "\n",
    " librosa.load(path, sr=22050, mono=True, offset=0.0, \n",
    "           duration=None, dtype=<class 'numpy.float32'>, res_type='kaiser_best') \n",
    "  Returns\n",
    "\n",
    "   1. ynp.ndarray [ shape=(n,)or(2, n) ]: audio time series\n",
    "   2. sr number > 0   sampling rate of y\n",
    "'''\n",
    "\n",
    "debussy, sr    = librosa.load(debussy_file)\n",
    "redhot, _      = librosa.load(redhot_file)\n",
    "duke, _        = librosa.load(duke_file)\n",
    "piano_c5,sr_5  = librosa.load(piano_c5_file) \n",
    "\n"
   ]
  },
  {
   "cell_type": "markdown",
   "metadata": {},
   "source": [
    "## Basic information regarding audio files"
   ]
  },
  {
   "cell_type": "code",
   "execution_count": null,
   "metadata": {},
   "outputs": [],
   "source": [
    "print (\"debussy.shape\",debussy.shape)\n",
    "print (\"piano_c5.shape\",debussy.shape)\n",
    "1 /sr_5"
   ]
  },
  {
   "cell_type": "code",
   "execution_count": null,
   "metadata": {},
   "outputs": [],
   "source": [
    "# duration in seconds of 1 sample\n",
    "sample_duration = 1 / sr\n",
    "print(f\"One sample lasts for {sample_duration:6f} seconds\")"
   ]
  },
  {
   "cell_type": "code",
   "execution_count": null,
   "metadata": {},
   "outputs": [],
   "source": [
    "# total number of samples in audio file\n",
    "tot_samples = len(debussy)\n",
    "\n",
    "print(\"Number of samples debussy \",tot_samples)\n",
    "print(\"Number of samples piano_c5 \",len(piano_c5))\n",
    "debussy"
   ]
  },
  {
   "cell_type": "code",
   "execution_count": null,
   "metadata": {},
   "outputs": [],
   "source": [
    "# duration of debussy audio in seconds\n",
    "duration = 1 / sr * tot_samples\n",
    "print(f\"The audio lasts for {duration} seconds\")"
   ]
  },
  {
   "cell_type": "markdown",
   "metadata": {},
   "source": [
    "## Visualising audio signal in the time domain "
   ]
  },
  {
   "cell_type": "code",
   "execution_count": null,
   "metadata": {},
   "outputs": [],
   "source": [
    "plt.figure(figsize=(15, 17))\n",
    "\n",
    "# ------------   Debusy -----------------\n",
    "plt.subplot(4, 1, 1)\n",
    "librosa.display.waveplot(debussy, alpha=0.5)\n",
    "plt.ylim((-0.7, 0.7))\n",
    "plt.title(\"Debusy\")\n",
    "\n",
    "\n",
    "#-------------   RHCP  ------------\n",
    "plt.subplot(4, 1, 2)\n",
    "librosa.display.waveplot(redhot, alpha=0.5)\n",
    "plt.ylim((-1, 1))\n",
    "plt.title(\"RHCP\")\n",
    "\n",
    "\n",
    "#-------------   Duke Ellington  ------------\n",
    "plt.subplot(4, 1, 3)\n",
    "librosa.display.waveplot(duke, alpha=0.5)\n",
    "plt.ylim((-1, 1))\n",
    "plt.title(\"Duke Ellington\")\n",
    "\n",
    "plt.subplot(4, 1, 4)\n",
    "librosa.display.waveplot(piano_c5, alpha=0.5)\n",
    "plt.ylim((-1, 1))\n",
    "plt.title(\"piano_c5\")\n",
    "\n",
    "\n",
    "plt.show()"
   ]
  },
  {
   "cell_type": "code",
   "execution_count": null,
   "metadata": {},
   "outputs": [],
   "source": [
    "#-------------   piano_c5  ------------\n",
    "plt.figure(figsize=(27, 30))\n",
    "plt.subplot(3, 1, 3)\n",
    "librosa.display.waveplot(piano_c5, alpha=0.5)\n",
    "plt.ylim((-1, 1.5))\n",
    "plt.title(\"piano_c5\")"
   ]
  },
  {
   "cell_type": "markdown",
   "metadata": {},
   "source": [
    "## Calculating amplitude envelope"
   ]
  },
  {
   "cell_type": "code",
   "execution_count": null,
   "metadata": {},
   "outputs": [],
   "source": [
    "FRAME_SIZE = 1024\n",
    "HOP_LENGTH = 512\n",
    "\n",
    "def amplitude_envelope(signal, frame_size, hop_length):\n",
    "    \"\"\"Calculate the amplitude envelope of a signal with a given frame size nad hop length.\"\"\"\n",
    "    amplitude_envelope = []\n",
    "    \n",
    "    # calculate amplitude envelope for each frame\n",
    "    for i in range(0, len(signal), hop_length): #i = i+hop_length\n",
    "        amplitude_envelope_current_frame = max(signal[i:i+frame_size]) \n",
    "        amplitude_envelope.append(amplitude_envelope_current_frame)\n",
    "    \n",
    "    return np.array(amplitude_envelope)    "
   ]
  },
  {
   "cell_type": "code",
   "execution_count": null,
   "metadata": {},
   "outputs": [],
   "source": [
    " "
   ]
  },
  {
   "cell_type": "code",
   "execution_count": null,
   "metadata": {},
   "outputs": [],
   "source": [
    "def fancy_amplitude_envelope(signal, frame_size, hop_length):\n",
    "    \"\"\"Fancier Python code to calculate the amplitude envelope of a signal \n",
    "       with a given frame size.\n",
    "   \"\"\"\n",
    "    return np.array([max(signal[i:i+frame_size]) for i in range(0, len(signal), hop_length)])"
   ]
  },
  {
   "cell_type": "code",
   "execution_count": null,
   "metadata": {},
   "outputs": [],
   "source": [
    "# number of frames in amplitude envelope\n",
    "ae_debussy = amplitude_envelope(debussy, FRAME_SIZE, HOP_LENGTH)\n",
    "print(\"len(ae_debussy) = \",len(ae_debussy))\n",
    "ae_debussy"
   ]
  },
  {
   "cell_type": "code",
   "execution_count": null,
   "metadata": {},
   "outputs": [],
   "source": [
    "ae_debussy = amplitude_envelope(debussy, 512, HOP_LENGTH)\n",
    "print(\"len(ae_debussy) = \",len(ae_debussy))"
   ]
  },
  {
   "cell_type": "code",
   "execution_count": null,
   "metadata": {},
   "outputs": [],
   "source": [
    "# calculate amplitude envelope for RHCP and Duke Ellington\n",
    "ae_redhot = amplitude_envelope(redhot, FRAME_SIZE, HOP_LENGTH)\n",
    "ae_duke = amplitude_envelope(duke, FRAME_SIZE, HOP_LENGTH)"
   ]
  },
  {
   "cell_type": "markdown",
   "metadata": {},
   "source": [
    "## Visualising amplitude envelope"
   ]
  },
  {
   "cell_type": "code",
   "execution_count": null,
   "metadata": {},
   "outputs": [],
   "source": [
    "frames = range(len(ae_debussy))\n",
    "t = librosa.frames_to_time(frames, hop_length=HOP_LENGTH)"
   ]
  },
  {
   "cell_type": "code",
   "execution_count": null,
   "metadata": {},
   "outputs": [],
   "source": [
    "# amplitude envelope is graphed in red\n",
    "\n",
    "plt.figure(figsize=(15, 17))\n",
    "\n",
    "ax = plt.subplot(3, 1, 1)\n",
    "librosa.display.waveplot(debussy, alpha=0.5)\n",
    "plt.plot(t, ae_debussy, color=\"r\")\n",
    "plt.ylim((-1, 1))\n",
    "plt.title(\"Debusy\")\n",
    "\n",
    "plt.subplot(3, 1, 2)\n",
    "librosa.display.waveplot(redhot, alpha=0.5)\n",
    "plt.plot(t, ae_redhot, color=\"r\")\n",
    "plt.ylim((-1, 1))\n",
    "plt.title(\"RHCP\")\n",
    "\n",
    "plt.subplot(3, 1, 3)\n",
    "librosa.display.waveplot(duke, alpha=0.5)\n",
    "plt.plot(t, ae_duke, color=\"r\")\n",
    "plt.ylim((-1, 1))\n",
    "plt.title(\"Duke Ellington\")\n",
    "\n",
    "plt.show()"
   ]
  },
  {
   "cell_type": "code",
   "execution_count": null,
   "metadata": {},
   "outputs": [],
   "source": [
    " "
   ]
  },
  {
   "cell_type": "code",
   "execution_count": null,
   "metadata": {},
   "outputs": [],
   "source": []
  }
 ],
 "metadata": {
  "kernelspec": {
   "display_name": "Python 3",
   "language": "python",
   "name": "python3"
  },
  "language_info": {
   "codemirror_mode": {
    "name": "ipython",
    "version": 3
   },
   "file_extension": ".py",
   "mimetype": "text/x-python",
   "name": "python",
   "nbconvert_exporter": "python",
   "pygments_lexer": "ipython3",
   "version": "3.6.4"
  }
 },
 "nbformat": 4,
 "nbformat_minor": 4
}
