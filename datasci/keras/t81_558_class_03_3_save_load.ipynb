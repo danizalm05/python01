{
 "cells": [
  {
   "cell_type": "markdown",
   "metadata": {},
   "source": [
    "<a href=\"https://colab.research.google.com/github/jeffheaton/t81_558_deep_learning/blob/master/t81_558_class_03_3_save_load.ipynb\" target=\"_parent\"><img src=\"https://colab.research.google.com/assets/colab-badge.svg\" alt=\"Open In Colab\"/></a>"
   ]
  },
  {
   "cell_type": "markdown",
   "metadata": {},
   "source": [
    "# T81-558: Applications of Deep Neural Networks\n",
    "**Module 3: Introduction to TensorFlow**\n",
    "* Instructor: [Jeff Heaton](https://sites.wustl.edu/jeffheaton/), McKelvey School of Engineering, [Washington University in St. Louis](https://engineering.wustl.edu/Programs/Pages/default.aspx)\n",
    "* For more information visit the [class website](https://sites.wustl.edu/jeffheaton/t81-558/)."
   ]
  },
  {
   "cell_type": "markdown",
   "metadata": {},
   "source": [
    "# Module 3 Material\n",
    "\n",
    "* Part 3.1: Deep Learning and Neural Network Introduction [[Video]](https://www.youtube.com/watch?v=zYnI4iWRmpc&list=PLjy4p-07OYzulelvJ5KVaT2pDlxivl_BN) [[Notebook]](t81_558_class_03_1_neural_net.ipynb)\n",
    "* Part 3.2: Introduction to Tensorflow and Keras [[Video]](https://www.youtube.com/watch?v=PsE73jk55cE&list=PLjy4p-07OYzulelvJ5KVaT2pDlxivl_BN) [[Notebook]](t81_558_class_03_2_keras.ipynb)\n",
    "* **Part 3.3: Saving and Loading a Keras Neural Network** [[Video]](https://www.youtube.com/watch?v=-9QfbGM1qGw&list=PLjy4p-07OYzulelvJ5KVaT2pDlxivl_BN) [[Notebook]](t81_558_class_03_3_save_load.ipynb)\n",
    "* Part 3.4: Early Stopping in Keras to Prevent Overfitting [[Video]](https://www.youtube.com/watch?v=m1LNunuI2fk&list=PLjy4p-07OYzulelvJ5KVaT2pDlxivl_BN) [[Notebook]](t81_558_class_03_4_early_stop.ipynb)\n",
    "* Part 3.5: Extracting Weights and Manual Calculation [[Video]](https://www.youtube.com/watch?v=7PWgx16kH8s&list=PLjy4p-07OYzulelvJ5KVaT2pDlxivl_BN) [[Notebook]](t81_558_class_03_5_weights.ipynb)"
   ]
  },
  {
   "cell_type": "markdown",
   "metadata": {},
   "source": [
    "# Google CoLab Instructions\n",
    "\n",
    "The following code ensures that Google CoLab is running the correct version of TensorFlow.\n",
    "  Running the following code will map your GDrive to ```/content/drive```."
   ]
  },
  {
   "cell_type": "code",
   "execution_count": 1,
   "metadata": {},
   "outputs": [
    {
     "name": "stdout",
     "output_type": "stream",
     "text": [
      "Note: not using Google CoLab\n"
     ]
    }
   ],
   "source": [
    "try:\n",
    "    from google.colab import drive\n",
    "    drive.mount('/content/drive', force_remount=True)\n",
    "    COLAB = True\n",
    "    print(\"Note: using Google CoLab\")\n",
    "    %tensorflow_version 2.x\n",
    "except:\n",
    "    print(\"Note: not using Google CoLab\")\n",
    "    COLAB = False"
   ]
  },
  {
   "cell_type": "markdown",
   "metadata": {},
   "source": [
    "# Part 3.3: Saving and Loading a Keras Neural Network\n",
    "\n",
    "Complex neural networks will take a long time to fit/train.  It is helpful to be able to save these neural networks so that they can be reloaded later.  A reloaded neural network will not require retraining.  Keras provides three formats for neural network saving.\n",
    "\n",
    "* **YAML** - Stores the neural network structure (no weights) in the [YAML file format](https://en.wikipedia.org/wiki/YAML).\n",
    "* **JSON** - Stores the neural network structure (no weights) in the [JSON file format](https://en.wikipedia.org/wiki/JSON).\n",
    "* **HDF5** - Stores the complete neural network (with weights) in the [HDF5 file format](https://en.wikipedia.org/wiki/Hierarchical_Data_Format). Do not confuse HDF5 with [HDFS](https://en.wikipedia.org/wiki/Apache_Hadoop).  They are different.  We do not use HDFS in this class.\n",
    "\n",
    "Usually you will want to save in HDF5."
   ]
  },
  {
   "cell_type": "code",
   "execution_count": 1,
   "metadata": {},
   "outputs": [
    {
     "name": "stderr",
     "output_type": "stream",
     "text": [
      "C:\\Users\\gilfm\\Miniconda3\\envs\\tensorflow\\lib\\site-packages\\tensorflow\\python\\framework\\dtypes.py:516: FutureWarning: Passing (type, 1) or '1type' as a synonym of type is deprecated; in a future version of numpy, it will be understood as (type, (1,)) / '(1,)type'.\n",
      "  _np_qint8 = np.dtype([(\"qint8\", np.int8, 1)])\n",
      "C:\\Users\\gilfm\\Miniconda3\\envs\\tensorflow\\lib\\site-packages\\tensorflow\\python\\framework\\dtypes.py:517: FutureWarning: Passing (type, 1) or '1type' as a synonym of type is deprecated; in a future version of numpy, it will be understood as (type, (1,)) / '(1,)type'.\n",
      "  _np_quint8 = np.dtype([(\"quint8\", np.uint8, 1)])\n",
      "C:\\Users\\gilfm\\Miniconda3\\envs\\tensorflow\\lib\\site-packages\\tensorflow\\python\\framework\\dtypes.py:518: FutureWarning: Passing (type, 1) or '1type' as a synonym of type is deprecated; in a future version of numpy, it will be understood as (type, (1,)) / '(1,)type'.\n",
      "  _np_qint16 = np.dtype([(\"qint16\", np.int16, 1)])\n",
      "C:\\Users\\gilfm\\Miniconda3\\envs\\tensorflow\\lib\\site-packages\\tensorflow\\python\\framework\\dtypes.py:519: FutureWarning: Passing (type, 1) or '1type' as a synonym of type is deprecated; in a future version of numpy, it will be understood as (type, (1,)) / '(1,)type'.\n",
      "  _np_quint16 = np.dtype([(\"quint16\", np.uint16, 1)])\n",
      "C:\\Users\\gilfm\\Miniconda3\\envs\\tensorflow\\lib\\site-packages\\tensorflow\\python\\framework\\dtypes.py:520: FutureWarning: Passing (type, 1) or '1type' as a synonym of type is deprecated; in a future version of numpy, it will be understood as (type, (1,)) / '(1,)type'.\n",
      "  _np_qint32 = np.dtype([(\"qint32\", np.int32, 1)])\n",
      "C:\\Users\\gilfm\\Miniconda3\\envs\\tensorflow\\lib\\site-packages\\tensorflow\\python\\framework\\dtypes.py:525: FutureWarning: Passing (type, 1) or '1type' as a synonym of type is deprecated; in a future version of numpy, it will be understood as (type, (1,)) / '(1,)type'.\n",
      "  np_resource = np.dtype([(\"resource\", np.ubyte, 1)])\n",
      "C:\\Users\\gilfm\\Miniconda3\\envs\\tensorflow\\lib\\site-packages\\tensorboard\\compat\\tensorflow_stub\\dtypes.py:541: FutureWarning: Passing (type, 1) or '1type' as a synonym of type is deprecated; in a future version of numpy, it will be understood as (type, (1,)) / '(1,)type'.\n",
      "  _np_qint8 = np.dtype([(\"qint8\", np.int8, 1)])\n",
      "C:\\Users\\gilfm\\Miniconda3\\envs\\tensorflow\\lib\\site-packages\\tensorboard\\compat\\tensorflow_stub\\dtypes.py:542: FutureWarning: Passing (type, 1) or '1type' as a synonym of type is deprecated; in a future version of numpy, it will be understood as (type, (1,)) / '(1,)type'.\n",
      "  _np_quint8 = np.dtype([(\"quint8\", np.uint8, 1)])\n",
      "C:\\Users\\gilfm\\Miniconda3\\envs\\tensorflow\\lib\\site-packages\\tensorboard\\compat\\tensorflow_stub\\dtypes.py:543: FutureWarning: Passing (type, 1) or '1type' as a synonym of type is deprecated; in a future version of numpy, it will be understood as (type, (1,)) / '(1,)type'.\n",
      "  _np_qint16 = np.dtype([(\"qint16\", np.int16, 1)])\n",
      "C:\\Users\\gilfm\\Miniconda3\\envs\\tensorflow\\lib\\site-packages\\tensorboard\\compat\\tensorflow_stub\\dtypes.py:544: FutureWarning: Passing (type, 1) or '1type' as a synonym of type is deprecated; in a future version of numpy, it will be understood as (type, (1,)) / '(1,)type'.\n",
      "  _np_quint16 = np.dtype([(\"quint16\", np.uint16, 1)])\n",
      "C:\\Users\\gilfm\\Miniconda3\\envs\\tensorflow\\lib\\site-packages\\tensorboard\\compat\\tensorflow_stub\\dtypes.py:545: FutureWarning: Passing (type, 1) or '1type' as a synonym of type is deprecated; in a future version of numpy, it will be understood as (type, (1,)) / '(1,)type'.\n",
      "  _np_qint32 = np.dtype([(\"qint32\", np.int32, 1)])\n",
      "C:\\Users\\gilfm\\Miniconda3\\envs\\tensorflow\\lib\\site-packages\\tensorboard\\compat\\tensorflow_stub\\dtypes.py:550: FutureWarning: Passing (type, 1) or '1type' as a synonym of type is deprecated; in a future version of numpy, it will be understood as (type, (1,)) / '(1,)type'.\n",
      "  np_resource = np.dtype([(\"resource\", np.ubyte, 1)])\n"
     ]
    }
   ],
   "source": [
    "from tensorflow.keras.models import Sequential\n",
    "from tensorflow.keras.layers import Dense, Activation\n",
    "import pandas as pd\n",
    "import io\n",
    "import os\n",
    "import requests\n",
    "import numpy as np\n",
    "from sklearn import metrics"
   ]
  },
  {
   "cell_type": "code",
   "execution_count": 2,
   "metadata": {},
   "outputs": [],
   "source": [
    "save_path = \".\"\n",
    "df = pd.read_csv(\n",
    "    \"https://data.heatonresearch.com/data/t81-558/auto-mpg.csv\", \n",
    "    na_values=['NA', '?'])\n",
    "cars = df['name']"
   ]
  },
  {
   "cell_type": "code",
   "execution_count": 3,
   "metadata": {},
   "outputs": [],
   "source": [
    "# Handle missing value\n",
    "df['horsepower'] = df['horsepower'].fillna(df['horsepower'].median())\n",
    "\n",
    "# Pandas to Numpy\n",
    "x = df[['cylinders', 'displacement', 'horsepower', 'weight',\n",
    "       'acceleration', 'year', 'origin']].values\n",
    "y = df['mpg'].values # regression\n"
   ]
  },
  {
   "cell_type": "code",
   "execution_count": 9,
   "metadata": {},
   "outputs": [
    {
     "data": {
      "text/plain": [
       "15.0"
      ]
     },
     "execution_count": 9,
     "metadata": {},
     "output_type": "execute_result"
    }
   ],
   "source": [
    "cars \n",
    "x[22]\n",
    "y[1]\n"
   ]
  },
  {
   "cell_type": "code",
   "execution_count": 10,
   "metadata": {},
   "outputs": [
    {
     "name": "stdout",
     "output_type": "stream",
     "text": [
      "Train on 398 samples\n",
      "Epoch 1/100\n",
      "398/398 - 0s - loss: 11124.3215\n",
      "Epoch 2/100\n",
      "398/398 - 0s - loss: 2392.5506\n",
      "Epoch 3/100\n",
      "398/398 - 0s - loss: 1004.1853\n",
      "Epoch 4/100\n",
      "398/398 - 0s - loss: 616.2090\n",
      "Epoch 5/100\n",
      "398/398 - 0s - loss: 503.0716\n",
      "Epoch 6/100\n",
      "398/398 - 0s - loss: 415.1829\n",
      "Epoch 7/100\n",
      "398/398 - 0s - loss: 405.4710\n",
      "Epoch 8/100\n",
      "398/398 - 0s - loss: 387.0564\n",
      "Epoch 9/100\n",
      "398/398 - 0s - loss: 376.7311\n",
      "Epoch 10/100\n",
      "398/398 - 0s - loss: 360.7547\n",
      "Epoch 11/100\n",
      "398/398 - 0s - loss: 344.3848\n",
      "Epoch 12/100\n",
      "398/398 - 0s - loss: 336.4957\n",
      "Epoch 13/100\n",
      "398/398 - 0s - loss: 333.7167\n",
      "Epoch 14/100\n",
      "398/398 - 0s - loss: 313.5993\n",
      "Epoch 15/100\n",
      "398/398 - 0s - loss: 296.7142\n",
      "Epoch 16/100\n",
      "398/398 - 0s - loss: 277.4604\n",
      "Epoch 17/100\n",
      "398/398 - 0s - loss: 267.8020\n",
      "Epoch 18/100\n",
      "398/398 - 0s - loss: 252.3697\n",
      "Epoch 19/100\n",
      "398/398 - 0s - loss: 237.6083\n",
      "Epoch 20/100\n",
      "398/398 - 0s - loss: 231.9823\n",
      "Epoch 21/100\n",
      "398/398 - 0s - loss: 216.8176\n",
      "Epoch 22/100\n",
      "398/398 - 0s - loss: 207.1944\n",
      "Epoch 23/100\n",
      "398/398 - 0s - loss: 199.7680\n",
      "Epoch 24/100\n",
      "398/398 - 0s - loss: 190.0245\n",
      "Epoch 25/100\n",
      "398/398 - 0s - loss: 183.3403\n",
      "Epoch 26/100\n",
      "398/398 - 0s - loss: 174.8063\n",
      "Epoch 27/100\n",
      "398/398 - 0s - loss: 172.6599\n",
      "Epoch 28/100\n",
      "398/398 - 0s - loss: 171.2553\n",
      "Epoch 29/100\n",
      "398/398 - 0s - loss: 156.7259\n",
      "Epoch 30/100\n",
      "398/398 - 0s - loss: 152.6412\n",
      "Epoch 31/100\n",
      "398/398 - 0s - loss: 146.2920\n",
      "Epoch 32/100\n",
      "398/398 - 0s - loss: 145.9358\n",
      "Epoch 33/100\n",
      "398/398 - 0s - loss: 135.6974\n",
      "Epoch 34/100\n",
      "398/398 - 0s - loss: 136.7099\n",
      "Epoch 35/100\n",
      "398/398 - 0s - loss: 130.1683\n",
      "Epoch 36/100\n",
      "398/398 - 0s - loss: 129.8001\n",
      "Epoch 37/100\n",
      "398/398 - 0s - loss: 127.7251\n",
      "Epoch 38/100\n",
      "398/398 - 0s - loss: 126.3391\n",
      "Epoch 39/100\n",
      "398/398 - 0s - loss: 119.8813\n",
      "Epoch 40/100\n",
      "398/398 - 0s - loss: 123.6707\n",
      "Epoch 41/100\n",
      "398/398 - 0s - loss: 111.8045\n",
      "Epoch 42/100\n",
      "398/398 - 0s - loss: 109.5882\n",
      "Epoch 43/100\n",
      "398/398 - 0s - loss: 107.5019\n",
      "Epoch 44/100\n",
      "398/398 - 0s - loss: 104.0759\n",
      "Epoch 45/100\n",
      "398/398 - 0s - loss: 102.5073\n",
      "Epoch 46/100\n",
      "398/398 - 0s - loss: 103.3282\n",
      "Epoch 47/100\n",
      "398/398 - 0s - loss: 102.3605\n",
      "Epoch 48/100\n",
      "398/398 - 0s - loss: 98.4227\n",
      "Epoch 49/100\n",
      "398/398 - 0s - loss: 96.7825\n",
      "Epoch 50/100\n",
      "398/398 - 0s - loss: 93.6866\n",
      "Epoch 51/100\n",
      "398/398 - 0s - loss: 99.5065\n",
      "Epoch 52/100\n",
      "398/398 - 0s - loss: 96.8323\n",
      "Epoch 53/100\n",
      "398/398 - 0s - loss: 100.2563\n",
      "Epoch 54/100\n",
      "398/398 - 0s - loss: 90.2336\n",
      "Epoch 55/100\n",
      "398/398 - 0s - loss: 89.7600\n",
      "Epoch 56/100\n",
      "398/398 - 0s - loss: 88.9529\n",
      "Epoch 57/100\n",
      "398/398 - 0s - loss: 86.5168\n",
      "Epoch 58/100\n",
      "398/398 - 0s - loss: 86.0058\n",
      "Epoch 59/100\n",
      "398/398 - 0s - loss: 83.9498\n",
      "Epoch 60/100\n",
      "398/398 - 0s - loss: 84.1181\n",
      "Epoch 61/100\n",
      "398/398 - 0s - loss: 82.9350\n",
      "Epoch 62/100\n",
      "398/398 - 0s - loss: 80.8193\n",
      "Epoch 63/100\n",
      "398/398 - 0s - loss: 81.3385\n",
      "Epoch 64/100\n",
      "398/398 - 0s - loss: 80.2714\n",
      "Epoch 65/100\n",
      "398/398 - 0s - loss: 77.6430\n",
      "Epoch 66/100\n",
      "398/398 - 0s - loss: 78.4881\n",
      "Epoch 67/100\n",
      "398/398 - 0s - loss: 81.2808\n",
      "Epoch 68/100\n",
      "398/398 - 0s - loss: 77.0897\n",
      "Epoch 69/100\n",
      "398/398 - 0s - loss: 74.0161\n",
      "Epoch 70/100\n",
      "398/398 - 0s - loss: 81.5501\n",
      "Epoch 71/100\n",
      "398/398 - 0s - loss: 73.1788\n",
      "Epoch 72/100\n",
      "398/398 - 0s - loss: 70.9687\n",
      "Epoch 73/100\n",
      "398/398 - 0s - loss: 71.9827\n",
      "Epoch 74/100\n",
      "398/398 - 0s - loss: 70.5308\n",
      "Epoch 75/100\n",
      "398/398 - 0s - loss: 68.4116\n",
      "Epoch 76/100\n",
      "398/398 - 0s - loss: 72.4814\n",
      "Epoch 77/100\n",
      "398/398 - 0s - loss: 66.5107\n",
      "Epoch 78/100\n",
      "398/398 - 0s - loss: 65.1117\n",
      "Epoch 79/100\n",
      "398/398 - 0s - loss: 69.7118\n",
      "Epoch 80/100\n",
      "398/398 - 0s - loss: 65.9792\n",
      "Epoch 81/100\n",
      "398/398 - 0s - loss: 73.1987\n",
      "Epoch 82/100\n",
      "398/398 - 0s - loss: 64.2618\n",
      "Epoch 83/100\n",
      "398/398 - 0s - loss: 61.4274\n",
      "Epoch 84/100\n",
      "398/398 - 0s - loss: 59.5112\n",
      "Epoch 85/100\n",
      "398/398 - 0s - loss: 60.9199\n",
      "Epoch 86/100\n",
      "398/398 - 0s - loss: 60.3992\n",
      "Epoch 87/100\n",
      "398/398 - 0s - loss: 60.5855\n",
      "Epoch 88/100\n",
      "398/398 - 0s - loss: 57.1033\n",
      "Epoch 89/100\n",
      "398/398 - 0s - loss: 60.1038\n",
      "Epoch 90/100\n",
      "398/398 - 0s - loss: 59.9942\n",
      "Epoch 91/100\n",
      "398/398 - 0s - loss: 54.6702\n",
      "Epoch 92/100\n",
      "398/398 - 0s - loss: 56.6914\n",
      "Epoch 93/100\n",
      "398/398 - 0s - loss: 53.3528\n",
      "Epoch 94/100\n",
      "398/398 - 0s - loss: 54.1713\n",
      "Epoch 95/100\n",
      "398/398 - 0s - loss: 53.5416\n",
      "Epoch 96/100\n",
      "398/398 - 0s - loss: 50.7721\n",
      "Epoch 97/100\n",
      "398/398 - 0s - loss: 57.9339\n",
      "Epoch 98/100\n",
      "398/398 - 0s - loss: 49.7074\n",
      "Epoch 99/100\n",
      "398/398 - 0s - loss: 49.8489\n",
      "Epoch 100/100\n",
      "398/398 - 0s - loss: 53.0656\n"
     ]
    },
    {
     "ename": "AttributeError",
     "evalue": "'Sequential' object has no attribute 'summery'",
     "output_type": "error",
     "traceback": [
      "\u001b[1;31m---------------------------------------------------------------------------\u001b[0m",
      "\u001b[1;31mAttributeError\u001b[0m                            Traceback (most recent call last)",
      "\u001b[1;32m<ipython-input-10-01c7ae6600e7>\u001b[0m in \u001b[0;36m<module>\u001b[1;34m\u001b[0m\n\u001b[0;32m      6\u001b[0m \u001b[0mmodel\u001b[0m\u001b[1;33m.\u001b[0m\u001b[0mcompile\u001b[0m\u001b[1;33m(\u001b[0m\u001b[0mloss\u001b[0m\u001b[1;33m=\u001b[0m\u001b[1;34m'mean_squared_error'\u001b[0m\u001b[1;33m,\u001b[0m \u001b[0moptimizer\u001b[0m\u001b[1;33m=\u001b[0m\u001b[1;34m'adam'\u001b[0m\u001b[1;33m)\u001b[0m\u001b[1;33m\u001b[0m\u001b[1;33m\u001b[0m\u001b[0m\n\u001b[0;32m      7\u001b[0m \u001b[0mmodel\u001b[0m\u001b[1;33m.\u001b[0m\u001b[0mfit\u001b[0m\u001b[1;33m(\u001b[0m\u001b[0mx\u001b[0m\u001b[1;33m,\u001b[0m\u001b[0my\u001b[0m\u001b[1;33m,\u001b[0m\u001b[0mverbose\u001b[0m\u001b[1;33m=\u001b[0m\u001b[1;36m2\u001b[0m\u001b[1;33m,\u001b[0m\u001b[0mepochs\u001b[0m\u001b[1;33m=\u001b[0m\u001b[1;36m100\u001b[0m\u001b[1;33m)\u001b[0m\u001b[1;33m\u001b[0m\u001b[1;33m\u001b[0m\u001b[0m\n\u001b[1;32m----> 8\u001b[1;33m \u001b[0mmodel\u001b[0m\u001b[1;33m.\u001b[0m\u001b[0msummery\u001b[0m\u001b[1;33m(\u001b[0m\u001b[1;33m)\u001b[0m\u001b[1;33m\u001b[0m\u001b[1;33m\u001b[0m\u001b[0m\n\u001b[0m",
      "\u001b[1;31mAttributeError\u001b[0m: 'Sequential' object has no attribute 'summery'"
     ]
    }
   ],
   "source": [
    "# Build the neural network\n",
    "model = Sequential()\n",
    "model.add(Dense(25, input_dim=x.shape[1], activation='relu')) # Hidden 1\n",
    "model.add(Dense(10, activation='relu')) # Hidden 2\n",
    "model.add(Dense(1)) # Output\n",
    "model.compile(loss='mean_squared_error', optimizer='adam')\n",
    "model.fit(x,y,verbose=2,epochs=100)"
   ]
  },
  {
   "cell_type": "code",
   "execution_count": 11,
   "metadata": {},
   "outputs": [
    {
     "name": "stdout",
     "output_type": "stream",
     "text": [
      "Model: \"sequential\"\n",
      "_________________________________________________________________\n",
      "Layer (type)                 Output Shape              Param #   \n",
      "=================================================================\n",
      "dense (Dense)                (None, 25)                200       \n",
      "_________________________________________________________________\n",
      "dense_1 (Dense)              (None, 10)                260       \n",
      "_________________________________________________________________\n",
      "dense_2 (Dense)              (None, 1)                 11        \n",
      "=================================================================\n",
      "Total params: 471\n",
      "Trainable params: 471\n",
      "Non-trainable params: 0\n",
      "_________________________________________________________________\n"
     ]
    }
   ],
   "source": [
    "model.summary()"
   ]
  },
  {
   "cell_type": "code",
   "execution_count": 12,
   "metadata": {},
   "outputs": [
    {
     "name": "stdout",
     "output_type": "stream",
     "text": [
      "Before save score (RMSE): 7.1646386637233155\n"
     ]
    }
   ],
   "source": [
    "# Predict\n",
    "pred = model.predict(x)\n",
    "\n",
    "# Measure RMSE error.  RMSE is common for regression.\n",
    "score = np.sqrt(metrics.mean_squared_error(pred,y))\n",
    "print(f\"Before save score (RMSE): {score}\")"
   ]
  },
  {
   "cell_type": "code",
   "execution_count": 13,
   "metadata": {},
   "outputs": [],
   "source": [
    "# save neural network structure to JSON (no weights)\n",
    "model_json = model.to_json()\n",
    "with open(os.path.join(save_path,\"network.json\"), \"w\") as json_file:\n",
    "    json_file.write(model_json)"
   ]
  },
  {
   "cell_type": "code",
   "execution_count": 14,
   "metadata": {},
   "outputs": [],
   "source": [
    "# save neural network structure to YAML (no weights)\n",
    "model_yaml = model.to_yaml()\n",
    "with open(os.path.join(save_path,\"network.yaml\"), \"w\") as yaml_file:\n",
    "    yaml_file.write(model_yaml)"
   ]
  },
  {
   "cell_type": "code",
   "execution_count": 15,
   "metadata": {},
   "outputs": [],
   "source": [
    "# save entire network to HDF5 (save everything, suggested)\n",
    "model.save(os.path.join(save_path,\"network.h5\"))"
   ]
  },
  {
   "cell_type": "markdown",
   "metadata": {},
   "source": [
    "The code below sets up a neural network and reads the data (for predictions), but it does not clear the model directory or fit the neural network.  The weights from the previous fit are used."
   ]
  },
  {
   "cell_type": "markdown",
   "metadata": {},
   "source": [
    "Now we reload the network and perform another prediction.  The RMSE should match the previous one exactly if the neural network was really saved and reloaded."
   ]
  },
  {
   "cell_type": "code",
   "execution_count": 16,
   "metadata": {},
   "outputs": [
    {
     "name": "stdout",
     "output_type": "stream",
     "text": [
      "After load score (RMSE): 7.1646386637233155\n"
     ]
    }
   ],
   "source": [
    "from tensorflow.keras.models import load_model\n",
    "model2 = load_model(os.path.join(save_path,\"network.h5\"))\n",
    "pred = model2.predict(x)\n",
    "# Measure RMSE error.  RMSE is common for regression.\n",
    "score = np.sqrt(metrics.mean_squared_error(pred,y))\n",
    "print(f\"After load score (RMSE): {score}\")"
   ]
  }
 ],
 "metadata": {
  "anaconda-cloud": {},
  "kernelspec": {
   "display_name": "Python 3.6 (tensorflow)",
   "language": "python",
   "name": "tensorflow"
  },
  "language_info": {
   "codemirror_mode": {
    "name": "ipython",
    "version": 3
   },
   "file_extension": ".py",
   "mimetype": "text/x-python",
   "name": "python",
   "nbconvert_exporter": "python",
   "pygments_lexer": "ipython3",
   "version": "3.6.9"
  }
 },
 "nbformat": 4,
 "nbformat_minor": 4
}
