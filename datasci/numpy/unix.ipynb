{
 "cells": [
  {
   "cell_type": "markdown",
   "id": "71e2a103",
   "metadata": {},
   "source": [
    "## Running Unix command   Jupyter notebook on Window 10\n",
    "\n",
    "1. Launch Git Bash.\n",
    "2. In the Git Bash Run :  'source Anaconda3/Scripts/activate Anaconda3/'\n",
    "3. cd into the folder where the course notebooks are.\n",
    "4. Run: 'jupyter notebook'\n"
   ]
  },
  {
   "cell_type": "code",
   "execution_count": 26,
   "id": "e9225c3c",
   "metadata": {},
   "outputs": [
    {
     "name": "stdout",
     "output_type": "stream",
     "text": [
      "ccc.txt\n",
      "unix.ipynb\n",
      "UNIX-Jupyter.ipynb\n",
      "Week-1-Intro-new\n"
     ]
    }
   ],
   "source": [
    "!ls"
   ]
  },
  {
   "cell_type": "code",
   "execution_count": 27,
   "id": "47aacf7b",
   "metadata": {},
   "outputs": [
    {
     "name": "stdout",
     "output_type": "stream",
     "text": [
      "-rw-r--r-- 1 gilfm 197610 49 Jul 19 11:14 ./ccc.txt\n"
     ]
    }
   ],
   "source": [
    "filename = './ccc.txt'\n",
    "!ls -la $filename\n"
   ]
  },
  {
   "cell_type": "code",
   "execution_count": 29,
   "id": "3f6e805e",
   "metadata": {},
   "outputs": [
    {
     "name": "stdout",
     "output_type": "stream",
     "text": [
      "Some random text\n",
      "More random text\n",
      "And some more\n"
     ]
    }
   ],
   "source": [
    " !head  $filename"
   ]
  },
  {
   "cell_type": "code",
   "execution_count": 30,
   "id": "6e18dc0b",
   "metadata": {},
   "outputs": [
    {
     "name": "stdout",
     "output_type": "stream",
     "text": [
      "And some more\n"
     ]
    }
   ],
   "source": [
    "!tail -n 1  $filename"
   ]
  },
  {
   "cell_type": "code",
   "execution_count": 32,
   "id": "67a6390f",
   "metadata": {},
   "outputs": [
    {
     "name": "stdout",
     "output_type": "stream",
     "text": [
      " 2  9 49 ./ccc.txt\n"
     ]
    }
   ],
   "source": [
    "#  total number of lines, words and characters.\n",
    "!wc $filename "
   ]
  },
  {
   "cell_type": "code",
   "execution_count": 33,
   "id": "d843bbe8",
   "metadata": {},
   "outputs": [
    {
     "name": "stdout",
     "output_type": "stream",
     "text": [
      "Some random text\n",
      "And some more\n"
     ]
    }
   ],
   "source": [
    " # Prints all the lines containing the  string 'some' in it\n",
    "!grep -i 'some' $filename"
   ]
  },
  {
   "cell_type": "code",
   "execution_count": 34,
   "id": "f94600e7",
   "metadata": {
    "scrolled": false
   },
   "outputs": [
    {
     "name": "stdout",
     "output_type": "stream",
     "text": [
      "2\n"
     ]
    }
   ],
   "source": [
    "!cat $filename | wc -l "
   ]
  },
  {
   "cell_type": "markdown",
   "id": "acced27f",
   "metadata": {},
   "source": [
    "## Sed\n",
    "Sed is a powerful stream editor, it works similarly to grep, but it also modifies the output text, it uses regular expressions, which are a language to define pattern matching and replacement.\n",
    "\n",
    "For example:\n",
    "\n",
    "s/from/to/g\n",
    "\n",
    "means:\n",
    "\n",
    "    s for substitution\n",
    "    from is the word to match\n",
    "    to is the replacement string\n",
    "    g specifies to apply this to all occurrences on a line, not just the first\n",
    "\n",
    "In the following we are replacing all instances of 'some' to 'SOME'\n",
    "\n",
    "Also we are redirecting the output to a file with >. Therefore the output instead of being printed to screen is saved in the text file temp.txt.\n"
   ]
  },
  {
   "cell_type": "code",
   "execution_count": 36,
   "id": "877fae82",
   "metadata": {},
   "outputs": [
    {
     "name": "stdout",
     "output_type": "stream",
     "text": [
      "Some random text\n",
      "More random text\n",
      "And some more\n"
     ]
    }
   ],
   "source": [
    "#replace all instances of 'some' to 'SOME'\n",
    "\n",
    "!sed -e 's/some/SOME/g' $filename > temp.txt\n",
    "!cat $filename"
   ]
  },
  {
   "cell_type": "code",
   "execution_count": 39,
   "id": "06f536ab",
   "metadata": {},
   "outputs": [
    {
     "name": "stdout",
     "output_type": "stream",
     "text": [
      "Some random text\n",
      "More random text\n"
     ]
    }
   ],
   "source": [
    "#Sort in alphabetical order the first 2 lines  \n",
    "!head -n 2 $filename"
   ]
  }
 ],
 "metadata": {
  "kernelspec": {
   "display_name": "Python 3 (ipykernel)",
   "language": "python",
   "name": "python3"
  },
  "language_info": {
   "codemirror_mode": {
    "name": "ipython",
    "version": 3
   },
   "file_extension": ".py",
   "mimetype": "text/x-python",
   "name": "python",
   "nbconvert_exporter": "python",
   "pygments_lexer": "ipython3",
   "version": "3.8.8"
  }
 },
 "nbformat": 4,
 "nbformat_minor": 5
}
