{
 "cells": [
  {
   "cell_type": "markdown",
   "metadata": {},
   "source": [
    "<a href=\"https://colab.research.google.com/github/jeffheaton/t81_558_deep_learning/blob/master/t81_558_class_02_4_pandas_functional.ipynb\" target=\"_parent\"><img src=\"https://colab.research.google.com/assets/colab-badge.svg\" alt=\"Open In Colab\"/></a>"
   ]
  },
  {
   "cell_type": "markdown",
   "metadata": {},
   "source": [
    "#  Reindexing \n",
    "changes the row labels and column labels of a DataFrame. To reindex means to conform the data to match a given set of labels along a particular axis.\n",
    "\n",
    "Multiple operations can be accomplished through indexing like −\n",
    "\n",
    "    Reorder the existing data to match a new set of labels.\n",
    "\n",
    "    Insert missing value (NA) markers in label locations where no data for the label existed.\n",
    "\n",
    "* https://www.tutorialspoint.com/python_pandas/python_pandas_reindexing.htm"
   ]
  },
  {
   "cell_type": "code",
   "execution_count": 1,
   "metadata": {},
   "outputs": [],
   "source": [
    "import pandas as pd\n",
    "import numpy as np"
   ]
  },
  {
   "cell_type": "code",
   "execution_count": 2,
   "metadata": {},
   "outputs": [
    {
     "name": "stdout",
     "output_type": "stream",
     "text": [
      "            A     x         y       C           D\n",
      "0  2016-01-01   0.0  0.463441    High   98.872864\n",
      "1  2016-01-02   1.0  0.646793  Medium  103.939844\n",
      "2  2016-01-03   2.0  0.901605    High  105.932214\n",
      "3  2016-01-04   3.0  0.290928    High  100.384344\n",
      "4  2016-01-05   4.0  0.473389  Medium   97.051083\n",
      "5  2016-01-06   5.0  0.401205  Medium   94.648927\n",
      "6  2016-01-07   6.0  0.858519    High   87.095262\n",
      "7  2016-01-08   7.0  0.831933     Low   96.414287\n",
      "8  2016-01-09   8.0  0.141707    High   90.150203\n",
      "9  2016-01-10   9.0  0.057209    High   99.287485\n",
      "10 2016-01-11  10.0  0.708362  Medium   96.245662\n",
      "11 2016-01-12  11.0  0.009059    High   96.673056\n",
      "12 2016-01-13  12.0  0.696792    High  110.919842\n",
      "13 2016-01-14  13.0  0.279249    High  101.479858\n",
      "14 2016-01-15  14.0  0.798202  Medium   95.998821\n",
      "15 2016-01-16  15.0  0.777210  Medium  109.307149\n",
      "16 2016-01-17  16.0  0.078750    High   97.974567\n",
      "17 2016-01-18  17.0  0.956570     Low   97.003481\n",
      "18 2016-01-19  18.0  0.854299    High  106.197019\n",
      "19 2016-01-20  19.0  0.252244  Medium  108.517758\n"
     ]
    }
   ],
   "source": [
    "N=20\n",
    "\n",
    "df = pd.DataFrame({\n",
    "   'A': pd.date_range(start='2016-01-01',periods=N,freq='D'),\n",
    "   'x': np.linspace(0,stop=N-1,num=N),\n",
    "   'y': np.random.rand(N),\n",
    "   'C': np.random.choice(['Low','Medium','High'],N).tolist(),\n",
    "   'D': np.random.normal(100, 10, size=(N)).tolist()\n",
    "})\n",
    "\n",
    "print(df)"
   ]
  },
  {
   "cell_type": "code",
   "execution_count": 3,
   "metadata": {},
   "outputs": [
    {
     "name": "stdout",
     "output_type": "stream",
     "text": [
      "           A       C   B\n",
      "0 2016-01-01    High NaN\n",
      "2 2016-01-03    High NaN\n",
      "5 2016-01-06  Medium NaN\n"
     ]
    }
   ],
   "source": [
    "#reindex the DataFrame\n",
    "df_reindexed = df.reindex(index=[0,2,5], columns=['A', 'C', 'B'])\n",
    "\n",
    "print (df_reindexed)"
   ]
  },
  {
   "cell_type": "code",
   "execution_count": 4,
   "metadata": {},
   "outputs": [
    {
     "name": "stdout",
     "output_type": "stream",
     "text": [
      "       col1      col2      col3\n",
      "0 -0.340309  0.855078 -0.191876\n",
      "1 -0.978566 -1.977544  2.810239\n",
      "2  0.985124 -0.054314 -0.064572\n",
      "3 -1.873912  0.824377  0.339957\n",
      "4 -0.175455 -1.361435  0.539952\n",
      "5  0.250965  0.493151 -0.112290\n",
      "6 -0.229682  1.105200  1.113134\n",
      "7 -0.459851 -0.383806 -0.463992\n",
      "8 -1.311710  0.347020  1.320741\n",
      "9  0.582851  0.524169 -0.522299 \n",
      "\n",
      "       col1      col2      col3\n",
      "0 -0.521479 -2.015521  0.000188\n",
      "1  0.136159 -0.010194 -0.300114\n",
      "2 -0.313661 -0.984261  0.986633\n",
      "3 -0.161970 -0.669158 -0.235743\n",
      "4 -0.498049 -0.715438 -0.193233\n",
      "5 -0.718357  0.035994 -0.655087\n",
      "6  0.235211  0.699096 -0.177808 \n",
      "\n",
      "       col1      col2      col3\n",
      "0 -0.340309  0.855078 -0.191876\n",
      "1 -0.978566 -1.977544  2.810239\n",
      "2  0.985124 -0.054314 -0.064572\n",
      "3 -1.873912  0.824377  0.339957\n",
      "4 -0.175455 -1.361435  0.539952\n",
      "5  0.250965  0.493151 -0.112290\n",
      "6 -0.229682  1.105200  1.113134\n"
     ]
    }
   ],
   "source": [
    "df1 = pd.DataFrame(np.random.randn(10,3),columns=['col1','col2','col3'])\n",
    "df2 = pd.DataFrame(np.random.randn(7,3),columns=['col1','col2','col3'])\n",
    "print (df1,'\\n' )\n",
    "print (df2 ,'\\n' )\n",
    "df1 = df1.reindex_like(df2)# df1   is altered and reindexed like df2\n",
    "print (df1 )"
   ]
  },
  {
   "cell_type": "markdown",
   "metadata": {},
   "source": [
    "# Filling while ReIndexing\n",
    "\n",
    "reindex() takes an optional parameter method which is a filling method with values as follows −\n",
    "\n",
    "    pad/ffill − Fill values forward\n",
    "\n",
    "    bfill/backfill − Fill values backward\n",
    "\n",
    "    nearest − Fill from the nearest index values\n"
   ]
  },
  {
   "cell_type": "code",
   "execution_count": 5,
   "metadata": {},
   "outputs": [
    {
     "name": "stdout",
     "output_type": "stream",
     "text": [
      "       col1      col2      col3\n",
      "0  0.930893  0.491661 -0.168651\n",
      "1  1.199753  0.085649 -1.171365 \n",
      "\n",
      "       col1      col2      col3\n",
      "0  0.930893  0.491661 -0.168651\n",
      "1  1.199753  0.085649 -1.171365\n",
      "2       NaN       NaN       NaN\n",
      "3       NaN       NaN       NaN\n",
      "4       NaN       NaN       NaN\n",
      "5       NaN       NaN       NaN \n",
      "\n",
      "Data Frame with Forward Fill:\n",
      "       col1      col2      col3\n",
      "0  0.930893  0.491661 -0.168651\n",
      "1  1.199753  0.085649 -1.171365\n",
      "2  1.199753  0.085649 -1.171365\n",
      "3  1.199753  0.085649 -1.171365\n",
      "4  1.199753  0.085649 -1.171365\n",
      "5  1.199753  0.085649 -1.171365\n"
     ]
    }
   ],
   "source": [
    "df1 = pd.DataFrame(np.random.randn(6,3),columns=['col1','col2','col3'])\n",
    "df2 = pd.DataFrame(np.random.randn(2,3),columns=['col1','col2','col3'])\n",
    "print (df2,'\\n' ) \n",
    "# Padding NAN's\n",
    "print (df2.reindex_like(df1),'\\n' )\n",
    "\n",
    "# Now Fill the NAN's with preceding Values\n",
    "print (\"Data Frame with Forward Fill:\")\n",
    "x = df2.reindex_like(df1,method='ffill')\n",
    "print  (x)"
   ]
  },
  {
   "cell_type": "markdown",
   "metadata": {},
   "source": [
    "# Limits on Filling while Reindexing\n",
    "\n",
    "The limit argument provides additional control over filling while \n",
    "reindexing.\n",
    "Limit specifies the maximum count of consecutive matches. \n",
    " "
   ]
  },
  {
   "cell_type": "code",
   "execution_count": 6,
   "metadata": {},
   "outputs": [
    {
     "name": "stdout",
     "output_type": "stream",
     "text": [
      "       col1      col2      col3\n",
      "0  0.748162  1.655339  0.782519\n",
      "1 -1.066825 -1.019949 -0.910280\n",
      "2  0.722073  0.420461 -0.560903\n",
      "3  0.775435  1.420676 -1.085266\n",
      "4  0.559094  1.786018  0.140612\n",
      "5 -0.053141 -0.913574  0.179552 \n",
      "\n",
      "       col1      col2      col3\n",
      "0 -2.134272  1.471083 -0.352476\n",
      "1 -0.641892  0.665497  0.130276 \n",
      "\n",
      "       col1      col2      col3\n",
      "0 -2.134272  1.471083 -0.352476\n",
      "1 -0.641892  0.665497  0.130276\n",
      "2       NaN       NaN       NaN\n",
      "3       NaN       NaN       NaN\n",
      "4       NaN       NaN       NaN\n",
      "5       NaN       NaN       NaN \n",
      "\n",
      "Data Frame with Forward Fill limiting to 1:\n",
      "       col1      col2      col3\n",
      "0 -2.134272  1.471083 -0.352476\n",
      "1 -0.641892  0.665497  0.130276\n",
      "2 -0.641892  0.665497  0.130276\n",
      "3 -0.641892  0.665497  0.130276\n",
      "4       NaN       NaN       NaN\n",
      "5       NaN       NaN       NaN\n"
     ]
    }
   ],
   "source": [
    "df1 = pd.DataFrame(np.random.randn(6,3),columns=['col1','col2','col3'])\n",
    "df2 = pd.DataFrame(np.random.randn(2,3),columns=['col1','col2','col3'])\n",
    "print (df1,'\\n')\n",
    "print (df2,'\\n')\n",
    "# Padding NAN's\n",
    "print (df2.reindex_like(df1),'\\n')\n",
    "\n",
    "# Now Fill the NAN's with preceding Values\n",
    "print (\"Data Frame with Forward Fill limiting to 1:\")\n",
    "print (df2.reindex_like(df1,method='ffill',limit=2))#Add two lines\n"
   ]
  },
  {
   "cell_type": "markdown",
   "metadata": {},
   "source": [
    "# Renaming\n",
    "\n",
    "The rename() method allows you to relabel an axis based on some mapping (a dict or Series) \n",
    "or an arbitrary function.\n",
    " "
   ]
  },
  {
   "cell_type": "markdown",
   "metadata": {},
   "source": [
    " "
   ]
  },
  {
   "cell_type": "code",
   "execution_count": 7,
   "metadata": {},
   "outputs": [
    {
     "name": "stdout",
     "output_type": "stream",
     "text": [
      "       col1      col2      col3\n",
      "0  0.883731 -1.444869 -1.078702\n",
      "1  0.401935  0.703915  1.325604\n",
      "2  0.812734  0.646461 -1.146596\n",
      "3  1.518568  0.317017 -0.077020\n",
      "4 -1.943398 -0.006784 -0.042426\n",
      "5 -1.141004  0.145199  0.077505\n",
      "After renaming the rows and columns:\n",
      "              c1        c2      col3\n",
      "apple   0.883731 -1.444869 -1.078702\n",
      "banana  0.401935  0.703915  1.325604\n",
      "durian  0.812734  0.646461 -1.146596\n",
      "3       1.518568  0.317017 -0.077020\n",
      "4      -1.943398 -0.006784 -0.042426\n",
      "5      -1.141004  0.145199  0.077505\n"
     ]
    }
   ],
   "source": [
    "df1 = pd.DataFrame(np.random.randn(6,3),columns=['col1','col2','col3'])\n",
    "print (df1)\n",
    "\n",
    "print (\"After renaming the rows and columns:\")\n",
    "\n",
    "x = df1.rename(columns={'col1' : 'c1', 'col2' : 'c2'},\n",
    "               index = {0 : 'apple', 1 : 'banana', 2 : 'durian'})\n",
    "print (x)"
   ]
  },
  {
   "cell_type": "markdown",
   "metadata": {},
   "source": [
    " "
   ]
  },
  {
   "cell_type": "markdown",
   "metadata": {},
   "source": [
    " #  Iteration\n",
    " \n",
    "Basic iteration (for i in object) produces −\n",
    "\n",
    "    Series − values\n",
    "\n",
    "    DataFrame − column labels\n",
    "\n",
    "To iterate over the rows of the DataFrame, we can use the following functions −\n",
    "\n",
    "    iteritems() − to iterate over the (key,value) pairs\n",
    "\n",
    "    iterrows() − iterate over the rows as (index,series) pairs\n",
    "\n",
    "    itertuples() − iterate over the rows as namedtuples\n"
   ]
  },
  {
   "cell_type": "code",
   "execution_count": 8,
   "metadata": {},
   "outputs": [
    {
     "name": "stdout",
     "output_type": "stream",
     "text": [
      "            A     x         y       C           D\n",
      "0  2016-01-01   0.0  0.549736     Low  123.988172\n",
      "1  2016-01-02   1.0  0.334943     Low   95.301357\n",
      "2  2016-01-03   2.0  0.068851     Low  108.480894\n",
      "3  2016-01-04   3.0  0.861036     Low  105.012330\n",
      "4  2016-01-05   4.0  0.931212    High  104.193562\n",
      "5  2016-01-06   5.0  0.361122    High  106.319582\n",
      "6  2016-01-07   6.0  0.359372     Low   93.294670\n",
      "7  2016-01-08   7.0  0.380307    High   99.077732\n",
      "8  2016-01-09   8.0  0.985083    High  103.717583\n",
      "9  2016-01-10   9.0  0.494113  Medium  106.505823\n",
      "10 2016-01-11  10.0  0.915462  Medium  110.031379\n",
      "11 2016-01-12  11.0  0.588182  Medium  107.516912\n",
      "12 2016-01-13  12.0  0.557605     Low   80.858199\n",
      "13 2016-01-14  13.0  0.315939  Medium  103.758867\n",
      "14 2016-01-15  14.0  0.091131  Medium   75.081830\n",
      "15 2016-01-16  15.0  0.911866  Medium  112.954515\n",
      "16 2016-01-17  16.0  0.911728    High  105.086248\n",
      "17 2016-01-18  17.0  0.051437     Low  113.375045\n",
      "18 2016-01-19  18.0  0.147823  Medium  117.335025\n",
      "19 2016-01-20  19.0  0.624557    High   97.154225\n",
      "A\n",
      "x\n",
      "y\n",
      "C\n",
      "D\n"
     ]
    }
   ],
   "source": [
    "# Iterating a DataFrame gives column names. \n",
    " \n",
    "N=20\n",
    "df = pd.DataFrame({\n",
    "   'A': pd.date_range(start='2016-01-01',periods=N,freq='D'),\n",
    "   'x': np.linspace(0,stop=N-1,num=N),\n",
    "   'y': np.random.rand(N),\n",
    "   'C': np.random.choice(['Low','Medium','High'],N).tolist(),\n",
    "   'D': np.random.normal(100, 10, size=(N)).tolist()\n",
    "   })\n",
    "print (df)\n",
    "for col in df:\n",
    "   print (col)"
   ]
  },
  {
   "cell_type": "code",
   "execution_count": 9,
   "metadata": {},
   "outputs": [
    {
     "name": "stdout",
     "output_type": "stream",
     "text": [
      "       col1      col2      col3\n",
      "0 -0.113084 -0.412035  0.529195\n",
      "1  0.127746 -1.421538  0.836490\n",
      "2  0.701757  1.757010 -0.538531\n",
      "3 -1.403024 -0.991567  2.881753 \n",
      "\n",
      "\n",
      "\n",
      " col1 \n",
      " 0   -0.113084\n",
      "1    0.127746\n",
      "2    0.701757\n",
      "3   -1.403024\n",
      "Name: col1, dtype: float64\n",
      "\n",
      " col2 \n",
      " 0   -0.412035\n",
      "1   -1.421538\n",
      "2    1.757010\n",
      "3   -0.991567\n",
      "Name: col2, dtype: float64\n",
      "\n",
      " col3 \n",
      " 0    0.529195\n",
      "1    0.836490\n",
      "2   -0.538531\n",
      "3    2.881753\n",
      "Name: col3, dtype: float64\n"
     ]
    }
   ],
   "source": [
    "# Iterates over each column as key, value pair with label as key \n",
    "#and column value as a Series object.  \n",
    "df = pd.DataFrame(np.random.randn(4,3),columns=['col1','col2','col3'])\n",
    "print (df,'\\n\\n' )\n",
    "for key,value in df.iteritems():\n",
    "   print ('\\n',key,'\\n',value)"
   ]
  },
  {
   "cell_type": "markdown",
   "metadata": {},
   "source": [
    "iterrows() returns the iterator yielding each index value along with a series containing the data in each row.   "
   ]
  },
  {
   "cell_type": "code",
   "execution_count": 10,
   "metadata": {},
   "outputs": [
    {
     "name": "stdout",
     "output_type": "stream",
     "text": [
      "\n",
      " row_index =  0 \n",
      " col1   -0.113084\n",
      "col2   -0.412035\n",
      "col3    0.529195\n",
      "Name: 0, dtype: float64\n",
      "\n",
      " row_index =  1 \n",
      " col1    0.127746\n",
      "col2   -1.421538\n",
      "col3    0.836490\n",
      "Name: 1, dtype: float64\n",
      "\n",
      " row_index =  2 \n",
      " col1    0.701757\n",
      "col2    1.757010\n",
      "col3   -0.538531\n",
      "Name: 2, dtype: float64\n",
      "\n",
      " row_index =  3 \n",
      " col1   -1.403024\n",
      "col2   -0.991567\n",
      "col3    2.881753\n",
      "Name: 3, dtype: float64\n"
     ]
    }
   ],
   "source": [
    " \n",
    "for row_index,row in df.iterrows():\n",
    "   print  ('\\n row_index = ',row_index,'\\n',row )"
   ]
  },
  {
   "cell_type": "markdown",
   "metadata": {},
   "source": [
    "itertuples()\n",
    "\n",
    "itertuples() method will return an iterator yielding a named tuple for each row in the DataFrame. The first element of the tuple will be the row’s corresponding index value, while the remaining values are the row values.\n",
    "\n",
    "https://www.tutorialspoint.com/python_pandas/python_pandas_iteration.htm"
   ]
  },
  {
   "cell_type": "markdown",
   "metadata": {},
   "source": [
    " # Note −\n",
    " Do not try to modify any object while iterating. Iterating is meant for reading and the iterator returns a copy of the original object (a view), thus the changes will not reflect on the original object"
   ]
  },
  {
   "cell_type": "code",
   "execution_count": 15,
   "metadata": {},
   "outputs": [
    {
     "name": "stdout",
     "output_type": "stream",
     "text": [
      "Pandas(Index=0, col1=-0.11308421248942918, col2=-0.412034757630168, col3=0.5291951689673072)\n",
      "Pandas(Index=1, col1=0.12774615905636919, col2=-1.4215375242583257, col3=0.8364902638412343)\n",
      "Pandas(Index=2, col1=0.7017570921790534, col2=1.757010138126316, col3=-0.5385313071274301)\n",
      "Pandas(Index=3, col1=-1.4030244694269578, col2=-0.9915667777202011, col3=2.8817526054448193)\n"
     ]
    }
   ],
   "source": [
    " for row in df.itertuples():\n",
    "    print (row)"
   ]
  },
  {
   "cell_type": "markdown",
   "metadata": {},
   "source": [
    " "
   ]
  },
  {
   "cell_type": "markdown",
   "metadata": {},
   "source": [
    "# Python Pandas - Sorting \n",
    "https://www.tutorialspoint.com/python_pandas/python_pandas_sorting.htm\n",
    "\n",
    " There are two kinds of sorting available in Pandas \n",
    "\n",
    "    By label\n",
    "    By Actual Value\n"
   ]
  },
  {
   "cell_type": "code",
   "execution_count": 21,
   "metadata": {},
   "outputs": [
    {
     "name": "stdout",
     "output_type": "stream",
     "text": [
      "       col2      col1\n",
      "1 -0.488801 -1.531690\n",
      "4 -0.014412 -1.124997\n",
      "6 -0.386607 -0.477815\n",
      "2 -3.305768 -1.440976\n",
      "3 -1.287479  0.982586\n",
      "5  0.656364 -0.674083\n",
      "9 -1.714328  1.222876\n",
      "8  2.464627  1.191909\n",
      "0  0.415631  0.388929\n",
      "7  0.334158 -1.510351\n"
     ]
    }
   ],
   "source": [
    "unsorted_df=pd.DataFrame(np.random.randn(10,2),index=[1,4,6,2,3,5,9,8,0,7],columns =['col2','col1'])\n",
    "print (unsorted_df)\n"
   ]
  },
  {
   "cell_type": "markdown",
   "metadata": {},
   "source": [
    "# By Label\n",
    "\n",
    "Using the sort_index() method, by passing the axis arguments and the order of sorting, DataFrame can be sorted. \n",
    "By default, sorting is done on row labels in ascending order."
   ]
  },
  {
   "cell_type": "code",
   "execution_count": 26,
   "metadata": {},
   "outputs": [
    {
     "name": "stdout",
     "output_type": "stream",
     "text": [
      "       col2      col1\n",
      "0  0.415631  0.388929\n",
      "1 -0.488801 -1.531690\n",
      "2 -3.305768 -1.440976\n",
      "3 -1.287479  0.982586\n",
      "4 -0.014412 -1.124997\n",
      "5  0.656364 -0.674083\n",
      "6 -0.386607 -0.477815\n",
      "7  0.334158 -1.510351\n",
      "8  2.464627  1.191909\n",
      "9 -1.714328  1.222876 \n",
      "\n",
      "       col2      col1\n",
      "9 -1.714328  1.222876\n",
      "8  2.464627  1.191909\n",
      "7  0.334158 -1.510351\n",
      "6 -0.386607 -0.477815\n",
      "5  0.656364 -0.674083\n",
      "4 -0.014412 -1.124997\n",
      "3 -1.287479  0.982586\n",
      "2 -3.305768 -1.440976\n",
      "1 -0.488801 -1.531690\n",
      "0  0.415631  0.388929\n"
     ]
    }
   ],
   "source": [
    "sorted_df=unsorted_df.sort_index()\n",
    "print (sorted_df,'\\n')\n",
    "sorted_df = unsorted_df.sort_index(ascending=False)\n",
    "print (sorted_df)"
   ]
  },
  {
   "cell_type": "markdown",
   "metadata": {},
   "source": [
    "# Sort the Columns\n",
    "\n",
    "By passing the axis argument with a value 0 or 1, the sorting can be done on the column labels. By default, axis=0, sort by row. \n",
    " "
   ]
  },
  {
   "cell_type": "code",
   "execution_count": 28,
   "metadata": {},
   "outputs": [
    {
     "name": "stdout",
     "output_type": "stream",
     "text": [
      "       col1      col2\n",
      "1 -1.531690 -0.488801\n",
      "4 -1.124997 -0.014412\n",
      "6 -0.477815 -0.386607\n",
      "2 -1.440976 -3.305768\n",
      "3  0.982586 -1.287479\n",
      "5 -0.674083  0.656364\n",
      "9  1.222876 -1.714328\n",
      "8  1.191909  2.464627\n",
      "0  0.388929  0.415631\n",
      "7 -1.510351  0.334158\n"
     ]
    }
   ],
   "source": [
    "sorted_df=unsorted_df.sort_index(axis=1)\n",
    "print (sorted_df )"
   ]
  },
  {
   "cell_type": "markdown",
   "metadata": {},
   "source": [
    "# By Value\n",
    "\n",
    "Like index sorting, sort_values() is the method for sorting by values. It accepts a 'by' argument which will use the column name of the DataFrame with which the values are to be sorted."
   ]
  },
  {
   "cell_type": "code",
   "execution_count": 29,
   "metadata": {},
   "outputs": [
    {
     "name": "stdout",
     "output_type": "stream",
     "text": [
      "       col2      col1\n",
      "1 -0.488801 -1.531690\n",
      "7  0.334158 -1.510351\n",
      "2 -3.305768 -1.440976\n",
      "4 -0.014412 -1.124997\n",
      "5  0.656364 -0.674083\n",
      "6 -0.386607 -0.477815\n",
      "0  0.415631  0.388929\n",
      "3 -1.287479  0.982586\n",
      "8  2.464627  1.191909\n",
      "9 -1.714328  1.222876\n"
     ]
    }
   ],
   "source": [
    " sorted_df = unsorted_df.sort_values(by='col1')\n",
    "\n",
    "print (sorted_df )\n"
   ]
  },
  {
   "cell_type": "code",
   "execution_count": null,
   "metadata": {},
   "outputs": [],
   "source": []
  }
 ],
 "metadata": {
  "anaconda-cloud": {},
  "kernelspec": {
   "display_name": "Python 3",
   "language": "python",
   "name": "python3"
  },
  "language_info": {
   "codemirror_mode": {
    "name": "ipython",
    "version": 3
   },
   "file_extension": ".py",
   "mimetype": "text/x-python",
   "name": "python",
   "nbconvert_exporter": "python",
   "pygments_lexer": "ipython3",
   "version": "3.6.4"
  }
 },
 "nbformat": 4,
 "nbformat_minor": 4
}
