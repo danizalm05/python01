{
 "cells": [
  {
   "cell_type": "markdown",
   "metadata": {},
   "source": [
    "#   Indexing and Selecting Data\n",
    " \n",
    "The Python and NumPy indexing operators \"[ ]\" and attribute operator \".\" provide quick and easy access to Pandas data structures across a wide range of use cases. However, since the type of the data to be accessed isn’t known in advance, directly using standard operators has some optimization limits. For production code, we recommend that you take advantage of the optimized pandas data access methods explained in this chapter.\n",
    "\n",
    "Pandas now supports three types of Multi-axes indexing; the three types are mentioned in the following table −\n",
    "\n",
    "  .loc() Label based\n",
    " \t\n",
    "  .iloc() Integer based\n",
    " \n",
    "  .ix() Both Label and Integer based\n",
    "\n",
    " https://www.tutorialspoint.com/python_pandas/python_pandas_indexing_and_selecting_data.htm"
   ]
  },
  {
   "cell_type": "code",
   "execution_count": 1,
   "metadata": {},
   "outputs": [],
   "source": [
    "import pandas as pd\n",
    "import numpy as np"
   ]
  },
  {
   "cell_type": "code",
   "execution_count": 2,
   "metadata": {},
   "outputs": [
    {
     "data": {
      "text/html": [
       "<div>\n",
       "<style scoped>\n",
       "    .dataframe tbody tr th:only-of-type {\n",
       "        vertical-align: middle;\n",
       "    }\n",
       "\n",
       "    .dataframe tbody tr th {\n",
       "        vertical-align: top;\n",
       "    }\n",
       "\n",
       "    .dataframe thead th {\n",
       "        text-align: right;\n",
       "    }\n",
       "</style>\n",
       "<table border=\"1\" class=\"dataframe\">\n",
       "  <thead>\n",
       "    <tr style=\"text-align: right;\">\n",
       "      <th></th>\n",
       "      <th>A</th>\n",
       "      <th>B</th>\n",
       "      <th>C</th>\n",
       "      <th>D</th>\n",
       "    </tr>\n",
       "  </thead>\n",
       "  <tbody>\n",
       "    <tr>\n",
       "      <th>a</th>\n",
       "      <td>0.891379</td>\n",
       "      <td>-0.406788</td>\n",
       "      <td>-0.253217</td>\n",
       "      <td>-0.401724</td>\n",
       "    </tr>\n",
       "    <tr>\n",
       "      <th>b</th>\n",
       "      <td>-1.595768</td>\n",
       "      <td>1.226259</td>\n",
       "      <td>-2.080529</td>\n",
       "      <td>0.733669</td>\n",
       "    </tr>\n",
       "    <tr>\n",
       "      <th>c</th>\n",
       "      <td>-0.459034</td>\n",
       "      <td>-2.042511</td>\n",
       "      <td>1.483967</td>\n",
       "      <td>0.968990</td>\n",
       "    </tr>\n",
       "    <tr>\n",
       "      <th>d</th>\n",
       "      <td>2.453766</td>\n",
       "      <td>-0.646895</td>\n",
       "      <td>0.752428</td>\n",
       "      <td>-0.034786</td>\n",
       "    </tr>\n",
       "    <tr>\n",
       "      <th>e</th>\n",
       "      <td>0.967470</td>\n",
       "      <td>0.762320</td>\n",
       "      <td>-0.888068</td>\n",
       "      <td>2.223633</td>\n",
       "    </tr>\n",
       "    <tr>\n",
       "      <th>f</th>\n",
       "      <td>-0.353881</td>\n",
       "      <td>-1.895874</td>\n",
       "      <td>0.570419</td>\n",
       "      <td>-1.736160</td>\n",
       "    </tr>\n",
       "    <tr>\n",
       "      <th>g</th>\n",
       "      <td>1.740131</td>\n",
       "      <td>0.678020</td>\n",
       "      <td>0.717293</td>\n",
       "      <td>0.698409</td>\n",
       "    </tr>\n",
       "    <tr>\n",
       "      <th>h</th>\n",
       "      <td>0.527542</td>\n",
       "      <td>-1.319085</td>\n",
       "      <td>0.391154</td>\n",
       "      <td>-1.331395</td>\n",
       "    </tr>\n",
       "  </tbody>\n",
       "</table>\n",
       "</div>"
      ],
      "text/plain": [
       "          A         B         C         D\n",
       "a  0.891379 -0.406788 -0.253217 -0.401724\n",
       "b -1.595768  1.226259 -2.080529  0.733669\n",
       "c -0.459034 -2.042511  1.483967  0.968990\n",
       "d  2.453766 -0.646895  0.752428 -0.034786\n",
       "e  0.967470  0.762320 -0.888068  2.223633\n",
       "f -0.353881 -1.895874  0.570419 -1.736160\n",
       "g  1.740131  0.678020  0.717293  0.698409\n",
       "h  0.527542 -1.319085  0.391154 -1.331395"
      ]
     },
     "execution_count": 2,
     "metadata": {},
     "output_type": "execute_result"
    }
   ],
   "source": [
    "df = pd.DataFrame(np.random.randn(8, 4),\n",
    "index = ['a','b','c','d','e','f','g','h'], columns = ['A', 'B', 'C', 'D'])\n",
    "\n",
    "df"
   ]
  },
  {
   "cell_type": "code",
   "execution_count": 3,
   "metadata": {},
   "outputs": [
    {
     "name": "stdout",
     "output_type": "stream",
     "text": [
      "a    0.891379\n",
      "b   -1.595768\n",
      "c   -0.459034\n",
      "d    2.453766\n",
      "e    0.967470\n",
      "f   -0.353881\n",
      "g    1.740131\n",
      "h    0.527542\n",
      "Name: A, dtype: float64 \n",
      "\n",
      "          A         C\n",
      "a  0.891379 -0.253217\n",
      "b -1.595768 -2.080529\n",
      "c -0.459034  1.483967\n",
      "d  2.453766  0.752428\n",
      "e  0.967470 -0.888068\n",
      "f -0.353881  0.570419\n",
      "g  1.740131  0.717293\n",
      "h  0.527542  0.391154 \n",
      "\n",
      "          A         C\n",
      "a  0.891379 -0.253217\n",
      "b -1.595768 -2.080529\n",
      "h  0.527542  0.391154 \n",
      "\n",
      "          A         B         C         D\n",
      "a  0.891379 -0.406788 -0.253217 -0.401724\n",
      "b -1.595768  1.226259 -2.080529  0.733669\n",
      "c -0.459034 -2.042511  1.483967  0.968990\n",
      "d  2.453766 -0.646895  0.752428 -0.034786\n",
      "e  0.967470  0.762320 -0.888068  2.223633\n",
      "f -0.353881 -1.895874  0.570419 -1.736160\n",
      "g  1.740131  0.678020  0.717293  0.698409\n",
      "h  0.527542 -1.319085  0.391154 -1.331395\n"
     ]
    }
   ],
   "source": [
    "#select all rows for a specific column\n",
    "print (df.loc[:,'A'] ,'\\n') \n",
    "# Select all rows for multiple columns, say list[]\n",
    "print (df.loc[:,['A','C']],'\\n')\n",
    "# Select few rows for multiple columns, say list[]\n",
    "print (df.loc[['a','b','h'],['A','C']],'\\n')\n",
    "# Select range of rows for all columns\n",
    "print (df.loc['a':'h'])"
   ]
  },
  {
   "cell_type": "code",
   "execution_count": 4,
   "metadata": {},
   "outputs": [
    {
     "name": "stdout",
     "output_type": "stream",
     "text": [
      "A     True\n",
      "B    False\n",
      "C    False\n",
      "D    False\n",
      "Name: a, dtype: bool\n"
     ]
    }
   ],
   "source": [
    " print (df.loc['a']>0)"
   ]
  },
  {
   "cell_type": "markdown",
   "metadata": {},
   "source": [
    "# .iloc()\n",
    "\n",
    "  get purely integer based indexing"
   ]
  },
  {
   "cell_type": "code",
   "execution_count": 5,
   "metadata": {},
   "outputs": [
    {
     "name": "stdout",
     "output_type": "stream",
     "text": [
      "          A         B         C         D\n",
      "a  0.891379 -0.406788 -0.253217 -0.401724\n",
      "b -1.595768  1.226259 -2.080529  0.733669\n",
      "c -0.459034 -2.042511  1.483967  0.968990\n",
      "d  2.453766 -0.646895  0.752428 -0.034786\n"
     ]
    }
   ],
   "source": [
    " # select all rows for a specific column\n",
    "print (df.iloc[:4])"
   ]
  },
  {
   "cell_type": "code",
   "execution_count": 6,
   "metadata": {},
   "outputs": [
    {
     "name": "stdout",
     "output_type": "stream",
     "text": [
      "          C         D\n",
      "b -2.080529  0.733669\n",
      "c  1.483967  0.968990\n",
      "d  0.752428 -0.034786\n",
      "e -0.888068  2.223633\n"
     ]
    }
   ],
   "source": [
    "print (df.iloc[1:5, 2:4] )"
   ]
  },
  {
   "cell_type": "code",
   "execution_count": 7,
   "metadata": {},
   "outputs": [
    {
     "name": "stdout",
     "output_type": "stream",
     "text": [
      "          B         D\n",
      "b  1.226259  0.733669\n",
      "d -0.646895 -0.034786\n",
      "f -1.895874 -1.736160\n",
      "          A         B         C         D\n",
      "b -1.595768  1.226259 -2.080529  0.733669\n",
      "c -0.459034 -2.042511  1.483967  0.968990\n",
      "          B         C         D\n",
      "a -0.406788 -0.253217 -0.401724\n",
      "b  1.226259 -2.080529  0.733669\n",
      "c -2.042511  1.483967  0.968990\n",
      "d -0.646895  0.752428 -0.034786\n",
      "e  0.762320 -0.888068  2.223633\n",
      "f -1.895874  0.570419 -1.736160\n",
      "g  0.678020  0.717293  0.698409\n",
      "h -1.319085  0.391154 -1.331395\n"
     ]
    }
   ],
   "source": [
    "# Slicing through list of values\n",
    "print (df.iloc[[1, 3, 5], [1, 3]])\n",
    "print (df.iloc[1:3, :])\n",
    "print (df.iloc[:,1:4]) "
   ]
  },
  {
   "cell_type": "markdown",
   "metadata": {},
   "source": [
    " .ix()\n",
    "\n",
    " hybrid method for selections and subsetting the object  "
   ]
  },
  {
   "cell_type": "code",
   "execution_count": 8,
   "metadata": {},
   "outputs": [
    {
     "name": "stdout",
     "output_type": "stream",
     "text": [
      "          A         B         C         D\n",
      "a  0.891379 -0.406788 -0.253217 -0.401724\n",
      "b -1.595768  1.226259 -2.080529  0.733669\n",
      "c -0.459034 -2.042511  1.483967  0.968990\n",
      "d  2.453766 -0.646895  0.752428 -0.034786 \n",
      "\n",
      "          A         B         C         D\n",
      "a  0.891379 -0.406788 -0.253217 -0.401724 \n",
      "\n"
     ]
    },
    {
     "name": "stderr",
     "output_type": "stream",
     "text": [
      "C:\\Users\\rockman\\Anaconda3\\lib\\site-packages\\ipykernel_launcher.py:1: DeprecationWarning: \n",
      ".ix is deprecated. Please use\n",
      ".loc for label based indexing or\n",
      ".iloc for positional indexing\n",
      "\n",
      "See the documentation here:\n",
      "http://pandas.pydata.org/pandas-docs/stable/indexing.html#ix-indexer-is-deprecated\n",
      "  \"\"\"Entry point for launching an IPython kernel.\n",
      "C:\\Users\\rockman\\Anaconda3\\lib\\site-packages\\ipykernel_launcher.py:2: DeprecationWarning: \n",
      ".ix is deprecated. Please use\n",
      ".loc for label based indexing or\n",
      ".iloc for positional indexing\n",
      "\n",
      "See the documentation here:\n",
      "http://pandas.pydata.org/pandas-docs/stable/indexing.html#ix-indexer-is-deprecated\n",
      "  \n"
     ]
    }
   ],
   "source": [
    " print (df.ix[:4],'\\n')\n",
    " print (df.ix[:'a'],'\\n')   "
   ]
  },
  {
   "cell_type": "markdown",
   "metadata": {},
   "source": [
    "# Statistical Functions\n",
    "https://www.tutorialspoint.com/python_pandas/python_pandas_statistical_functions.htm"
   ]
  },
  {
   "cell_type": "markdown",
   "metadata": {},
   "source": [
    "# Percent_change\n",
    "\n",
    "Series, DatFrames and Panel, all have the function pct_change(). This function compares every element with its prior element and computes the change percentage.\n",
    "\n",
    "By default, the pct_change() operates on columns;\n",
    "if you want to apply the same row wise, then use axis=1() argument."
   ]
  },
  {
   "cell_type": "code",
   "execution_count": 9,
   "metadata": {},
   "outputs": [
    {
     "name": "stdout",
     "output_type": "stream",
     "text": [
      "0         NaN\n",
      "1    1.000000\n",
      "2    0.500000\n",
      "3    0.333333\n",
      "4    0.250000\n",
      "5   -0.200000\n",
      "dtype: float64\n",
      "          0         1\n",
      "0       NaN       NaN\n",
      "1  6.245426 -6.524687\n",
      "2  0.280130 -1.700129\n",
      "3 -0.856789  0.127849\n",
      "4 -8.972565 -3.624335\n"
     ]
    }
   ],
   "source": [
    "s = pd.Series([1,2,3,4,5,4])\n",
    "print (s.pct_change())\n",
    "\n",
    "df = pd.DataFrame(np.random.randn(5, 2))\n",
    "print (df.pct_change() )"
   ]
  },
  {
   "cell_type": "code",
   "execution_count": 15,
   "metadata": {},
   "outputs": [
    {
     "name": "stdout",
     "output_type": "stream",
     "text": [
      "0   -1.217630\n",
      "1   -0.451641\n",
      "2    0.599213\n",
      "3   -1.438302\n",
      "4   -0.905229\n",
      "5    0.695782\n",
      "6   -1.572937\n",
      "7   -0.578331\n",
      "8   -0.858843\n",
      "9   -1.621571\n",
      "dtype: float64 \n",
      " cov  = 0.37813347147983056\n"
     ]
    }
   ],
   "source": [
    "#Covariance   applied on series data\n",
    "s1 = pd.Series(np.random.randn(10))\n",
    "s2 = pd.Series(np.random.randn(10))\n",
    "print (s1,'\\n cov  =',s1.cov(s2))"
   ]
  },
  {
   "cell_type": "code",
   "execution_count": 18,
   "metadata": {},
   "outputs": [
    {
     "name": "stdout",
     "output_type": "stream",
     "text": [
      "frame[ a ].cov(frame[ b ]) =  0.19068166873131734\n",
      "          a         b         c         d         e\n",
      "a  1.987950  0.190682  0.303564  0.121438  0.818489\n",
      "b  0.190682  2.054943  0.239032  0.468931  0.711169\n",
      "c  0.303564  0.239032  0.805684 -0.167491  0.648007\n",
      "d  0.121438  0.468931 -0.167491  1.489115 -0.583660\n",
      "e  0.818489  0.711169  0.648007 -0.583660  1.351781\n"
     ]
    }
   ],
   "source": [
    "#Covariance  applied on a DataFrame, computes cov between all the columns.\n",
    "frame = pd.DataFrame(np.random.randn(10, 5), columns=['a', 'b', 'c', 'd', 'e'])\n",
    "print ('frame[ a ].cov(frame[ b ]) = ',frame['a'].cov(frame['b']))\n",
    "print (frame.cov())"
   ]
  },
  {
   "cell_type": "markdown",
   "metadata": {},
   "source": [
    "# Correlation\n",
    "\n",
    "Correlation shows the linear relationship between any two array of values (series). There are multiple methods to compute the correlation like pearson(default), spearman and kendall. "
   ]
  },
  {
   "cell_type": "code",
   "execution_count": 20,
   "metadata": {},
   "outputs": [
    {
     "name": "stdout",
     "output_type": "stream",
     "text": [
      "0.09434226514797121\n",
      "          a         b         c         d         e\n",
      "a  1.000000  0.094342  0.239864  0.070581  0.499295\n",
      "b  0.094342  1.000000  0.185769  0.268068  0.426697\n",
      "c  0.239864  0.185769  1.000000 -0.152913  0.620932\n",
      "d  0.070581  0.268068 -0.152913  1.000000 -0.411380\n",
      "e  0.499295  0.426697  0.620932 -0.411380  1.000000\n"
     ]
    }
   ],
   "source": [
    "print (frame['a'].corr(frame['b']))\n",
    "print (frame.corr())"
   ]
  },
  {
   "cell_type": "markdown",
   "metadata": {},
   "source": [
    "# Data Ranking\n",
    "\n",
    "Data Ranking produces ranking for each element in the array of elements. In case of ties, assigns the mean rank.\n"
   ]
  },
  {
   "cell_type": "code",
   "execution_count": 24,
   "metadata": {},
   "outputs": [
    {
     "name": "stdout",
     "output_type": "stream",
     "text": [
      "a    0.047684\n",
      "b   -0.677289\n",
      "c    1.031239\n",
      "d   -1.113284\n",
      "e    0.080109\n",
      "dtype: float64\n",
      "a    3.0\n",
      "b    1.5\n",
      "c    5.0\n",
      "d    1.5\n",
      "e    4.0\n",
      "dtype: float64\n"
     ]
    }
   ],
   "source": [
    "s = pd.Series(np.random.np.random.randn(5), index=list('abcde'))\n",
    "print(s)\n",
    "s['d'] = s['b'] # so there's a tie\n",
    "print (s.rank())"
   ]
  },
  {
   "cell_type": "markdown",
   "metadata": {},
   "source": [
    "#  Window Functions\n",
    "https://www.tutorialspoint.com/python_pandas/python_pandas_window_functions.htm\n",
    "\n",
    "For working on numerical data, Pandas provide few variants like rolling, expanding and exponentially moving weights for window statistics. Among these are sum, mean, median, variance, covariance, correlation, etc. "
   ]
  },
  {
   "cell_type": "markdown",
   "metadata": {},
   "source": [
    "# .rolling()  \n",
    "\n",
    "This function can be applied on a series of data. Specify the window=n argument and apply the appropriate statistical function on top of it."
   ]
  },
  {
   "cell_type": "code",
   "execution_count": 27,
   "metadata": {
    "scrolled": true
   },
   "outputs": [
    {
     "name": "stdout",
     "output_type": "stream",
     "text": [
      "                   A         B         C         D\n",
      "2000-01-01 -0.139488  1.005300  0.219181  2.152987\n",
      "2000-01-02 -1.702983  1.420294  0.302528 -0.505084\n",
      "2000-01-03 -0.308261  0.574901  0.162752 -0.848525\n",
      "2000-01-04  1.251195 -1.853299  1.506683 -0.863800\n",
      "2000-01-05 -0.013401 -0.821836 -0.373666 -0.077285\n",
      "2000-01-06 -0.141061 -2.367297 -0.916062  0.267193\n",
      "2000-01-07  0.242596  0.431652  0.508310  1.532691\n",
      "2000-01-08  1.886295 -0.221724 -0.326843 -0.589927\n",
      "2000-01-09  1.213165  0.127129  0.523600  0.548656\n",
      "2000-01-10  0.593953  0.360567  0.796264 -0.529942\n",
      "                   A         B         C         D\n",
      "2000-01-01       NaN       NaN       NaN       NaN\n",
      "2000-01-02       NaN       NaN       NaN       NaN\n",
      "2000-01-03 -0.716911  1.000165  0.228154  0.266459\n",
      "2000-01-04 -0.253350  0.047299  0.657321 -0.739136\n",
      "2000-01-05  0.309844 -0.700078  0.431923 -0.596537\n",
      "2000-01-06  0.365578 -1.680811  0.072318 -0.224631\n",
      "2000-01-07  0.029378 -0.919160 -0.260473  0.574199\n",
      "2000-01-08  0.662610 -0.719123 -0.244865  0.403319\n",
      "2000-01-09  1.114019  0.112352  0.235022  0.497140\n",
      "2000-01-10  1.231138  0.088657  0.331007 -0.190404\n",
      "                   A         B         C         D\n",
      "2000-01-01       NaN       NaN       NaN       NaN\n",
      "2000-01-02       NaN       NaN       NaN       NaN\n",
      "2000-01-03       NaN       NaN       NaN       NaN\n",
      "2000-01-04       NaN       NaN       NaN       NaN\n",
      "2000-01-05 -0.182588  0.065072  0.363496 -0.028341\n",
      "2000-01-06 -0.182902 -0.609447  0.136447 -0.405500\n",
      "2000-01-07  0.206213 -0.807176  0.177603  0.002055\n",
      "2000-01-08  0.645125 -0.966501  0.079684  0.053774\n",
      "2000-01-09  0.637519 -0.570415 -0.116932  0.336265\n",
      "2000-01-10  0.758989 -0.333935  0.117054  0.245734\n"
     ]
    }
   ],
   "source": [
    "df = pd.DataFrame(np.random.randn(10, 4),\n",
    "   index = pd.date_range('1/1/2000', periods=10),\n",
    "   columns = ['A', 'B', 'C', 'D'])\n",
    "print (df)\n",
    "print (df.rolling(window=3).mean())\n",
    "print (df.rolling(window=5).mean())"
   ]
  },
  {
   "cell_type": "markdown",
   "metadata": {},
   "source": [
    "Note − when the window size is 3, for first two elements there are nulls and from third the value will be the average of the n, n-1 and n-2 elements. "
   ]
  },
  {
   "cell_type": "markdown",
   "metadata": {},
   "source": [
    ".ewm()  \n",
    "\n",
    "ewm is applied on a series of data. Specify any of the com, span, \n",
    "halflife argument and apply the appropriate statistical function on top \n",
    "of it. \n",
    "It assigns the weights exponentially."
   ]
  },
  {
   "cell_type": "code",
   "execution_count": 29,
   "metadata": {},
   "outputs": [
    {
     "name": "stdout",
     "output_type": "stream",
     "text": [
      "                   A         B         C         D\n",
      "2000-01-01 -0.139488  1.005300  0.219181  2.152987\n",
      "2000-01-02 -1.312109  1.316546  0.281692  0.159434\n",
      "2000-01-03 -0.617137  0.803099  0.199349 -0.538384\n",
      "2000-01-04  0.643987 -0.989969  1.081799 -0.758039\n",
      "2000-01-05  0.203917 -0.877417  0.107479 -0.302328\n",
      "2000-01-06 -0.026384 -1.872035 -0.575819  0.077874\n",
      "2000-01-07  0.153018 -0.335541  0.147264  1.048196\n",
      "2000-01-08  1.308712 -0.259652 -0.168856 -0.044053\n",
      "2000-01-09  1.245011 -0.001785  0.292805  0.351107\n",
      "2000-01-10  0.810965  0.239787  0.628450 -0.236269\n"
     ]
    }
   ],
   "source": [
    "print (df.ewm(com=0.5).mean())"
   ]
  }
 ],
 "metadata": {
  "anaconda-cloud": {},
  "kernelspec": {
   "display_name": "Python 3",
   "language": "python",
   "name": "python3"
  },
  "language_info": {
   "codemirror_mode": {
    "name": "ipython",
    "version": 3
   },
   "file_extension": ".py",
   "mimetype": "text/x-python",
   "name": "python",
   "nbconvert_exporter": "python",
   "pygments_lexer": "ipython3",
   "version": "3.6.4"
  }
 },
 "nbformat": 4,
 "nbformat_minor": 4
}
