{
 "cells": [
  {
   "cell_type": "markdown",
   "metadata": {},
   "source": [
    " #  IO Tools\n",
    " \n",
    " https://www.tutorialspoint.com/python_pandas/python_pandas_io_tool.htm\n",
    "The Pandas I/O API is a set of top level reader functions accessed like pd.read_csv() that generally return a Pandas object.\n",
    "\n",
    "The two workhorse functions for reading text files (or the flat files) are read_csv() and read_table(). They both use the same parsing code to intelligently convert tabular data into a DataFrame object −\n",
    "\n",
    "pandas.read_csv(filepath_or_buffer, sep=',', delimiter=None, header='infer',\n",
    "names=None, index_col=None, usecols=None\n",
    "\n",
    "pandas.read_csv(filepath_or_buffer, sep='\\t', delimiter=None, header='infer',\n",
    "names=None, index_col=None, usecols=None\n",
    "\n",
    "Here is how the csv file data looks like −\n",
    "\n",
    "S.No,Name,Age,City,Salary\n",
    "\n",
    "1,Tom,28,Toronto,20000\n",
    "\n",
    "2,Lee,32,HongKong,3000\n",
    "\n",
    "3,Steven,43,Bay Area,8300\n",
    "\n",
    "4,Ram,38,Hyderabad,3900\n",
    "\n",
    "Save this data as temp.csv and conduct operations on it."
   ]
  },
  {
   "cell_type": "code",
   "execution_count": 20,
   "metadata": {},
   "outputs": [],
   "source": [
    "import pandas as pd\n"
   ]
  },
  {
   "cell_type": "code",
   "execution_count": 21,
   "metadata": {},
   "outputs": [
    {
     "name": "stdout",
     "output_type": "stream",
     "text": [
      "       total_bill    tip         sex    smoker    day      time    size\n",
      "0           16.99   1.01     Female         No    Sun    Dinner       2\n",
      "1           10.34   1.66        Male        No    Sun    Dinner       3\n",
      "2           21.01   3.50        Male        No    Sun    Dinner       3\n",
      "3           23.68   3.31        Male        No    Sun    Dinner       2\n",
      "4           24.59   3.61      Female        No    Sun    Dinner       4\n"
     ]
    }
   ],
   "source": [
    "df=pd.read_csv(\"temp.csv\")\n",
    "print (df)"
   ]
  },
  {
   "cell_type": "code",
   "execution_count": 22,
   "metadata": {},
   "outputs": [],
   "source": [
    "#custom index\n",
    "# This specifies a column in the csv file to customize the index using index_col.\n",
    "#df=pd.read_csv(\"temp.csv\",index_col=['S.No'])# error Index S.No invalid\n",
    "#print (df)"
   ]
  },
  {
   "cell_type": "code",
   "execution_count": 23,
   "metadata": {},
   "outputs": [
    {
     "name": "stdout",
     "output_type": "stream",
     "text": [
      "    total_bill    float64\n",
      "  tip             float64\n",
      "     sex           object\n",
      "  smoker           object\n",
      "  day              object\n",
      "     time          object\n",
      "  size              int64\n",
      "dtype: object\n"
     ]
    }
   ],
   "source": [
    "import numpy as np\n",
    "# Converters\n",
    "# ndtype of the columns can be passed as a dict.\n",
    "df = pd.read_csv(\"temp.csv\", dtype={'Salary': np.float64})\n",
    "print (df.dtypes)"
   ]
  },
  {
   "cell_type": "code",
   "execution_count": 24,
   "metadata": {},
   "outputs": [
    {
     "data": {
      "text/html": [
       "<div>\n",
       "<style scoped>\n",
       "    .dataframe tbody tr th:only-of-type {\n",
       "        vertical-align: middle;\n",
       "    }\n",
       "\n",
       "    .dataframe tbody tr th {\n",
       "        vertical-align: top;\n",
       "    }\n",
       "\n",
       "    .dataframe thead th {\n",
       "        text-align: right;\n",
       "    }\n",
       "</style>\n",
       "<table border=\"1\" class=\"dataframe\">\n",
       "  <thead>\n",
       "    <tr style=\"text-align: right;\">\n",
       "      <th></th>\n",
       "      <th>total_bill</th>\n",
       "      <th>tip</th>\n",
       "      <th>sex</th>\n",
       "      <th>smoker</th>\n",
       "      <th>day</th>\n",
       "      <th>time</th>\n",
       "      <th>size</th>\n",
       "    </tr>\n",
       "  </thead>\n",
       "  <tbody>\n",
       "    <tr>\n",
       "      <th>0</th>\n",
       "      <td>16.99</td>\n",
       "      <td>1.01</td>\n",
       "      <td>Female</td>\n",
       "      <td>No</td>\n",
       "      <td>Sun</td>\n",
       "      <td>Dinner</td>\n",
       "      <td>2</td>\n",
       "    </tr>\n",
       "    <tr>\n",
       "      <th>1</th>\n",
       "      <td>10.34</td>\n",
       "      <td>1.66</td>\n",
       "      <td>Male</td>\n",
       "      <td>No</td>\n",
       "      <td>Sun</td>\n",
       "      <td>Dinner</td>\n",
       "      <td>3</td>\n",
       "    </tr>\n",
       "    <tr>\n",
       "      <th>2</th>\n",
       "      <td>21.01</td>\n",
       "      <td>3.50</td>\n",
       "      <td>Male</td>\n",
       "      <td>No</td>\n",
       "      <td>Sun</td>\n",
       "      <td>Dinner</td>\n",
       "      <td>3</td>\n",
       "    </tr>\n",
       "    <tr>\n",
       "      <th>3</th>\n",
       "      <td>23.68</td>\n",
       "      <td>3.31</td>\n",
       "      <td>Male</td>\n",
       "      <td>No</td>\n",
       "      <td>Sun</td>\n",
       "      <td>Dinner</td>\n",
       "      <td>2</td>\n",
       "    </tr>\n",
       "    <tr>\n",
       "      <th>4</th>\n",
       "      <td>24.59</td>\n",
       "      <td>3.61</td>\n",
       "      <td>Female</td>\n",
       "      <td>No</td>\n",
       "      <td>Sun</td>\n",
       "      <td>Dinner</td>\n",
       "      <td>4</td>\n",
       "    </tr>\n",
       "  </tbody>\n",
       "</table>\n",
       "</div>"
      ],
      "text/plain": [
       "       total_bill    tip         sex    smoker    day      time    size\n",
       "0           16.99   1.01     Female         No    Sun    Dinner       2\n",
       "1           10.34   1.66        Male        No    Sun    Dinner       3\n",
       "2           21.01   3.50        Male        No    Sun    Dinner       3\n",
       "3           23.68   3.31        Male        No    Sun    Dinner       2\n",
       "4           24.59   3.61      Female        No    Sun    Dinner       4"
      ]
     },
     "execution_count": 24,
     "metadata": {},
     "output_type": "execute_result"
    }
   ],
   "source": [
    "#By default, the dtype of the Salary column is int, but the result shows it as float \n",
    "#because we have explicitly casted the type.\n",
    "# Thus, the data looks like float −\n",
    "df"
   ]
  },
  {
   "cell_type": "code",
   "execution_count": 25,
   "metadata": {},
   "outputs": [],
   "source": [
    "# header_names\n",
    "# Specify the names of the header using the names argument. "
   ]
  },
  {
   "cell_type": "code",
   "execution_count": 26,
   "metadata": {},
   "outputs": [
    {
     "data": {
      "text/html": [
       "<div>\n",
       "<style scoped>\n",
       "    .dataframe tbody tr th:only-of-type {\n",
       "        vertical-align: middle;\n",
       "    }\n",
       "\n",
       "    .dataframe tbody tr th {\n",
       "        vertical-align: top;\n",
       "    }\n",
       "\n",
       "    .dataframe thead th {\n",
       "        text-align: right;\n",
       "    }\n",
       "</style>\n",
       "<table border=\"1\" class=\"dataframe\">\n",
       "  <thead>\n",
       "    <tr style=\"text-align: right;\">\n",
       "      <th></th>\n",
       "      <th></th>\n",
       "      <th>a</th>\n",
       "      <th>b</th>\n",
       "      <th>c</th>\n",
       "      <th>d</th>\n",
       "      <th>e</th>\n",
       "    </tr>\n",
       "  </thead>\n",
       "  <tbody>\n",
       "    <tr>\n",
       "      <th>total_bill</th>\n",
       "      <th>tip</th>\n",
       "      <td>sex</td>\n",
       "      <td>smoker</td>\n",
       "      <td>day</td>\n",
       "      <td>time</td>\n",
       "      <td>size</td>\n",
       "    </tr>\n",
       "    <tr>\n",
       "      <th>16.99</th>\n",
       "      <th>1.01</th>\n",
       "      <td>Female</td>\n",
       "      <td>No</td>\n",
       "      <td>Sun</td>\n",
       "      <td>Dinner</td>\n",
       "      <td>2</td>\n",
       "    </tr>\n",
       "    <tr>\n",
       "      <th>10.34</th>\n",
       "      <th>1.66</th>\n",
       "      <td>Male</td>\n",
       "      <td>No</td>\n",
       "      <td>Sun</td>\n",
       "      <td>Dinner</td>\n",
       "      <td>3</td>\n",
       "    </tr>\n",
       "    <tr>\n",
       "      <th>21.01</th>\n",
       "      <th>3.50</th>\n",
       "      <td>Male</td>\n",
       "      <td>No</td>\n",
       "      <td>Sun</td>\n",
       "      <td>Dinner</td>\n",
       "      <td>3</td>\n",
       "    </tr>\n",
       "    <tr>\n",
       "      <th>23.68</th>\n",
       "      <th>3.31</th>\n",
       "      <td>Male</td>\n",
       "      <td>No</td>\n",
       "      <td>Sun</td>\n",
       "      <td>Dinner</td>\n",
       "      <td>2</td>\n",
       "    </tr>\n",
       "    <tr>\n",
       "      <th>24.59</th>\n",
       "      <th>3.61</th>\n",
       "      <td>Female</td>\n",
       "      <td>No</td>\n",
       "      <td>Sun</td>\n",
       "      <td>Dinner</td>\n",
       "      <td>4</td>\n",
       "    </tr>\n",
       "  </tbody>\n",
       "</table>\n",
       "</div>"
      ],
      "text/plain": [
       "                                a         b      c          d        e\n",
       "    total_bill   tip          sex    smoker    day       time     size\n",
       "       16.99     1.01     Female         No    Sun     Dinner        2\n",
       "        10.34    1.66        Male        No    Sun     Dinner        3\n",
       "       21.01     3.50        Male        No    Sun     Dinner        3\n",
       "        23.68    3.31        Male        No    Sun     Dinner        2\n",
       "        24.59    3.61      Female        No    Sun     Dinner        4"
      ]
     },
     "execution_count": 26,
     "metadata": {},
     "output_type": "execute_result"
    }
   ],
   "source": [
    "df=pd.read_csv(\"temp.csv\", names=['a', 'b', 'c','d','e'])\n",
    "df "
   ]
  },
  {
   "cell_type": "code",
   "execution_count": 27,
   "metadata": {},
   "outputs": [
    {
     "data": {
      "text/html": [
       "<div>\n",
       "<style scoped>\n",
       "    .dataframe tbody tr th:only-of-type {\n",
       "        vertical-align: middle;\n",
       "    }\n",
       "\n",
       "    .dataframe tbody tr th {\n",
       "        vertical-align: top;\n",
       "    }\n",
       "\n",
       "    .dataframe thead th {\n",
       "        text-align: right;\n",
       "    }\n",
       "</style>\n",
       "<table border=\"1\" class=\"dataframe\">\n",
       "  <thead>\n",
       "    <tr style=\"text-align: right;\">\n",
       "      <th></th>\n",
       "      <th></th>\n",
       "      <th>a</th>\n",
       "      <th>b</th>\n",
       "      <th>c</th>\n",
       "      <th>d</th>\n",
       "      <th>e</th>\n",
       "    </tr>\n",
       "  </thead>\n",
       "  <tbody>\n",
       "    <tr>\n",
       "      <th>16.99</th>\n",
       "      <th>1.01</th>\n",
       "      <td>Female</td>\n",
       "      <td>No</td>\n",
       "      <td>Sun</td>\n",
       "      <td>Dinner</td>\n",
       "      <td>2</td>\n",
       "    </tr>\n",
       "    <tr>\n",
       "      <th>10.34</th>\n",
       "      <th>1.66</th>\n",
       "      <td>Male</td>\n",
       "      <td>No</td>\n",
       "      <td>Sun</td>\n",
       "      <td>Dinner</td>\n",
       "      <td>3</td>\n",
       "    </tr>\n",
       "    <tr>\n",
       "      <th>21.01</th>\n",
       "      <th>3.50</th>\n",
       "      <td>Male</td>\n",
       "      <td>No</td>\n",
       "      <td>Sun</td>\n",
       "      <td>Dinner</td>\n",
       "      <td>3</td>\n",
       "    </tr>\n",
       "    <tr>\n",
       "      <th>23.68</th>\n",
       "      <th>3.31</th>\n",
       "      <td>Male</td>\n",
       "      <td>No</td>\n",
       "      <td>Sun</td>\n",
       "      <td>Dinner</td>\n",
       "      <td>2</td>\n",
       "    </tr>\n",
       "    <tr>\n",
       "      <th>24.59</th>\n",
       "      <th>3.61</th>\n",
       "      <td>Female</td>\n",
       "      <td>No</td>\n",
       "      <td>Sun</td>\n",
       "      <td>Dinner</td>\n",
       "      <td>4</td>\n",
       "    </tr>\n",
       "  </tbody>\n",
       "</table>\n",
       "</div>"
      ],
      "text/plain": [
       "                     a         b      c         d  e\n",
       "16.99 1.01     Female         No    Sun    Dinner  2\n",
       "10.34 1.66        Male        No    Sun    Dinner  3\n",
       "21.01 3.50        Male        No    Sun    Dinner  3\n",
       "23.68 3.31        Male        No    Sun    Dinner  2\n",
       "24.59 3.61      Female        No    Sun    Dinner  4"
      ]
     },
     "execution_count": 27,
     "metadata": {},
     "output_type": "execute_result"
    }
   ],
   "source": [
    "# Observe, the header names are appended with the custom names, but the header in the file \n",
    "# has not been eliminated. \n",
    "# Now, we use the header argument to remove that.\n",
    "# If the header is in a row other than the first, pass the row number to header.\n",
    "# This will skip the preceding rows.\n",
    "\n",
    "df=pd.read_csv(\"temp.csv\",names=['a','b','c','d','e'],header=0)\n",
    "df"
   ]
  },
  {
   "cell_type": "markdown",
   "metadata": {},
   "source": [
    " "
   ]
  },
  {
   "cell_type": "code",
   "execution_count": 28,
   "metadata": {},
   "outputs": [
    {
     "data": {
      "text/html": [
       "<div>\n",
       "<style scoped>\n",
       "    .dataframe tbody tr th:only-of-type {\n",
       "        vertical-align: middle;\n",
       "    }\n",
       "\n",
       "    .dataframe tbody tr th {\n",
       "        vertical-align: top;\n",
       "    }\n",
       "\n",
       "    .dataframe thead th {\n",
       "        text-align: right;\n",
       "    }\n",
       "</style>\n",
       "<table border=\"1\" class=\"dataframe\">\n",
       "  <thead>\n",
       "    <tr style=\"text-align: right;\">\n",
       "      <th></th>\n",
       "      <th>16.99</th>\n",
       "      <th>1.01</th>\n",
       "      <th>Female</th>\n",
       "      <th>No</th>\n",
       "      <th>Sun</th>\n",
       "      <th>Dinner</th>\n",
       "      <th>2</th>\n",
       "    </tr>\n",
       "  </thead>\n",
       "  <tbody>\n",
       "    <tr>\n",
       "      <th>0</th>\n",
       "      <td>10.34</td>\n",
       "      <td>1.66</td>\n",
       "      <td>Male</td>\n",
       "      <td>No</td>\n",
       "      <td>Sun</td>\n",
       "      <td>Dinner</td>\n",
       "      <td>3</td>\n",
       "    </tr>\n",
       "    <tr>\n",
       "      <th>1</th>\n",
       "      <td>21.01</td>\n",
       "      <td>3.50</td>\n",
       "      <td>Male</td>\n",
       "      <td>No</td>\n",
       "      <td>Sun</td>\n",
       "      <td>Dinner</td>\n",
       "      <td>3</td>\n",
       "    </tr>\n",
       "    <tr>\n",
       "      <th>2</th>\n",
       "      <td>23.68</td>\n",
       "      <td>3.31</td>\n",
       "      <td>Male</td>\n",
       "      <td>No</td>\n",
       "      <td>Sun</td>\n",
       "      <td>Dinner</td>\n",
       "      <td>2</td>\n",
       "    </tr>\n",
       "    <tr>\n",
       "      <th>3</th>\n",
       "      <td>24.59</td>\n",
       "      <td>3.61</td>\n",
       "      <td>Female</td>\n",
       "      <td>No</td>\n",
       "      <td>Sun</td>\n",
       "      <td>Dinner</td>\n",
       "      <td>4</td>\n",
       "    </tr>\n",
       "  </tbody>\n",
       "</table>\n",
       "</div>"
      ],
      "text/plain": [
       "          16.99    1.01    Female         No    Sun    Dinner        2\n",
       "0         10.34    1.66       Male        No    Sun    Dinner        3\n",
       "1         21.01    3.50       Male        No    Sun    Dinner        3\n",
       "2         23.68    3.31       Male        No    Sun    Dinner        2\n",
       "3         24.59    3.61     Female        No    Sun    Dinner        4"
      ]
     },
     "execution_count": 28,
     "metadata": {},
     "output_type": "execute_result"
    }
   ],
   "source": [
    "#skiprows skips the number of rows specified.\n",
    "df=pd.read_csv(\"temp.csv\", skiprows=2)\n",
    "df  "
   ]
  },
  {
   "cell_type": "markdown",
   "metadata": {},
   "source": [
    "#  Sparse Data\n",
    "https://www.tutorialspoint.com/python_pandas/python_pandas_sparse_data.htm\n",
    "Sparse objects are “compressed” when any data matching a specific value (NaN / missing value, though any value can be chosen) is omitted. \n",
    "\n",
    "A special SparseIndex object tracks where data has been “sparsified”. This will make much more sense in an example. All of the standard Pandas data structures apply the to_sparse method −"
   ]
  },
  {
   "cell_type": "markdown",
   "metadata": {},
   "source": [
    " "
   ]
  },
  {
   "cell_type": "code",
   "execution_count": 29,
   "metadata": {},
   "outputs": [
    {
     "name": "stdout",
     "output_type": "stream",
     "text": [
      "0    0.397758\n",
      "1   -0.902610\n",
      "2    0.563284\n",
      "3    1.657133\n",
      "4   -0.176145\n",
      "5    0.881174\n",
      "6   -0.979461\n",
      "7    0.779686\n",
      "8    1.250653\n",
      "9    0.147026\n",
      "dtype: float64 \n",
      "\n",
      "0    0.397758\n",
      "1   -0.902610\n",
      "2         NaN\n",
      "3         NaN\n",
      "4         NaN\n",
      "5         NaN\n",
      "6         NaN\n",
      "7         NaN\n",
      "8    1.250653\n",
      "9    0.147026\n",
      "dtype: float64 \n",
      "\n",
      "0    0.397758\n",
      "1   -0.902610\n",
      "2         NaN\n",
      "3         NaN\n",
      "4         NaN\n",
      "5         NaN\n",
      "6         NaN\n",
      "7         NaN\n",
      "8    1.250653\n",
      "9    0.147026\n",
      "dtype: Sparse[float64, nan]\n",
      "BlockIndex\n",
      "Block locations: array([0, 8])\n",
      "Block lengths: array([2, 2])\n"
     ]
    }
   ],
   "source": [
    "ts = pd.Series(np.random.randn(10))\n",
    "print (ts,'\\n' )\n",
    "ts[2:-2] = np.nan\n",
    "print (ts,'\\n' )\n",
    "sts = ts.to_sparse()\n",
    "print (sts )"
   ]
  },
  {
   "cell_type": "code",
   "execution_count": 30,
   "metadata": {},
   "outputs": [
    {
     "name": "stdout",
     "output_type": "stream",
     "text": [
      "0   -1.859127\n",
      "1    0.677000\n",
      "2   -0.510576\n",
      "3   -0.886306\n",
      "Name: 9999, dtype: float64\n",
      "\n",
      "\n",
      " 0.6769995256319982\n",
      "density =  0.0001\n"
     ]
    },
    {
     "name": "stderr",
     "output_type": "stream",
     "text": [
      "C:\\Users\\rockman\\Anaconda3\\lib\\site-packages\\ipykernel_launcher.py:3: DeprecationWarning: \n",
      ".ix is deprecated. Please use\n",
      ".loc for label based indexing or\n",
      ".iloc for positional indexing\n",
      "\n",
      "See the documentation here:\n",
      "http://pandas.pydata.org/pandas-docs/stable/indexing.html#ix-indexer-is-deprecated\n",
      "  This is separate from the ipykernel package so we can avoid doing imports until\n",
      "C:\\Users\\rockman\\Anaconda3\\lib\\site-packages\\ipykernel_launcher.py:7: DeprecationWarning: \n",
      ".ix is deprecated. Please use\n",
      ".loc for label based indexing or\n",
      ".iloc for positional indexing\n",
      "\n",
      "See the documentation here:\n",
      "http://pandas.pydata.org/pandas-docs/stable/indexing.html#ix-indexer-is-deprecated\n",
      "  import sys\n",
      "C:\\Users\\rockman\\Anaconda3\\lib\\site-packages\\ipykernel_launcher.py:8: DeprecationWarning: \n",
      ".ix is deprecated. Please use\n",
      ".loc for label based indexing or\n",
      ".iloc for positional indexing\n",
      "\n",
      "See the documentation here:\n",
      "http://pandas.pydata.org/pandas-docs/stable/indexing.html#ix-indexer-is-deprecated\n",
      "  \n"
     ]
    }
   ],
   "source": [
    " \n",
    "df = pd.DataFrame(np.random.randn(10000, 4))\n",
    "df.ix[:9998] = np.nan\n",
    "sdf = df.to_sparse()\n",
    "\n",
    "\n",
    "print(df.ix[9999])\n",
    "print('\\n\\n',df.ix[9999][1])\n",
    "print ('density = ',sdf.density)"
   ]
  },
  {
   "cell_type": "markdown",
   "metadata": {},
   "source": [
    "# Sparse Dtypes\n",
    "\n",
    "Sparse data should have the same dtype as its dense representation. Currently, float64, int64 and booldtypes are supported. Depending on the original dtype, fill_value default changes −\n",
    "\n",
    "    float64 − np.nan\n",
    "\n",
    "    int64 − 0\n",
    "\n",
    "    bool − False\n",
    " \n"
   ]
  },
  {
   "cell_type": "code",
   "execution_count": 31,
   "metadata": {},
   "outputs": [
    {
     "name": "stdout",
     "output_type": "stream",
     "text": [
      "0    1.0\n",
      "1    NaN\n",
      "2    NaN\n",
      "dtype: float64\n",
      "0    1.0\n",
      "1    NaN\n",
      "2    NaN\n",
      "dtype: float64\n"
     ]
    }
   ],
   "source": [
    "s = pd.Series([1, np.nan, np.nan])\n",
    "print (s)\n",
    "\n",
    "s.to_sparse()\n",
    "print (s)"
   ]
  },
  {
   "cell_type": "markdown",
   "metadata": {},
   "source": [
    "# Caveats & Gotchas \n",
    "Caveats means warning and gotcha means an unseen problem.\n",
    "\n",
    "https://www.tutorialspoint.com/python_pandas/python_pandas_caveats_and_gotchas.htm\n",
    "\n",
    "<b>Using If/Truth Statement with Pandas</b>\n",
    "\n",
    "Pandas follows the numpy convention of raising an error when you try to convert something to a bool. This happens in an if or when using the Boolean operations, and, or, or not. It is not clear what the result should be. Should it be True because it is not zerolength? False because there are False values? It is unclear, so instead, Pandas raises a ValueError −"
   ]
  },
  {
   "cell_type": "code",
   "execution_count": null,
   "metadata": {},
   "outputs": [],
   "source": []
  },
  {
   "cell_type": "code",
   "execution_count": 32,
   "metadata": {},
   "outputs": [],
   "source": [
    "#if pd.Series([False, True, False]):\n",
    " #  print ('I am True') \n",
    "#ValueError: The truth value of a Series is ambiguous. Use a.empty, a.bool(), a.item(), a.any() or a.all()."
   ]
  },
  {
   "cell_type": "code",
   "execution_count": 33,
   "metadata": {},
   "outputs": [
    {
     "name": "stdout",
     "output_type": "stream",
     "text": [
      "I am any\n"
     ]
    }
   ],
   "source": [
    " if pd.Series([False, True, False]).any():\n",
    "   print(\"I am any\")"
   ]
  },
  {
   "cell_type": "code",
   "execution_count": 34,
   "metadata": {},
   "outputs": [
    {
     "name": "stdout",
     "output_type": "stream",
     "text": [
      "True\n"
     ]
    }
   ],
   "source": [
    " # To evaluate single-element pandas objects in a Boolean context, \n",
    " # use the method .bool() −\n",
    "\n",
    "print (pd.Series([True]).bool())"
   ]
  },
  {
   "cell_type": "markdown",
   "metadata": {},
   "source": [
    " "
   ]
  },
  {
   "cell_type": "code",
   "execution_count": 35,
   "metadata": {
    "scrolled": true
   },
   "outputs": [
    {
     "name": "stdout",
     "output_type": "stream",
     "text": [
      "0    0\n",
      "1    1\n",
      "2    2\n",
      "3    3\n",
      "4    4\n",
      "dtype: int64\n",
      "0    False\n",
      "1    False\n",
      "2    False\n",
      "3    False\n",
      "4     True\n",
      "dtype: bool\n"
     ]
    }
   ],
   "source": [
    "#Bitwise Boolean\n",
    "\n",
    "#Bitwise Boolean operators like == and != will return a Boolean series, \n",
    "#which is almost always what is required anyways.\n",
    "\n",
    "s = pd.Series(range(5))\n",
    "print (s )\n",
    "print (s==4 )"
   ]
  },
  {
   "cell_type": "markdown",
   "metadata": {},
   "source": [
    "  "
   ]
  },
  {
   "cell_type": "markdown",
   "metadata": {},
   "source": [
    " "
   ]
  },
  {
   "cell_type": "code",
   "execution_count": 36,
   "metadata": {},
   "outputs": [
    {
     "name": "stdout",
     "output_type": "stream",
     "text": [
      "0    a\n",
      "1    b\n",
      "2    c\n",
      "dtype: object\n",
      "0     True\n",
      "1    False\n",
      "2     True\n",
      "dtype: bool\n"
     ]
    }
   ],
   "source": [
    "s = pd.Series(list('abc'))\n",
    "print (s )\n",
    "s = s.isin(['a', 'c', 'e'])\n",
    "print (s )"
   ]
  },
  {
   "cell_type": "code",
   "execution_count": 37,
   "metadata": {},
   "outputs": [
    {
     "name": "stdout",
     "output_type": "stream",
     "text": [
      "        one       two     three      four\n",
      "a  1.244768 -0.416888 -1.804559 -2.427946\n",
      "b  0.490420  0.797101 -0.703248 -1.270402\n",
      "c  0.333451  0.678543 -0.034102 -0.561344\n",
      "d -0.528927  1.541165  2.343681  1.504311\n",
      "e -0.809158  0.006845  0.874882 -0.278007\n",
      "f -1.167694  0.131706  0.077056 -0.977912 \n",
      "\n",
      "\n",
      "        one       two     three      four\n",
      "b  0.490420  0.797101 -0.703248 -1.270402\n",
      "c  0.333451  0.678543 -0.034102 -0.561344\n",
      "e -0.809158  0.006845  0.874882 -0.278007 \n",
      "\n",
      "\n",
      "        one       two     three      four\n",
      "b  0.490420  0.797101 -0.703248 -1.270402\n",
      "c  0.333451  0.678543 -0.034102 -0.561344\n",
      "e -0.809158  0.006845  0.874882 -0.278007\n"
     ]
    },
    {
     "name": "stderr",
     "output_type": "stream",
     "text": [
      "C:\\Users\\rockman\\Anaconda3\\lib\\site-packages\\ipykernel_launcher.py:9: DeprecationWarning: \n",
      ".ix is deprecated. Please use\n",
      ".loc for label based indexing or\n",
      ".iloc for positional indexing\n",
      "\n",
      "See the documentation here:\n",
      "http://pandas.pydata.org/pandas-docs/stable/indexing.html#ix-indexer-is-deprecated\n",
      "  if __name__ == '__main__':\n"
     ]
    }
   ],
   "source": [
    "# Reindexing vs ix Gotcha\n",
    "\n",
    "#using the ix indexing capabilities as a concise means \n",
    "# of selecting data from a Pandas object \n",
    "df = pd.DataFrame(np.random.randn(6, 4), columns=['one', 'two', 'three',\n",
    "'four'],index=list('abcdef'))\n",
    "\n",
    "print (df,'\\n\\n')\n",
    "print (df.ix[['b', 'c', 'e']],'\\n\\n')\n",
    "print (df.loc[['b', 'c', 'e']])"
   ]
  },
  {
   "cell_type": "code",
   "execution_count": 38,
   "metadata": {},
   "outputs": [
    {
     "name": "stdout",
     "output_type": "stream",
     "text": [
      "        one       two     three      four\n",
      "b  0.490420  0.797101 -0.703248 -1.270402\n",
      "c  0.333451  0.678543 -0.034102 -0.561344\n",
      "e -0.809158  0.006845  0.874882 -0.278007\n"
     ]
    }
   ],
   "source": [
    "#This is, of course, completely equivalent in this case to using the \n",
    "# reindex method −\n",
    "print (df.reindex(['b', 'c', 'e']))"
   ]
  },
  {
   "cell_type": "code",
   "execution_count": 39,
   "metadata": {},
   "outputs": [
    {
     "name": "stdout",
     "output_type": "stream",
     "text": [
      "        one       two     three      four\n",
      "a  1.244768 -0.416888 -1.804559 -2.427946\n",
      "b  0.490420  0.797101 -0.703248 -1.270402\n",
      "c  0.333451  0.678543 -0.034102 -0.561344\n",
      "d -0.528927  1.541165  2.343681  1.504311\n",
      "e -0.809158  0.006845  0.874882 -0.278007\n",
      "f -1.167694  0.131706  0.077056 -0.977912\n",
      "        one       two     three      four\n",
      "b  0.490420  0.797101 -0.703248 -1.270402\n",
      "c  0.333451  0.678543 -0.034102 -0.561344\n",
      "e -0.809158  0.006845  0.874882 -0.278007\n",
      "   one  two  three  four\n",
      "1  NaN  NaN    NaN   NaN\n",
      "2  NaN  NaN    NaN   NaN\n",
      "4  NaN  NaN    NaN   NaN\n"
     ]
    },
    {
     "name": "stderr",
     "output_type": "stream",
     "text": [
      "C:\\Users\\rockman\\Anaconda3\\lib\\site-packages\\ipykernel_launcher.py:5: DeprecationWarning: \n",
      ".ix is deprecated. Please use\n",
      ".loc for label based indexing or\n",
      ".iloc for positional indexing\n",
      "\n",
      "See the documentation here:\n",
      "http://pandas.pydata.org/pandas-docs/stable/indexing.html#ix-indexer-is-deprecated\n",
      "  \"\"\"\n"
     ]
    }
   ],
   "source": [
    "#Some might conclude that ix and reindex are 100% equivalent based on this. \n",
    "#This is true except in the case of integer indexing. \n",
    "#For example, the above operation can alternatively be  expressed as −\n",
    "print (df)\n",
    "print (df.ix[[1, 2, 4]])\n",
    "print (df.reindex([1, 2, 4]))\n",
    "\n",
    "#It is important to remember that reindex is strict label indexing only. \n",
    "#This can lead to some potentially surprising results in pathological\n",
    "#cases where an index contains, say, both integers and strings."
   ]
  },
  {
   "cell_type": "markdown",
   "metadata": {},
   "source": [
    "# Comparison with SQL\n",
    "https://www.tutorialspoint.com/python_pandas/python_pandas_comparison_with_sql.htm"
   ]
  },
  {
   "cell_type": "code",
   "execution_count": 40,
   "metadata": {},
   "outputs": [
    {
     "name": "stdout",
     "output_type": "stream",
     "text": [
      "       total_bill    tip         sex    smoker    day      time    size\n",
      "0           16.99   1.01     Female         No    Sun    Dinner       2\n",
      "1           10.34   1.66        Male        No    Sun    Dinner       3\n",
      "2           21.01   3.50        Male        No    Sun    Dinner       3\n",
      "3           23.68   3.31        Male        No    Sun    Dinner       2\n",
      "4           24.59   3.61      Female        No    Sun    Dinner       4\n"
     ]
    }
   ],
   "source": [
    "import pandas as pd\n",
    "url = 'temp.csv'\n",
    "tips= pd.read_csv(url, header=0)\n",
    "print (tips.head())\n"
   ]
  },
  {
   "cell_type": "code",
   "execution_count": 41,
   "metadata": {},
   "outputs": [
    {
     "data": {
      "text/html": [
       "<div>\n",
       "<style scoped>\n",
       "    .dataframe tbody tr th:only-of-type {\n",
       "        vertical-align: middle;\n",
       "    }\n",
       "\n",
       "    .dataframe tbody tr th {\n",
       "        vertical-align: top;\n",
       "    }\n",
       "\n",
       "    .dataframe thead th {\n",
       "        text-align: right;\n",
       "    }\n",
       "</style>\n",
       "<table border=\"1\" class=\"dataframe\">\n",
       "  <thead>\n",
       "    <tr style=\"text-align: right;\">\n",
       "      <th></th>\n",
       "      <th>tip</th>\n",
       "      <th>sex</th>\n",
       "      <th>smoker</th>\n",
       "      <th>day</th>\n",
       "      <th>time</th>\n",
       "      <th>size</th>\n",
       "    </tr>\n",
       "    <tr>\n",
       "      <th>total_bill</th>\n",
       "      <th></th>\n",
       "      <th></th>\n",
       "      <th></th>\n",
       "      <th></th>\n",
       "      <th></th>\n",
       "      <th></th>\n",
       "    </tr>\n",
       "  </thead>\n",
       "  <tbody>\n",
       "    <tr>\n",
       "      <th>16.99</th>\n",
       "      <td>1.01</td>\n",
       "      <td>Female</td>\n",
       "      <td>No</td>\n",
       "      <td>Sun</td>\n",
       "      <td>Dinner</td>\n",
       "      <td>2</td>\n",
       "    </tr>\n",
       "    <tr>\n",
       "      <th>10.34</th>\n",
       "      <td>1.66</td>\n",
       "      <td>Male</td>\n",
       "      <td>No</td>\n",
       "      <td>Sun</td>\n",
       "      <td>Dinner</td>\n",
       "      <td>3</td>\n",
       "    </tr>\n",
       "    <tr>\n",
       "      <th>21.01</th>\n",
       "      <td>3.50</td>\n",
       "      <td>Male</td>\n",
       "      <td>No</td>\n",
       "      <td>Sun</td>\n",
       "      <td>Dinner</td>\n",
       "      <td>3</td>\n",
       "    </tr>\n",
       "    <tr>\n",
       "      <th>23.68</th>\n",
       "      <td>3.31</td>\n",
       "      <td>Male</td>\n",
       "      <td>No</td>\n",
       "      <td>Sun</td>\n",
       "      <td>Dinner</td>\n",
       "      <td>2</td>\n",
       "    </tr>\n",
       "    <tr>\n",
       "      <th>24.59</th>\n",
       "      <td>3.61</td>\n",
       "      <td>Female</td>\n",
       "      <td>No</td>\n",
       "      <td>Sun</td>\n",
       "      <td>Dinner</td>\n",
       "      <td>4</td>\n",
       "    </tr>\n",
       "  </tbody>\n",
       "</table>\n",
       "</div>"
      ],
      "text/plain": [
       "                  tip         sex    smoker    day      time    size\n",
       "    total_bill                                                      \n",
       "16.99            1.01     Female         No    Sun    Dinner       2\n",
       "10.34            1.66        Male        No    Sun    Dinner       3\n",
       "21.01            3.50        Male        No    Sun    Dinner       3\n",
       "23.68            3.31        Male        No    Sun    Dinner       2\n",
       "24.59            3.61      Female        No    Sun    Dinner       4"
      ]
     },
     "execution_count": 41,
     "metadata": {},
     "output_type": "execute_result"
    }
   ],
   "source": [
    "df = pd.read_csv(url, index_col= 0)\n",
    "df"
   ]
  },
  {
   "cell_type": "code",
   "execution_count": 42,
   "metadata": {},
   "outputs": [
    {
     "data": {
      "text/html": [
       "<div>\n",
       "<style scoped>\n",
       "    .dataframe tbody tr th:only-of-type {\n",
       "        vertical-align: middle;\n",
       "    }\n",
       "\n",
       "    .dataframe tbody tr th {\n",
       "        vertical-align: top;\n",
       "    }\n",
       "\n",
       "    .dataframe thead th {\n",
       "        text-align: right;\n",
       "    }\n",
       "</style>\n",
       "<table border=\"1\" class=\"dataframe\">\n",
       "  <thead>\n",
       "    <tr style=\"text-align: right;\">\n",
       "      <th></th>\n",
       "      <th>total_bill</th>\n",
       "      <th>tip</th>\n",
       "      <th>sex</th>\n",
       "    </tr>\n",
       "  </thead>\n",
       "  <tbody>\n",
       "    <tr>\n",
       "      <th>0</th>\n",
       "      <td>16.99</td>\n",
       "      <td>1.01</td>\n",
       "      <td>Female</td>\n",
       "    </tr>\n",
       "    <tr>\n",
       "      <th>1</th>\n",
       "      <td>10.34</td>\n",
       "      <td>1.66</td>\n",
       "      <td>Male</td>\n",
       "    </tr>\n",
       "    <tr>\n",
       "      <th>2</th>\n",
       "      <td>21.01</td>\n",
       "      <td>3.50</td>\n",
       "      <td>Male</td>\n",
       "    </tr>\n",
       "    <tr>\n",
       "      <th>3</th>\n",
       "      <td>23.68</td>\n",
       "      <td>3.31</td>\n",
       "      <td>Male</td>\n",
       "    </tr>\n",
       "    <tr>\n",
       "      <th>4</th>\n",
       "      <td>24.59</td>\n",
       "      <td>3.61</td>\n",
       "      <td>Female</td>\n",
       "    </tr>\n",
       "  </tbody>\n",
       "</table>\n",
       "</div>"
      ],
      "text/plain": [
       "       total_bill    tip         sex\n",
       "0           16.99   1.01     Female \n",
       "1           10.34   1.66        Male\n",
       "2           21.01   3.50        Male\n",
       "3           23.68   3.31        Male\n",
       "4           24.59   3.61      Female"
      ]
     },
     "execution_count": 42,
     "metadata": {},
     "output_type": "execute_result"
    }
   ],
   "source": [
    "df = pd.read_csv(url, usecols = [0,1,2])\n",
    "df"
   ]
  },
  {
   "cell_type": "code",
   "execution_count": 50,
   "metadata": {},
   "outputs": [
    {
     "name": "stdout",
     "output_type": "stream",
     "text": [
      "      Name  Age Height  Score  Random_A  Random_B  Random_C  Random_D  \\\n",
      "0      Joe   28    5'9     30        73        59         5         4   \n",
      "1  Melissa   26    5'5     32        30        85        38        32   \n",
      "2      Nik   31   5'11     34        80        71        59        71   \n",
      "3   Andrea   33    5'6     38        16        63        86        81   \n",
      "4     Jane   32    5'8     29        19        40        48         5   \n",
      "5   gumgum   28    5'9     30        83        59         5         4   \n",
      "\n",
      "   Random_E  \n",
      "0        31  \n",
      "1        80  \n",
      "2        53  \n",
      "3        42  \n",
      "4        68  \n",
      "5        31  \n",
      "\n",
      "selection = \n",
      " 0        Joe\n",
      "1    Melissa\n",
      "2        Nik\n",
      "Name: Name, dtype: object\n"
     ]
    }
   ],
   "source": [
    "#url ='https://raw.githubusercontent.com/datagy/pivot_table_pandas/master/select_columns.csv'\n",
    "url2 ='temp2.csv'\n",
    "df = pd.read_csv(url2)\n",
    "print(df )\n",
    "\n",
    "selection = df.loc[:2,'Name']\n",
    "print('\\nselection = \\n',selection)"
   ]
  },
  {
   "cell_type": "markdown",
   "metadata": {},
   "source": [
    "# SELECT\n",
    "\n",
    "In SQL, selection is done using a comma-separated list of columns that you select (or a * to select all columns) −\n",
    "\n",
    "SELECT Name,  Age, Height,  Score\n",
    "FROM selection\n",
    "WHERE  Name   =  'Joe'\n",
    "LIMIT 5;\n",
    "\n",
    "With Pandas, column selection is done by passing a list of column names to your DataFrame −\n",
    "\n",
    "selection[['Name,  Age, Height,  Score]].head(5)\n"
   ]
  },
  {
   "cell_type": "code",
   "execution_count": 64,
   "metadata": {},
   "outputs": [
    {
     "name": "stdout",
     "output_type": "stream",
     "text": [
      "      Name  Age Height  Score\n",
      "0   Andrea   33    5'6     38\n",
      "1      Joe   28    5'9     30\n",
      "2  Melissa   26    5'5     32\n",
      "3      Nik   31   5'11     34\n",
      "4   Andrea   33    5'6     38\n",
      "5   Andrea   33    5'6     38\n",
      "6     Jane   32    5'8     29  \n",
      "\n",
      "\n",
      "  Name  Age Height  Score\n",
      "1  Joe   28    5'9     30\n"
     ]
    }
   ],
   "source": [
    "df = pd.read_csv(url2)\n",
    "#pd.read_csv(url,  header =[1, 2]) \n",
    "# tips['total_bill', 'tip', 'smoker', 'time']\n",
    "selection = df.loc[:6,['Name', 'Age', 'Height', 'Score']]\n",
    "print(selection,' \\n\\n')\n",
    "            \n",
    "print (selection[selection['Name'] ==  'Joe'].head(5))# WHERE  Name   =  'Joe'"
   ]
  },
  {
   "cell_type": "markdown",
   "metadata": {},
   "source": [
    "# GroupBy\n",
    "\n",
    "This operation fetches the count of records in each group throughout a dataset. For instance, a query fetching us the number of tips left by sex −\n",
    "\n",
    "SELECT Name, count(*)\n",
    "FROM tips\n",
    "GROUP BY Name;\n"
   ]
  },
  {
   "cell_type": "code",
   "execution_count": 65,
   "metadata": {},
   "outputs": [
    {
     "name": "stdout",
     "output_type": "stream",
     "text": [
      "Name\n",
      "Andrea     3\n",
      "Jane       1\n",
      "Joe        1\n",
      "Melissa    1\n",
      "Nik        1\n",
      "dtype: int64\n"
     ]
    }
   ],
   "source": [
    "print (selection.groupby('Name').size())"
   ]
  }
 ],
 "metadata": {
  "anaconda-cloud": {},
  "kernelspec": {
   "display_name": "Python 3",
   "language": "python",
   "name": "python3"
  },
  "language_info": {
   "codemirror_mode": {
    "name": "ipython",
    "version": 3
   },
   "file_extension": ".py",
   "mimetype": "text/x-python",
   "name": "python",
   "nbconvert_exporter": "python",
   "pygments_lexer": "ipython3",
   "version": "3.6.4"
  }
 },
 "nbformat": 4,
 "nbformat_minor": 4
}
