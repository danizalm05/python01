{
 "cells": [
  {
   "cell_type": "markdown",
   "metadata": {},
   "source": [
    "<a href=\"https://colab.research.google.com/github/jeffheaton/t81_558_deep_learning/blob/master/t81_558_class_02_4_pandas_functional.ipynb\" target=\"_parent\"><img src=\"https://colab.research.google.com/assets/colab-badge.svg\" alt=\"Open In Colab\"/></a>"
   ]
  },
  {
   "cell_type": "markdown",
   "metadata": {},
   "source": [
    "#   Panda  basics\n",
    "<b>Pandas is  Python Library providing   data manipulation and analysis tool using its powerful data structures. The name Pandas is derived from the word Panel Data \n",
    "<br>\n",
    " All Pandas data structures are value mutable and Homogeneous data.\n",
    "  \n",
    "Series       1D  size immutable<br>\n",
    "Data Frames  2D  size  mutable <br>\n",
    "Panel \t     3D  size  mutable<br>  \n",
    "    \n",
    "* https://www.tutorialspoint.com/python_pandas/"
   ]
  },
  {
   "cell_type": "markdown",
   "metadata": {},
   "source": [
    "#  Series\n",
    " "
   ]
  },
  {
   "cell_type": "code",
   "execution_count": 1,
   "metadata": {},
   "outputs": [],
   "source": [
    "import pandas as pd"
   ]
  },
  {
   "cell_type": "code",
   "execution_count": 2,
   "metadata": {},
   "outputs": [
    {
     "name": "stdout",
     "output_type": "stream",
     "text": [
      "0    a\n",
      "1    b\n",
      "2    c\n",
      "3    d\n",
      "dtype: object\n"
     ]
    }
   ],
   "source": [
    "#Create a Series from ndarray\n",
    "import numpy as np\n",
    "data = np.array(['a','b','c','d'])\n",
    "s = pd.Series(data)\n",
    "print (s)"
   ]
  },
  {
   "cell_type": "code",
   "execution_count": 3,
   "metadata": {},
   "outputs": [
    {
     "name": "stdout",
     "output_type": "stream",
     "text": [
      "100    a\n",
      "101    b\n",
      "102    c\n",
      "103    d\n",
      "dtype: object\n"
     ]
    }
   ],
   "source": [
    "#Create a Series with index from input \n",
    "data = np.array(['a','b','c','d'])\n",
    "s = pd.Series(data,index=[100,101,102,103])\n",
    "print (s)"
   ]
  },
  {
   "cell_type": "code",
   "execution_count": 4,
   "metadata": {},
   "outputs": [
    {
     "name": "stdout",
     "output_type": "stream",
     "text": [
      "a    0.0\n",
      "b    1.0\n",
      "c    2.0\n",
      "dtype: float64\n",
      "0    5\n",
      "1    5\n",
      "2    5\n",
      "3    5\n",
      "dtype: int64\n"
     ]
    }
   ],
   "source": [
    "data = {'a' : 0., 'b' : 1., 'c' : 2.} #Create a Series from dict\n",
    "s0 = pd.Series(data)\n",
    "print (s0 ) \n",
    "s = pd.Series(5, index=[0, 1, 2, 3])#Create a Series from scalar\n",
    "print (s)"
   ]
  },
  {
   "cell_type": "markdown",
   "metadata": {},
   "source": [
    "### Accessing Data from Series with Position\n",
    "https://www.tutorialspoint.com/python_pandas/python_pandas_series.htm"
   ]
  },
  {
   "cell_type": "code",
   "execution_count": 5,
   "metadata": {},
   "outputs": [
    {
     "name": "stdout",
     "output_type": "stream",
     "text": [
      "0.0 \n",
      "\n",
      "a    0.0\n",
      "b    1.0\n",
      "c    2.0\n",
      "dtype: float64 \n",
      "\n",
      "1    5\n",
      "2    5\n",
      "3    5\n",
      "dtype: int64 \n",
      "\n",
      "2.0\n",
      "a    0.0\n",
      "c    2.0\n",
      "b    1.0\n",
      "dtype: float64\n"
     ]
    }
   ],
   "source": [
    "print (s0[0],'\\n' )       # retrieve the first element\n",
    "print (s0[:3],'\\n')       # retrieve the first three element\n",
    "print (s[-3:],'\\n')       # retrieve the last three element\n",
    "print (s0['c'])           # retrieve a single element Using Label (Index)\n",
    "print (s0[['a','c','b']]) #retrieve multiple elements"
   ]
  },
  {
   "cell_type": "markdown",
   "metadata": {},
   "source": [
    " # DataFrame\n",
    " A pandas DataFrame can be created using the following constructor −\n",
    "\n",
    "pandas.DataFrame( data, index, columns, dtype, copy)\n"
   ]
  },
  {
   "cell_type": "code",
   "execution_count": 6,
   "metadata": {},
   "outputs": [
    {
     "name": "stdout",
     "output_type": "stream",
     "text": [
      "   0\n",
      "0  1\n",
      "1  2\n",
      "2  3\n",
      "3  4\n",
      "4  5\n",
      "     Name  Age\n",
      "0    Alex   10\n",
      "1     Bob   12\n",
      "2  Clarke   13\n"
     ]
    }
   ],
   "source": [
    "data = [1,2,3,4,5]\n",
    "df = pd.DataFrame(data)\n",
    "print (df)\n",
    "data = [['Alex',10],['Bob',12],['Clarke',13]]\n",
    "df = pd.DataFrame(data, columns=['Name','Age'])\n",
    "print (df)\n",
    " "
   ]
  },
  {
   "cell_type": "markdown",
   "metadata": {},
   "source": [
    " "
   ]
  },
  {
   "cell_type": "markdown",
   "metadata": {},
   "source": [
    " # Create a DataFrame from Dict of ndarrays / Lists\n",
    " \n",
    " https://www.tutorialspoint.com/python_pandas/python_pandas_dataframe.htm"
   ]
  },
  {
   "cell_type": "markdown",
   "metadata": {},
   "source": [
    " "
   ]
  },
  {
   "cell_type": "code",
   "execution_count": 7,
   "metadata": {},
   "outputs": [
    {
     "name": "stdout",
     "output_type": "stream",
     "text": [
      "    Name  Age\n",
      "0    Tom   28\n",
      "1   Jack   34\n",
      "2  Steve   29\n",
      "3  Ricky   42 \n",
      "\n",
      "        Name  Age\n",
      "rank1    Tom   28\n",
      "rank2   Jack   34\n",
      "rank3  Steve   29\n",
      "rank4  Ricky   42 \n",
      "\n",
      "   a   b     c\n",
      "0  1   2   NaN\n",
      "1  5  10  20.0 \n",
      "\n"
     ]
    }
   ],
   "source": [
    "data = {'Name':['Tom', 'Jack', 'Steve', 'Ricky'],'Age':[28,34,29,42]}\n",
    "df = pd.DataFrame(data)\n",
    "print (df,'\\n' )\n",
    "#indexed DataFrame using arrays\n",
    "data = {'Name':['Tom', 'Jack', 'Steve', 'Ricky'],'Age':[28,34,29,42]}\n",
    "df = pd.DataFrame(data, index=['rank1','rank2','rank3','rank4'])\n",
    "print (df,'\\n')\n",
    "#Create a DataFrame from List of Dicts \n",
    "data = [{'a': 1, 'b': 2},{'a': 5, 'b': 10, 'c': 20}]\n",
    "df = pd.DataFrame(data)\n",
    "print (df,'\\n')"
   ]
  },
  {
   "cell_type": "code",
   "execution_count": 8,
   "metadata": {},
   "outputs": [
    {
     "name": "stdout",
     "output_type": "stream",
     "text": [
      "        a   b\n",
      "first   1   2\n",
      "second  5  10 \n",
      "\n",
      "        a  b1\n",
      "first   1 NaN\n",
      "second  5 NaN\n"
     ]
    }
   ],
   "source": [
    " # reate a DataFrame with a list of dictionaries, row indices, and column indices.\n",
    " data = [{'a': 1, 'b': 2},{'a': 5, 'b': 10, 'c': 20}]\n",
    "\n",
    "#With two column indices, values same as dictionary keys\n",
    "df1 = pd.DataFrame(data, index=['first', 'second'], columns=['a', 'b'])\n",
    "\n",
    "#With two column indices with one index with other name\n",
    "df2 = pd.DataFrame(data, index=['first', 'second'], columns=['a', 'b1'])\n",
    "print (df1,'\\n')\n",
    "print (df2 )  "
   ]
  },
  {
   "cell_type": "code",
   "execution_count": 9,
   "metadata": {},
   "outputs": [
    {
     "name": "stdout",
     "output_type": "stream",
     "text": [
      "   one  two\n",
      "a  1.0    1\n",
      "b  2.0    2\n",
      "c  3.0    3\n",
      "d  NaN    4 \n",
      "\n",
      "a    1.0\n",
      "b    2.0\n",
      "c    3.0\n",
      "d    NaN\n",
      "Name: one, dtype: float64\n",
      "   one  two  three\n",
      "a  1.0    1   10.0\n",
      "b  2.0    2   20.0\n",
      "c  3.0    3   30.0\n",
      "d  NaN    4    NaN \n",
      "\n",
      "Adding a new column using the existing columns in DataFrame:\n",
      "   one  two  three  four\n",
      "a  1.0    1   10.0  11.0\n",
      "b  2.0    2   20.0  22.0\n",
      "c  3.0    3   30.0  33.0\n",
      "d  NaN    4    NaN   NaN\n"
     ]
    }
   ],
   "source": [
    " #Create a DataFrame from Dict of Series\n",
    "d = {'one' : pd.Series([1, 2, 3], index=['a', 'b', 'c']),\n",
    "   'two' : pd.Series([1, 2, 3, 4], index=['a', 'b', 'c', 'd'])}\n",
    "\n",
    "df = pd.DataFrame(d)\n",
    "print (df,'\\n' )   \n",
    "print (df ['one'])#Column Selection\n",
    "\n",
    "# Add  column \n",
    "df['three']=pd.Series([10,20,30],index=['a','b','c'])\n",
    "print (df,'\\n')\n",
    "print (\"Adding a new column using the existing columns in DataFrame:\")\n",
    "df['four']=df['one']+df['three']\n",
    "print (df)"
   ]
  },
  {
   "cell_type": "code",
   "execution_count": 10,
   "metadata": {},
   "outputs": [
    {
     "name": "stdout",
     "output_type": "stream",
     "text": [
      "Deleting the first column using DEL function:\n",
      "   two  three  four\n",
      "a    1   10.0  11.0\n",
      "b    2   20.0  22.0\n",
      "c    3   30.0  33.0\n",
      "d    4    NaN   NaN\n",
      "Deleting another column using POP function:\n",
      "   three  four\n",
      "a   10.0  11.0\n",
      "b   20.0  22.0\n",
      "c   30.0  33.0\n",
      "d    NaN   NaN\n"
     ]
    }
   ],
   "source": [
    " #Column Deletion\n",
    "print (\"Deleting the first column using DEL function:\")\n",
    "del df['one']\n",
    "print (df)\n",
    "# using pop function\n",
    "print (\"Deleting another column using POP function:\")\n",
    "df.pop('two')\n",
    "print (df)"
   ]
  },
  {
   "cell_type": "markdown",
   "metadata": {},
   "source": [
    " # Row Selection, Addition, and Deletion "
   ]
  },
  {
   "cell_type": "code",
   "execution_count": 11,
   "metadata": {},
   "outputs": [
    {
     "name": "stdout",
     "output_type": "stream",
     "text": [
      "   one  two\n",
      "a  1.0    1\n",
      "b  2.0    2\n",
      "c  3.0    3\n",
      "d  NaN    4 \n",
      "\n",
      "one    2.0\n",
      "two    2.0\n",
      "Name: b, dtype: float64 \n",
      "\n",
      "one    3.0\n",
      "two    3.0\n",
      "Name: c, dtype: float64 \n",
      "\n",
      "   one  two\n",
      "c  3.0    3\n",
      "d  NaN    4 \n",
      "\n",
      "   one  two\n",
      "0    5    6\n",
      "1    9    8\n",
      "   one  two\n",
      "a  1.0    1\n",
      "b  2.0    2\n",
      "c  3.0    3\n",
      "d  NaN    4\n",
      "0  5.0    6\n",
      "1  9.0    8 \n",
      "\n",
      "   one  two\n",
      "a  1.0    1\n",
      "b  2.0    2\n",
      "c  3.0    3\n",
      "d  NaN    4\n",
      "1  9.0    8\n"
     ]
    }
   ],
   "source": [
    " d = {'one' : pd.Series([1, 2, 3], index=['a', 'b', 'c']), \n",
    "   'two' : pd.Series([1, 2, 3, 4], index=['a', 'b', 'c', 'd'])}\n",
    "\n",
    "df = pd.DataFrame(d)\n",
    "print (df,'\\n')\n",
    "print (df.loc['b'],'\\n')     # row 'b'\n",
    "print (df.iloc[2] ,'\\n')     # Selection by integer location\n",
    "print (df[2:4],'\\n' )        #Slice Rows\n",
    "\n",
    "#Addition of Rows\n",
    "df2 = pd.DataFrame([[5, 6 ], [9, 8]], columns = ['one', 'two'])\n",
    "print (df2)\n",
    "df = df.append(df2)\n",
    "print (df,'\\n')\n",
    "\n",
    "# Drop rows with label '0'\n",
    "df = df.drop(0)\n",
    "\n",
    "print (df)"
   ]
  },
  {
   "cell_type": "markdown",
   "metadata": {},
   "source": [
    "# A panel is a 3D container of data. The term Panel data is derived from econometrics and is partially responsible for the name pandas − pan(el)-da(ta)-s.\n",
    "\n",
    "The names for the 3 axes are intended to give some semantic meaning to describing operations involving panel data. They are −\n",
    "\n",
    "    items − axis 0, each item corresponds to a DataFrame contained inside.\n",
    "\n",
    "    major_axis − axis 1, it is the index (rows) of each of the DataFrames.\n",
    "\n",
    "    minor_axis − axis 2, it is the columns of each of the DataFrames.\n",
    "\n",
    "https://www.tutorialspoint.com/python_pandas/python_pandas_panel.htm"
   ]
  },
  {
   "cell_type": "code",
   "execution_count": 12,
   "metadata": {},
   "outputs": [
    {
     "name": "stdout",
     "output_type": "stream",
     "text": [
      "<class 'pandas.core.panel.Panel'>\n",
      "Dimensions: 2 (items) x 4 (major_axis) x 5 (minor_axis)\n",
      "Items axis: 0 to 1\n",
      "Major_axis axis: 0 to 3\n",
      "Minor_axis axis: 0 to 4\n"
     ]
    },
    {
     "name": "stderr",
     "output_type": "stream",
     "text": [
      "C:\\Users\\rockman\\Anaconda3\\lib\\site-packages\\IPython\\core\\interactiveshell.py:2910: FutureWarning: \n",
      "Panel is deprecated and will be removed in a future version.\n",
      "The recommended way to represent these types of 3-dimensional data are with a MultiIndex on a DataFrame, via the Panel.to_frame() method\n",
      "Alternatively, you can use the xarray package http://xarray.pydata.org/en/stable/.\n",
      "Pandas provides a `.to_xarray()` method to help automate this conversion.\n",
      "\n",
      "  exec(code_obj, self.user_global_ns, self.user_ns)\n"
     ]
    }
   ],
   "source": [
    "import numpy as np\n",
    "data = np.random.rand(2,4,5)\n",
    "p = pd.Panel(data)\n",
    "print (p)"
   ]
  },
  {
   "cell_type": "markdown",
   "metadata": {},
   "source": [
    " # Series Basic Functionality\n",
    " https://www.tutorialspoint.com/python_pandas/python_pandas_basic_functionality.htm"
   ]
  },
  {
   "cell_type": "code",
   "execution_count": 13,
   "metadata": {},
   "outputs": [
    {
     "name": "stdout",
     "output_type": "stream",
     "text": [
      "0   -1.220373\n",
      "1    1.515336\n",
      "2    1.099228\n",
      "3   -0.368760\n",
      "dtype: float64 \n",
      "\n",
      "The axes are: [RangeIndex(start=0, stop=4, step=1)]\n",
      "Is the Object empty?  False\n",
      "The dimensions of the object: 1\n",
      "The size of the object: 4\n",
      "The actual data series is: [-1.22037333  1.51533647  1.09922832 -0.36875994]\n",
      "The first two rows of the data series:\n",
      " 0   -1.220373\n",
      "1    1.515336\n",
      "dtype: float64\n",
      "The last two rows of the data series:\n",
      " 2    1.099228\n",
      "3   -0.368760\n",
      "dtype: float64\n"
     ]
    }
   ],
   "source": [
    "import pandas as pd\n",
    "import numpy as np\n",
    "s = pd.Series(np.random.randn(4))\n",
    "print(s,'\\n' )\n",
    "print (\"The axes are:\", s.axes)\n",
    "print (\"Is the Object empty? \",s.empty)\n",
    "print (\"The dimensions of the object:\",s.ndim )\n",
    "print (\"The size of the object:\" ,s.size  )\n",
    "print (\"The actual data series is:\", s.values)\n",
    "print (\"The first two rows of the data series:\\n\",s.head(2))\n",
    "print (\"The last two rows of the data series:\\n\",  s.tail(2) )\n",
    " \n",
    " "
   ]
  },
  {
   "cell_type": "markdown",
   "metadata": {},
   "source": [
    " # DataFrame Basic Functionality\n"
   ]
  },
  {
   "cell_type": "code",
   "execution_count": 14,
   "metadata": {},
   "outputs": [],
   "source": [
    "#import pandas as pd\n",
    "import pandas as pd"
   ]
  },
  {
   "cell_type": "code",
   "execution_count": 15,
   "metadata": {},
   "outputs": [
    {
     "name": "stdout",
     "output_type": "stream",
     "text": [
      "      Name  Age  Rating\n",
      "0      Tom   25    4.23\n",
      "1    James   26    3.24\n",
      "2    Ricky   25    3.98\n",
      "3      Vin   23    2.56\n",
      "4    Steve   30    3.20\n",
      "5    Smith   29    4.60\n",
      "6     Jack   23    3.80\n",
      "7      Lee   34    3.78\n",
      "8    David   40    2.98\n",
      "9   Gasper   30    4.80\n",
      "10  Betina   51    4.10\n",
      "11  Andres   46    3.65\n",
      "The transpose of the data series is:\n",
      "          0      1      2     3      4      5     6     7      8       9   \\\n",
      "Name     Tom  James  Ricky   Vin  Steve  Smith  Jack   Lee  David  Gasper   \n",
      "Age       25     26     25    23     30     29    23    34     40      30   \n",
      "Rating  4.23   3.24   3.98  2.56    3.2    4.6   3.8  3.78   2.98     4.8   \n",
      "\n",
      "            10      11  \n",
      "Name    Betina  Andres  \n",
      "Age         51      46  \n",
      "Rating     4.1    3.65  \n"
     ]
    }
   ],
   "source": [
    "d = {'Name':pd.Series(['Tom','James','Ricky','Vin','Steve','Smith','Jack',\n",
    "   'Lee','David','Gasper','Betina','Andres']),\n",
    "   'Age':pd.Series([25,26,25,23,30,29,23,34,40,30,51,46]),\n",
    "   'Rating':pd.Series([4.23,3.24,3.98,2.56,3.20,4.6,3.8,3.78,2.98,4.80,4.10,3.65])\n",
    "}\n",
    "df = pd.DataFrame(d)\n",
    "print (df)\n",
    "print (\"The transpose of the data series is:\")\n",
    "print (df.T)"
   ]
  },
  {
   "cell_type": "code",
   "execution_count": 16,
   "metadata": {},
   "outputs": [
    {
     "name": "stdout",
     "output_type": "stream",
     "text": [
      "Row axis labels and column axis labels are:\n",
      "[RangeIndex(start=0, stop=12, step=1), Index(['Name', 'Age', 'Rating'], dtype='object')] \n",
      "\n",
      "The data types of each column are:\n",
      "Name       object\n",
      "Age         int64\n",
      "Rating    float64\n",
      "dtype: object \n",
      "\n",
      "Is the object empty?\n",
      "False \n",
      "\n",
      "The dimension of the object is:\n",
      "2 \n",
      "\n",
      "The shape of the object is:\n",
      "(12, 3) \n",
      "\n",
      "The total number of elements in our object is:\n",
      "36 \n",
      "\n",
      "The actual data in our data frame is:\n",
      "[['Tom' 25 4.23]\n",
      " ['James' 26 3.24]\n",
      " ['Ricky' 25 3.98]\n",
      " ['Vin' 23 2.56]\n",
      " ['Steve' 30 3.2]\n",
      " ['Smith' 29 4.6]\n",
      " ['Jack' 23 3.8]\n",
      " ['Lee' 34 3.78]\n",
      " ['David' 40 2.98]\n",
      " ['Gasper' 30 4.8]\n",
      " ['Betina' 51 4.1]\n",
      " ['Andres' 46 3.65]] \n",
      "\n",
      "The first two rows of the data frame is:\n",
      "    Name  Age  Rating\n",
      "0    Tom   25    4.23\n",
      "1  James   26    3.24 \n",
      "\n",
      "The last two rows of the data frame is:\n",
      "      Name  Age  Rating\n",
      "10  Betina   51    4.10\n",
      "11  Andres   46    3.65\n"
     ]
    }
   ],
   "source": [
    "print (\"Row axis labels and column axis labels are:\")\n",
    "print (df.axes,'\\n')\n",
    "print (\"The data types of each column are:\")\n",
    "print (df.dtypes,'\\n')\n",
    "print (\"Is the object empty?\")\n",
    "print (df.empty,'\\n')\n",
    "print (\"The dimension of the object is:\")\n",
    "print (df.ndim,'\\n')\n",
    "print (\"The shape of the object is:\")\n",
    "print (df.shape,'\\n')\n",
    "print (\"The total number of elements in our object is:\")\n",
    "print (df.size,'\\n')\n",
    "print (\"The actual data in our data frame is:\")\n",
    "print (df.values,'\\n')\n",
    "print (\"The first two rows of the data frame is:\")\n",
    "print (df.head(2),'\\n')\n",
    "print (\"The last two rows of the data frame is:\")\n",
    "print (df.tail(2))"
   ]
  },
  {
   "cell_type": "markdown",
   "metadata": {},
   "source": [
    " # Python Pandas - Descriptive Statistics\n",
    " https://www.tutorialspoint.com/python_pandas/python_pandas_descriptive_statistics.htm\n",
    " \n",
    " 1 \tcount() \tNumber of non-null observations\n",
    " \n",
    "2 \tsum() \tSum of values\n",
    "\n",
    "3 \tmean() \tMean of Values\n",
    "\n",
    "4 \tmedian() \tMedian of Values\n",
    "\n",
    "5 \tmode() \tMode of values\n",
    "\n",
    "6 \tstd() \tStandard Deviation of the Values\n",
    "\n",
    "7 \tmin() \tMinimum Value\n",
    "\n",
    "8 \tmax() \tMaximum Value\n",
    "\n",
    "9 \tabs() \tAbsolute Value\n",
    "\n",
    "10 \tprod() \tProduct of Values\n",
    "\n",
    "11 \tcumsum() \tCumulative Sum\n",
    "\n",
    "12 \tcumprod() \tCumulative Product\n"
   ]
  },
  {
   "cell_type": "code",
   "execution_count": 17,
   "metadata": {},
   "outputs": [
    {
     "name": "stdout",
     "output_type": "stream",
     "text": [
      "Name      TomJamesRickyVinSteveSmithJackLeeDavidGasperBe...\n",
      "Age                                                     382\n",
      "Rating                                                44.92\n",
      "dtype: object /n\n",
      "0     29.23\n",
      "1     29.24\n",
      "2     28.98\n",
      "3     25.56\n",
      "4     33.20\n",
      "5     33.60\n",
      "6     26.80\n",
      "7     37.78\n",
      "8     42.98\n",
      "9     34.80\n",
      "10    55.10\n",
      "11    49.65\n",
      "dtype: float64\n"
     ]
    }
   ],
   "source": [
    "df = pd.DataFrame(d)\n",
    "# sum of the values for the requested axis. By default, axis is index (axis=0)\n",
    "# Each individual column is added individually \n",
    "print (df.sum(),'/n')# By default, axis is index (axis=0).\n",
    "print(df.sum(1))# axis=1 Each individual row is added individually "
   ]
  },
  {
   "cell_type": "code",
   "execution_count": 18,
   "metadata": {},
   "outputs": [
    {
     "data": {
      "text/html": [
       "<div>\n",
       "<style scoped>\n",
       "    .dataframe tbody tr th:only-of-type {\n",
       "        vertical-align: middle;\n",
       "    }\n",
       "\n",
       "    .dataframe tbody tr th {\n",
       "        vertical-align: top;\n",
       "    }\n",
       "\n",
       "    .dataframe thead th {\n",
       "        text-align: right;\n",
       "    }\n",
       "</style>\n",
       "<table border=\"1\" class=\"dataframe\">\n",
       "  <thead>\n",
       "    <tr style=\"text-align: right;\">\n",
       "      <th></th>\n",
       "      <th>Name</th>\n",
       "      <th>Age</th>\n",
       "      <th>Rating</th>\n",
       "    </tr>\n",
       "  </thead>\n",
       "  <tbody>\n",
       "    <tr>\n",
       "      <th>0</th>\n",
       "      <td>Tom</td>\n",
       "      <td>25</td>\n",
       "      <td>4.23</td>\n",
       "    </tr>\n",
       "    <tr>\n",
       "      <th>1</th>\n",
       "      <td>James</td>\n",
       "      <td>26</td>\n",
       "      <td>3.24</td>\n",
       "    </tr>\n",
       "    <tr>\n",
       "      <th>2</th>\n",
       "      <td>Ricky</td>\n",
       "      <td>25</td>\n",
       "      <td>3.98</td>\n",
       "    </tr>\n",
       "    <tr>\n",
       "      <th>...</th>\n",
       "      <td>...</td>\n",
       "      <td>...</td>\n",
       "      <td>...</td>\n",
       "    </tr>\n",
       "    <tr>\n",
       "      <th>9</th>\n",
       "      <td>Gasper</td>\n",
       "      <td>30</td>\n",
       "      <td>4.80</td>\n",
       "    </tr>\n",
       "    <tr>\n",
       "      <th>10</th>\n",
       "      <td>Betina</td>\n",
       "      <td>51</td>\n",
       "      <td>4.10</td>\n",
       "    </tr>\n",
       "    <tr>\n",
       "      <th>11</th>\n",
       "      <td>Andres</td>\n",
       "      <td>46</td>\n",
       "      <td>3.65</td>\n",
       "    </tr>\n",
       "  </tbody>\n",
       "</table>\n",
       "<p>12 rows × 3 columns</p>\n",
       "</div>"
      ],
      "text/plain": [
       "      Name  Age  Rating\n",
       "0      Tom   25    4.23\n",
       "1    James   26    3.24\n",
       "2    Ricky   25    3.98\n",
       "..     ...  ...     ...\n",
       "9   Gasper   30    4.80\n",
       "10  Betina   51    4.10\n",
       "11  Andres   46    3.65\n",
       "\n",
       "[12 rows x 3 columns]"
      ]
     },
     "metadata": {},
     "output_type": "display_data"
    },
    {
     "name": "stdout",
     "output_type": "stream",
     "text": [
      "Age       31.833333\n",
      "Rating     3.743333\n",
      "dtype: float64 \n",
      "\n",
      "Age       9.232682\n",
      "Rating    0.661628\n",
      "dtype: float64 \n",
      "\n"
     ]
    }
   ],
   "source": [
    "pd.set_option('display.max_columns', 0)\n",
    "pd.set_option('display.max_rows', 6)\n",
    "display(df)\n",
    "print (df.mean(),'\\n')\n",
    "print (df.std(),'\\n' )   \n"
   ]
  },
  {
   "cell_type": "code",
   "execution_count": 19,
   "metadata": {},
   "outputs": [
    {
     "name": "stdout",
     "output_type": "stream",
     "text": [
      "       Name\n",
      "count    12\n",
      "unique   12\n",
      "top     Vin\n",
      "freq      1\n",
      "             Age     Rating\n",
      "count  12.000000  12.000000\n",
      "mean   31.833333   3.743333\n",
      "std     9.232682   0.661628\n",
      "...          ...        ...\n",
      "50%    29.500000   3.790000\n",
      "75%    35.500000   4.132500\n",
      "max    51.000000   4.800000\n",
      "\n",
      "[8 rows x 2 columns]\n",
      "       Name   Age   Rating\n",
      "count    12  12.0  12.0000\n",
      "unique   12   NaN      NaN\n",
      "top     Vin   NaN      NaN\n",
      "...     ...   ...      ...\n",
      "50%     NaN  29.5   3.7900\n",
      "75%     NaN  35.5   4.1325\n",
      "max     NaN  51.0   4.8000\n",
      "\n",
      "[11 rows x 3 columns]\n"
     ]
    }
   ],
   "source": [
    "#'include' is the argument which is used to pass necessary information\n",
    "#regarding what columns  need to be considered for summarizing.\n",
    "print (df.describe(include=['object']))\n",
    "print (df.describe(include=['number']))\n",
    "print (df.describe(include='all') )"
   ]
  },
  {
   "cell_type": "markdown",
   "metadata": {},
   "source": [
    "  #  Function Application\n",
    "  https://www.tutorialspoint.com/python_pandas/python_pandas_function_application.htm"
   ]
  },
  {
   "cell_type": "markdown",
   "metadata": {},
   "source": [
    " Table-wise Function Application"
   ]
  },
  {
   "cell_type": "code",
   "execution_count": 20,
   "metadata": {},
   "outputs": [
    {
     "name": "stdout",
     "output_type": "stream",
     "text": [
      "       col1      col2      col3\n",
      "0 -0.768350  1.127704 -0.005990\n",
      "1  1.146748 -1.106528 -1.843031\n",
      "2 -0.478870  0.565571  0.400583\n",
      "3 -0.112534  1.629066 -0.377755\n",
      "4  0.691921  0.748644  0.213048 \n",
      "\n",
      "col1    0.095783\n",
      "col2    0.592891\n",
      "col3   -0.322629\n",
      "dtype: float64 \n",
      "\n",
      "0    0.117788\n",
      "1   -0.600937\n",
      "2    0.162428\n",
      "3    0.379592\n",
      "4    0.551204\n",
      "dtype: float64\n"
     ]
    }
   ],
   "source": [
    "#import pandas as pd\n",
    "import numpy as np\n",
    "\n",
    "\n",
    "\n",
    "df = pd.DataFrame(np.random.randn(5,3),columns=['col1','col2','col3'])\n",
    "print(df,'\\n')\n",
    "print (df.apply(np.mean),'\\n')#performs column wise, taking each column as an array-like\n",
    "#df.apply(np.mean,axis=1) # performed row wise.\n",
    "print (df.apply(np.mean,axis=1))  "
   ]
  },
  {
   "cell_type": "code",
   "execution_count": 23,
   "metadata": {},
   "outputs": [
    {
     "data": {
      "text/plain": [
       "0    -76.835015\n",
       "1    114.674799\n",
       "2    -47.887046\n",
       "3    -11.253440\n",
       "4     69.192079\n",
       "Name: col1, dtype: float64"
      ]
     },
     "execution_count": 23,
     "metadata": {},
     "output_type": "execute_result"
    }
   ],
   "source": [
    "  df['col1'].map(lambda x:x*100) # applay to  column ['col1']"
   ]
  },
  {
   "cell_type": "markdown",
   "metadata": {},
   "source": [
    "# Row or Column Wise Function Application\n",
    "\n",
    "Arbitrary functions can be applied along the axes of a DataFrame or Panel using the apply() method, which, like the descriptive statistics methods, takes an optional axis argument. By default, the operation performs column wise, taking each column as an array-like.\n",
    "\n",
    "axis=0 column (default)\n",
    "\n",
    "axis=1 Row"
   ]
  },
  {
   "cell_type": "code",
   "execution_count": 29,
   "metadata": {},
   "outputs": [
    {
     "name": "stdout",
     "output_type": "stream",
     "text": [
      "       col1      col2      col3\n",
      "0 -0.768350  1.127704 -0.005990\n",
      "1  1.146748 -1.106528 -1.843031\n",
      "2 -0.478870  0.565571  0.400583\n",
      "3 -0.112534  1.629066 -0.377755\n",
      "4  0.691921  0.748644  0.213048 \n",
      "\n",
      "0    0.117788\n",
      "1   -0.600937\n",
      "2    0.162428\n",
      "3    0.379592\n",
      "4    0.551204\n",
      "dtype: float64 \n",
      "\n",
      "col1    0.095783\n",
      "col2    0.592891\n",
      "col3   -0.322629\n",
      "dtype: float64 \n",
      "\n",
      "       col1      col2      col3\n",
      "0 -0.768350  1.127704 -0.005990\n",
      "1  1.146748 -1.106528 -1.843031\n",
      "2 -0.478870  0.565571  0.400583\n",
      "3 -0.112534  1.629066 -0.377755\n",
      "4  0.691921  0.748644  0.213048\n"
     ]
    }
   ],
   "source": [
    "print (df,'\\n')\n",
    "print (df.apply(np.mean,axis=1),'\\n')# applay to rows\n",
    "print (df.apply(np.mean),'\\n')# applay to column\n",
    "print (df )"
   ]
  },
  {
   "cell_type": "code",
   "execution_count": 34,
   "metadata": {},
   "outputs": [
    {
     "name": "stdout",
     "output_type": "stream",
     "text": [
      "col1    38.611034\n",
      "col2    54.865710\n",
      "col3    15.062265\n",
      "dtype: float64 \n",
      "\n",
      "0    37.982572\n",
      "1    39.685714\n",
      "2    19.142698\n",
      "3    54.136936\n",
      "4    24.492218\n",
      "dtype: float64\n"
     ]
    }
   ],
   "source": [
    "x =df.apply(lambda x: 33*x.max() - x.min())\n",
    "print(x,'\\n')\n",
    "x =df.apply(lambda x: 33*x.max() - x.min(),axis=1)\n",
    "print(x)"
   ]
  },
  {
   "cell_type": "code",
   "execution_count": null,
   "metadata": {},
   "outputs": [],
   "source": [
    " "
   ]
  },
  {
   "cell_type": "code",
   "execution_count": null,
   "metadata": {},
   "outputs": [],
   "source": [
    " "
   ]
  },
  {
   "cell_type": "code",
   "execution_count": null,
   "metadata": {},
   "outputs": [],
   "source": []
  }
 ],
 "metadata": {
  "anaconda-cloud": {},
  "kernelspec": {
   "display_name": "Python 3",
   "language": "python",
   "name": "python3"
  },
  "language_info": {
   "codemirror_mode": {
    "name": "ipython",
    "version": 3
   },
   "file_extension": ".py",
   "mimetype": "text/x-python",
   "name": "python",
   "nbconvert_exporter": "python",
   "pygments_lexer": "ipython3",
   "version": "3.6.4"
  }
 },
 "nbformat": 4,
 "nbformat_minor": 4
}
